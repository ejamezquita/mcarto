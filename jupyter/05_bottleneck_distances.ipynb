{
 "cells": [
  {
   "cell_type": "code",
   "execution_count": 1,
   "id": "3b83e4b3-3067-4581-95e8-3c6a7384f2db",
   "metadata": {},
   "outputs": [],
   "source": [
    "import matplotlib.pyplot as plt\n",
    "import numpy as np\n",
    "import pandas as pd\n",
    "\n",
    "import gudhi as gd\n",
    "import json\n",
    "\n",
    "from glob import glob\n",
    "import os\n",
    "import persim"
   ]
  },
  {
   "cell_type": "code",
   "execution_count": 2,
   "id": "7e8ea050-023a-48e2-885c-17b63d212d3c",
   "metadata": {},
   "outputs": [],
   "source": [
    "def pers2numpy(pers):\n",
    "    bd = np.zeros((len(pers), 3), dtype=float)\n",
    "    for i in range(len(bd)):\n",
    "        bd[i, 0] = pers[i][0]\n",
    "        bd[i, 1:] = pers[i][1]\n",
    "    return bd\n",
    "\n",
    "def get_diagrams(jsonfiles, ndims, remove_inf = False):\n",
    "    # diag[j-th cell][k-th dimension]\n",
    "    diags = [ [np.empty((0,2)) for k in range(ndims)] for j in range(len(jsonfiles))]\n",
    "\n",
    "    for j in range(len(jsonfiles)):\n",
    "        \n",
    "        if jsonfiles[j] is not None:\n",
    "            with open(jsonfiles[j]) as f:\n",
    "                diag = [tuple(x) for x in json.load(f)]\n",
    "            diag = pers2numpy(diag)\n",
    "        \n",
    "            for k in range(ndims):\n",
    "                diags[j][k] = diag[diag[:,0] == k, 1:]\n",
    "    \n",
    "    if remove_inf:\n",
    "        for j in range(len(diags)):\n",
    "            for k in range(ndims):\n",
    "                diags[j][k]  = np.atleast_2d(diags[j][k][np.all(diags[j][k] < np.inf, axis=1), :].squeeze())\n",
    "\n",
    "    return diags"
   ]
  },
  {
   "cell_type": "code",
   "execution_count": 3,
   "id": "a1ca1d33-5c5a-4c34-bbf6-8a94b88f2a93",
   "metadata": {},
   "outputs": [
    {
     "name": "stdout",
     "output_type": "stream",
     "text": [
      "[26 85]\t../distance/D2/GLYMA_05G092200_vs_GLYMA_17G195900_gene/\n"
     ]
    }
   ],
   "source": [
    "stepsize, PP, bw = 3,6,10\n",
    "ndims = 3\n",
    "wsrc = '../cell_dams/'\n",
    "nsrc = '../nuclear_mask/'\n",
    "tsrc = '../translocs/'\n",
    "ksrc = '../kde/'\n",
    "sample = 'D2'\n",
    "\n",
    "ksrc += sample + os.sep\n",
    "\n",
    "\n",
    "metacell = pd.read_csv(ksrc + sample + '_cells_metadata.csv')\n",
    "metatrans = pd.read_csv(ksrc + sample + '_transcripts_metadata.csv')\n",
    "transcell = pd.read_csv(ksrc + sample + '_transcells_metadata.csv')\n",
    "transcriptomes = np.asarray(list(metatrans['gene']))\n",
    "\n",
    "TT = ['GLYMA_05G092200','GLYMA_17G195900']\n",
    "tidxs = np.array([np.argwhere(transcriptomes == TT[i])[0][0] for i in range(len(TT))])\n",
    "\n",
    "normtype = 'gene'\n",
    "level = 'sup'\n",
    "\n",
    "gsrc = '../{}level/'.format(level)\n",
    "gsrc += sample + os.sep\n",
    "\n",
    "dst = '../distance/{}/{}_vs_{}_{}/'.format(sample, *transcriptomes[tidxs], normtype)\n",
    "print(tidxs, dst, sep='\\t')\n",
    "\n",
    "if not os.path.isdir(dst):\n",
    "    os.mkdir(dst)"
   ]
  },
  {
   "cell_type": "code",
   "execution_count": 4,
   "id": "c25b49d2-290e-4d3c-bf59-efc69700ca0e",
   "metadata": {},
   "outputs": [
    {
     "name": "stdout",
     "output_type": "stream",
     "text": [
      "(968, 5)\n",
      "Max ratio:\t 0.49 %\n"
     ]
    },
    {
     "data": {
      "text/html": [
       "<div>\n",
       "<style scoped>\n",
       "    .dataframe tbody tr th:only-of-type {\n",
       "        vertical-align: middle;\n",
       "    }\n",
       "\n",
       "    .dataframe tbody tr th {\n",
       "        vertical-align: top;\n",
       "    }\n",
       "\n",
       "    .dataframe thead th {\n",
       "        text-align: right;\n",
       "    }\n",
       "</style>\n",
       "<table border=\"1\" class=\"dataframe\">\n",
       "  <thead>\n",
       "    <tr style=\"text-align: right;\">\n",
       "      <th></th>\n",
       "      <th>742</th>\n",
       "      <th>842</th>\n",
       "      <th>2052</th>\n",
       "      <th>1145</th>\n",
       "      <th>896</th>\n",
       "      <th>2152</th>\n",
       "      <th>558</th>\n",
       "      <th>751</th>\n",
       "      <th>746</th>\n",
       "      <th>236</th>\n",
       "      <th>...</th>\n",
       "      <th>303</th>\n",
       "      <th>1782</th>\n",
       "      <th>1724</th>\n",
       "      <th>1571</th>\n",
       "      <th>1583</th>\n",
       "      <th>1454</th>\n",
       "      <th>2430</th>\n",
       "      <th>1143</th>\n",
       "      <th>752</th>\n",
       "      <th>513</th>\n",
       "    </tr>\n",
       "  </thead>\n",
       "  <tbody>\n",
       "    <tr>\n",
       "      <th>26</th>\n",
       "      <td>249</td>\n",
       "      <td>317</td>\n",
       "      <td>581</td>\n",
       "      <td>307</td>\n",
       "      <td>195</td>\n",
       "      <td>1026</td>\n",
       "      <td>529</td>\n",
       "      <td>686</td>\n",
       "      <td>340</td>\n",
       "      <td>694</td>\n",
       "      <td>...</td>\n",
       "      <td>438</td>\n",
       "      <td>406</td>\n",
       "      <td>187</td>\n",
       "      <td>183</td>\n",
       "      <td>271</td>\n",
       "      <td>241</td>\n",
       "      <td>62</td>\n",
       "      <td>152</td>\n",
       "      <td>396</td>\n",
       "      <td>806</td>\n",
       "    </tr>\n",
       "    <tr>\n",
       "      <th>85</th>\n",
       "      <td>363</td>\n",
       "      <td>1239</td>\n",
       "      <td>1022</td>\n",
       "      <td>572</td>\n",
       "      <td>933</td>\n",
       "      <td>1182</td>\n",
       "      <td>531</td>\n",
       "      <td>1808</td>\n",
       "      <td>975</td>\n",
       "      <td>1305</td>\n",
       "      <td>...</td>\n",
       "      <td>228</td>\n",
       "      <td>156</td>\n",
       "      <td>48</td>\n",
       "      <td>62</td>\n",
       "      <td>107</td>\n",
       "      <td>131</td>\n",
       "      <td>49</td>\n",
       "      <td>86</td>\n",
       "      <td>138</td>\n",
       "      <td>371</td>\n",
       "    </tr>\n",
       "  </tbody>\n",
       "</table>\n",
       "<p>2 rows × 968 columns</p>\n",
       "</div>"
      ],
      "text/plain": [
       "    742   842  2052  1145  896  2152  558   751  746   236  ...  303  1782  \\\n",
       "26  249   317   581   307  195  1026  529   686  340   694  ...  438   406   \n",
       "85  363  1239  1022   572  933  1182  531  1808  975  1305  ...  228   156   \n",
       "\n",
       "    1724  1571  1583  1454  2430  1143  752  513  \n",
       "26   187   183   271   241    62   152  396  806  \n",
       "85    48    62   107   131    49    86  138  371  \n",
       "\n",
       "[2 rows x 968 columns]"
      ]
     },
     "execution_count": 4,
     "metadata": {},
     "output_type": "execute_result"
    }
   ],
   "source": [
    "focus = pd.read_csv('../data/D2_data/scattersutton.csv')\n",
    "focus = focus[ focus['Bact'] == 'Infected' ]\n",
    "print(focus.shape)\n",
    "\n",
    "metafocus = np.zeros( (len(focus),1+metacell.shape[1]) )\n",
    "for i in range(len(metafocus)):\n",
    "    foo = metacell[metacell['orig_cellID'] == focus.iloc[i,0]].iloc[0,:]\n",
    "    metafocus[i,0] = foo.name\n",
    "    metafocus[i,1:] = foo.values\n",
    "\n",
    "transfocus = transcell.loc[tidxs, metacell.loc[metafocus[:,0].astype(int), 'ndimage_cellID'].values.astype(str)]\n",
    "\n",
    "if   normtype == 'both':\n",
    "    ratios = transfocus.values/np.sum(transfocus.values, axis=None)\n",
    "elif normtype == 'cell':\n",
    "    ratios = transfocus.values/np.sum(transfocus.values, axis=0)\n",
    "elif normtype == 'gene':\n",
    "    ratios = transfocus.values/np.sum(transfocus.values, axis=1).reshape(-1,1)\n",
    "\n",
    "print('Max ratio:\\t', 100*np.round(np.max(ratios),4), '%')\n",
    "transfocus"
   ]
  },
  {
   "cell_type": "code",
   "execution_count": 5,
   "id": "a6cc229d-ebe5-4cfe-8b69-b71228f850a3",
   "metadata": {},
   "outputs": [
    {
     "name": "stdout",
     "output_type": "stream",
     "text": [
      "[968 968]\n"
     ]
    }
   ],
   "source": [
    "print(np.sum(ratios > 0, axis=1))\n",
    "jsonfiles = [ [ None for j in range(ratios.shape[1]) ] for i in range(ratios.shape[0]) ]\n",
    "\n",
    "for i in range(len(jsonfiles)):\n",
    "    foo = '{}{}/{}_-_{}level_p{}_s{}_bw{}_c{:06d}.json'\n",
    "    for j in range(len(metafocus)):\n",
    "        filename = foo.format(gsrc, transcriptomes[tidxs[i]],transcriptomes[tidxs[i]],level,PP,stepsize,bw,int(metafocus[j,0]))\n",
    "        if os.path.isfile(filename):\n",
    "            jsonfiles[i][j] = filename"
   ]
  },
  {
   "cell_type": "code",
   "execution_count": 7,
   "id": "d3ff7489-7eb3-48d5-9290-82d7117f57de",
   "metadata": {},
   "outputs": [
    {
     "name": "stdout",
     "output_type": "stream",
     "text": [
      "1.4089246121570217e-08\n"
     ]
    }
   ],
   "source": [
    "print(maxx)"
   ]
  },
  {
   "cell_type": "code",
   "execution_count": 6,
   "id": "3a483c5f-d35a-4b0b-b0a8-6084f4fee821",
   "metadata": {},
   "outputs": [
    {
     "name": "stdout",
     "output_type": "stream",
     "text": [
      "0\t2\t968\t3\n",
      "1\t2\t968\t3\n",
      "Initial number of life-birth pairs\t: 117646\n",
      "[1.40560981e-08 1.40892461e-08 9.24741480e-09]\t1.4089246121570217e-08\t1\n",
      "(array([1885,   51,    0]), array([0, 1, 2, 3]))\n"
     ]
    }
   ],
   "source": [
    "#diag[transcript ID][cell ID][dimension]\n",
    "\n",
    "orig_diags = [None for i in range(len(jsonfiles))]\n",
    "\n",
    "for i in range(len(orig_diags)):\n",
    "    orig_diags[i] = get_diagrams(jsonfiles[i], ndims, remove_inf=True)\n",
    "    print(i, len(orig_diags), len(orig_diags[i]), len(orig_diags[i][0]), sep='\\t')\n",
    "\n",
    "numpairs = 0\n",
    "maxk = np.zeros(ndims)\n",
    "maxlife = np.zeros((len(orig_diags), len(orig_diags[0]), len(orig_diags[0][0])))\n",
    "\n",
    "for i in range(len(orig_diags)):\n",
    "    for j in range(len(orig_diags[i])):\n",
    "        for k in range(len(orig_diags[i][j])):\n",
    "            orig_diags[i][j][k] *= ratios[i][j]\n",
    "            numpairs += len(orig_diags[i][j][k])\n",
    "            if len(orig_diags[i][j][k]) > 0:\n",
    "                maxlife[i,j,k] = orig_diags[i][j][k][0,1] - orig_diags[i][j][k][0,0]\n",
    "                if maxk[k] < np.max(orig_diags[i][j][k]):\n",
    "                    maxk[k] = np.max(orig_diags[i][j][k])\n",
    "\n",
    "maxx = np.max(maxk)\n",
    "print('Initial number of life-birth pairs\\t:', numpairs)\n",
    "print(maxk, np.max(maxk), np.argmax(maxk), sep='\\t')\n",
    "\n",
    "rescale = 256/maxx\n",
    "maxlife *= rescale\n",
    "argmaxlife = np.argmax(maxlife, axis=-1)\n",
    "print(np.histogram(argmaxlife.ravel(), bins=range(ndims+1)))"
   ]
  },
  {
   "cell_type": "code",
   "execution_count": 46,
   "id": "a51f2ff0-81f1-4536-b5f5-69aceba706ad",
   "metadata": {},
   "outputs": [
    {
     "data": {
      "image/png": "[encoded data removed]",
      "text/plain": [
       "<Figure size 600x300 with 1 Axes>"
      ]
     },
     "metadata": {},
     "output_type": "display_data"
    }
   ],
   "source": [
    "fs = 16; marker = ['D', 'o', 's']; color = ['red','cornflowerblue','gold']\n",
    "fig, ax = plt.subplots(1,1, figsize=(6,3), sharex=True, sharey=True)\n",
    "ax = np.atleast_1d(ax).ravel(); i = 0\n",
    "\n",
    "bins = np.linspace(np.min(maxlife), np.max(maxlife)+1, 50)\n",
    "for k in range(maxlife.shape[2]):\n",
    "    ax[i].hist(maxlife[:, :, k].ravel(), bins=bins, color=color[k], alpha=0.5, label='$H_{}$'.format(k))\n",
    "ax[i].legend()\n",
    "fig.tight_layout();"
   ]
  },
  {
   "cell_type": "code",
   "execution_count": 51,
   "id": "9e20dbed-a4af-4ba6-850c-d44603399c72",
   "metadata": {},
   "outputs": [
    {
     "data": {
      "text/plain": [
       "207.40175982789157"
      ]
     },
     "execution_count": 51,
     "metadata": {},
     "output_type": "execute_result"
    }
   ],
   "source": [
    "np.max(maxlife[:, :, 0])"
   ]
  },
  {
   "cell_type": "code",
   "execution_count": 22,
   "id": "b83b7c21-b939-4b10-bc59-ebe77a511268",
   "metadata": {},
   "outputs": [
    {
     "name": "stdout",
     "output_type": "stream",
     "text": [
      "Post number of life-birth pairs\t: 29567\n",
      "Reduced to null diagrams:\t 2\n"
     ]
    }
   ],
   "source": [
    "diags = [ [ [ rescale*orig_diags[i][j][k].copy()  for k in range(ndims) ] for j in range(len(orig_diags[i])) ] for i in range(len(orig_diags)) ]\n",
    "\n",
    "numpairs, reduced = 0,0\n",
    "minlife = 8\n",
    "\n",
    "for i in range(len(diags)):\n",
    "    for j in range(len(diags[i])):\n",
    "        for k in range(len(diags[i][j])):\n",
    "            diags[i][j][k] = np.atleast_2d(diags[i][j][k][np.diff(diags[i][j][k]).squeeze() > minlife, :].squeeze())\n",
    "            numpairs += len(diags[i][j][k])\n",
    "         \n",
    "        k = argmaxlife[i,j]\n",
    "        if (len(diags[i][j][k]) == 0) & (len(orig_diags[i][j][k]) > 0):\n",
    "            diags[i][j][k] = rescale*np.atleast_2d(orig_diags[i][j][k][0])\n",
    "            numpairs += 1\n",
    "            reduced +=1\n",
    "            \n",
    "print('Post number of life-birth pairs\\t:', numpairs)\n",
    "print('Reduced to null diagrams:\\t', reduced)"
   ]
  },
  {
   "cell_type": "code",
   "execution_count": 23,
   "id": "d4cc152c-8bff-4bd0-821c-d28daa900a6a",
   "metadata": {},
   "outputs": [
    {
     "name": "stdout",
     "output_type": "stream",
     "text": [
      "1936\t3\n"
     ]
    }
   ],
   "source": [
    "diagh = [ [ None for k in range(ndims) ] for i in range(np.sum(ratios > 0)) ]\n",
    "\n",
    "counter = 0\n",
    "for i in range(len(diags)):\n",
    "    for j in np.nonzero(ratios[i] > 0)[0]:\n",
    "        for k in range(len(diags[i][j])):\n",
    "            diagh[counter][k] = diags[i][j][k]\n",
    "        counter += 1\n",
    "\n",
    "print(len(diagh), len(diagh[0]), sep='\\t')"
   ]
  },
  {
   "cell_type": "code",
   "execution_count": 40,
   "id": "250b31bb-ec43-45f6-b4a0-1fb2067b5818",
   "metadata": {
    "scrolled": true
   },
   "outputs": [],
   "source": [
    "initrow = 10\n",
    "endrow = 100\n",
    "\n",
    "bottleneck = np.zeros((endrow - initrow, len(diagh)))\n",
    "\n",
    "ix = 0\n",
    "for i in range(initrow, endrow, 1):\n",
    "    for j in range(i+1, bottleneck.shape[1]):\n",
    "        dk = np.zeros(ndims)\n",
    "        for k in range(len(dk)):\n",
    "            if (len(diagh[i][k]) > 0) | (len(diagh[j][k]) > 0):\n",
    "                dk[k] = persim.bottleneck(diagh[i][k], diagh[j][k], matching=False)\n",
    "                #dk[k] = ix*j\n",
    "        bottleneck[ix,j] = np.max(dk)\n",
    "    ix += 1"
   ]
  },
  {
   "cell_type": "code",
   "execution_count": 27,
   "id": "58e1ad3e-9b66-4bbb-b89d-8fb6859ec226",
   "metadata": {},
   "outputs": [
    {
     "name": "stdout",
     "output_type": "stream",
     "text": [
      "../distance/D2/GLYMA_05G092200_vs_GLYMA_17G195900_gene/GLYMA_05G092200_vs_GLYMA_17G195900_gene_suplevel_bottleneck_00000_00009.csv\n"
     ]
    }
   ],
   "source": [
    "initrow, endrow = 0,9\n",
    "filename = dst + dst.split(os.sep)[-2] + '_{}level_bottleneck_{:05d}_{:05d}.csv'.format(level, initrow, endrow)\n",
    "print(filename)\n",
    "#pd.DataFrame(bottleneck).to_csv(filename, index=False, header=None)"
   ]
  },
  {
   "cell_type": "markdown",
   "id": "e3ea0f05-ba70-424f-a36e-e122e8ab3fb1",
   "metadata": {},
   "source": [
    "# Bottleneck\n"
   ]
  },
  {
   "cell_type": "code",
   "execution_count": 88,
   "id": "13b4d77d-ddb9-48b3-b192-aafcd1da6e01",
   "metadata": {},
   "outputs": [
    {
     "name": "stdout",
     "output_type": "stream",
     "text": [
      "[87.02691808  6.20601698  0.        ]\n",
      "87.0\n"
     ]
    }
   ],
   "source": [
    "cidx = 300\n",
    "dk = np.zeros(ndims)\n",
    "match = [None for i in range(len(dk))]\n",
    "for k in range(len(dk)):\n",
    "    if (len(diags[0][cidx][k]) > 0) | (len(diags[1][cidx][k]) > 0):\n",
    "        dk[k], match[k] = persim.bottleneck(diags[0][cidx][k], diags[1][cidx][k], matching=True)\n",
    "print(dk, np.round(np.max(dk),1), sep='\\n')"
   ]
  },
  {
   "cell_type": "code",
   "execution_count": 89,
   "id": "e75ec6a3-cbfc-49db-a11f-3ce7d326bdb5",
   "metadata": {},
   "outputs": [
    {
     "data": {
      "image/png": "[encoded data removed]",
      "text/plain": [
       "<Figure size 600x600 with 1 Axes>"
      ]
     },
     "metadata": {},
     "output_type": "display_data"
    }
   ],
   "source": [
    "#### aux = np.max(maxlife[:, cidx, :])\n",
    "fs = 16; marker = ['D', 'o', 's']; color = ['red','cornflowerblue','gold']\n",
    "fig, ax = plt.subplots(1,1, figsize=(6,6), sharex=True, sharey=True)\n",
    "ax = np.atleast_1d(ax).ravel(); i = 0\n",
    "\n",
    "for j in range(2):\n",
    "    for k in range(ndims):\n",
    "        if len(diags[j][cidx][k]) > 0:\n",
    "            ax[i].scatter(diags[j][cidx][k][:,0], diags[j][cidx][k][:,1], alpha=0.75, label='$H_{}$'.format(k), \n",
    "                          marker=marker[k], c=color[j], s=50, linewidth=1, edgecolor='k', zorder=k+4)\n",
    "k = 0\n",
    "for m in range(len(match[k])):\n",
    "    if match[k][m,0] == -1:\n",
    "        mid = np.mean(diags[1][cidx][k][ int(match[k][m,1]) ])\n",
    "        x1,y1 = mid,mid\n",
    "    else:\n",
    "        x1,y1 = diags[0][cidx][k][ int(match[k][m,0]) ]\n",
    "    \n",
    "    if match[k][m,1] == -1:\n",
    "        mid = np.mean(diags[0][cidx][k][ int(match[k][m,0]) ])\n",
    "        x2,y2 = mid,mid\n",
    "    else:\n",
    "        x2,y2 = diags[1][cidx][k][ int(match[k][m,1]) ]\n",
    "    if m != np.argmax(match[k][:,2]):\n",
    "        ax[i].plot([x1,x2],[y1,y2], c='k', zorder=1, alpha=0.75)\n",
    "    else:\n",
    "        ax[i].plot([x1,x2],[y1,y2], c='magenta', lw=4, zorder=2, alpha=1)\n",
    "    \n",
    "ax[i].scatter([0, aux] , [0, aux] , alpha=0)\n",
    "ax[i].set_aspect('equal')\n",
    "#ax[i].legend(loc='lower right', fontsize=fs)\n",
    "ax[i].axline(xy1=(0,0), slope=1, c='k', zorder=3, lw=3)\n",
    "ax[i].tick_params(labelsize=fs-3)\n",
    "ax[i].margins(0)\n",
    "ax[i].set_facecolor('snow')\n",
    "\n",
    "fig.tight_layout()"
   ]
  },
  {
   "cell_type": "code",
   "execution_count": 63,
   "id": "b5d4964c-0088-4f69-90c2-b792c171ccba",
   "metadata": {},
   "outputs": [
    {
     "data": {
      "text/plain": [
       "18169886294.205025"
      ]
     },
     "execution_count": 63,
     "metadata": {},
     "output_type": "execute_result"
    }
   ],
   "source": []
  }
 ],
 "metadata": {
  "kernelspec": {
   "display_name": "Python 3 (ipykernel)",
   "language": "python",
   "name": "python3"
  },
  "language_info": {
   "codemirror_mode": {
    "name": "ipython",
    "version": 3
   },
   "file_extension": ".py",
   "mimetype": "text/x-python",
   "name": "python",
   "nbconvert_exporter": "python",
   "pygments_lexer": "ipython3",
   "version": "3.10.12"
  }
 },
 "nbformat": 4,
 "nbformat_minor": 5
}
