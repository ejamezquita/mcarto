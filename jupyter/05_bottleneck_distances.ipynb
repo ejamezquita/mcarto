{
 "cells": [
  {
   "cell_type": "code",
   "execution_count": 1,
   "id": "3b83e4b3-3067-4581-95e8-3c6a7384f2db",
   "metadata": {},
   "outputs": [],
   "source": [
    "import matplotlib.pyplot as plt\n",
    "import numpy as np\n",
    "import pandas as pd\n",
    "\n",
    "import gudhi as gd\n",
    "import json\n",
    "\n",
    "from glob import glob\n",
    "import os\n",
    "import persim\n",
    "\n",
    "from importlib import reload\n",
    "import utils"
   ]
  },
  {
   "cell_type": "code",
   "execution_count": 2,
   "id": "a1ca1d33-5c5a-4c34-bbf6-8a94b88f2a93",
   "metadata": {},
   "outputs": [
    {
     "name": "stdout",
     "output_type": "stream",
     "text": [
      "Max ratio by gene:\t5.78%\n"
     ]
    },
    {
     "data": {
      "text/html": [
       "<div>\n",
       "<style scoped>\n",
       "    .dataframe tbody tr th:only-of-type {\n",
       "        vertical-align: middle;\n",
       "    }\n",
       "\n",
       "    .dataframe tbody tr th {\n",
       "        vertical-align: top;\n",
       "    }\n",
       "\n",
       "    .dataframe thead th {\n",
       "        text-align: right;\n",
       "    }\n",
       "</style>\n",
       "<table border=\"1\" class=\"dataframe\">\n",
       "  <thead>\n",
       "    <tr style=\"text-align: right;\">\n",
       "      <th></th>\n",
       "      <th>742</th>\n",
       "      <th>842</th>\n",
       "      <th>2052</th>\n",
       "      <th>1145</th>\n",
       "      <th>896</th>\n",
       "      <th>2152</th>\n",
       "      <th>558</th>\n",
       "      <th>751</th>\n",
       "      <th>746</th>\n",
       "      <th>236</th>\n",
       "      <th>...</th>\n",
       "      <th>303</th>\n",
       "      <th>1782</th>\n",
       "      <th>1724</th>\n",
       "      <th>1571</th>\n",
       "      <th>1583</th>\n",
       "      <th>1454</th>\n",
       "      <th>2430</th>\n",
       "      <th>1143</th>\n",
       "      <th>752</th>\n",
       "      <th>513</th>\n",
       "    </tr>\n",
       "  </thead>\n",
       "  <tbody>\n",
       "    <tr>\n",
       "      <th>85</th>\n",
       "      <td>363</td>\n",
       "      <td>1247</td>\n",
       "      <td>1026</td>\n",
       "      <td>572</td>\n",
       "      <td>938</td>\n",
       "      <td>1185</td>\n",
       "      <td>531</td>\n",
       "      <td>1819</td>\n",
       "      <td>984</td>\n",
       "      <td>1314</td>\n",
       "      <td>...</td>\n",
       "      <td>228</td>\n",
       "      <td>156</td>\n",
       "      <td>48</td>\n",
       "      <td>62</td>\n",
       "      <td>107</td>\n",
       "      <td>132</td>\n",
       "      <td>49</td>\n",
       "      <td>86</td>\n",
       "      <td>138</td>\n",
       "      <td>371</td>\n",
       "    </tr>\n",
       "    <tr>\n",
       "      <th>14</th>\n",
       "      <td>0</td>\n",
       "      <td>0</td>\n",
       "      <td>0</td>\n",
       "      <td>1</td>\n",
       "      <td>0</td>\n",
       "      <td>0</td>\n",
       "      <td>0</td>\n",
       "      <td>0</td>\n",
       "      <td>0</td>\n",
       "      <td>0</td>\n",
       "      <td>...</td>\n",
       "      <td>0</td>\n",
       "      <td>0</td>\n",
       "      <td>0</td>\n",
       "      <td>0</td>\n",
       "      <td>0</td>\n",
       "      <td>0</td>\n",
       "      <td>0</td>\n",
       "      <td>0</td>\n",
       "      <td>1</td>\n",
       "      <td>0</td>\n",
       "    </tr>\n",
       "    <tr>\n",
       "      <th>74</th>\n",
       "      <td>7</td>\n",
       "      <td>19</td>\n",
       "      <td>12</td>\n",
       "      <td>11</td>\n",
       "      <td>12</td>\n",
       "      <td>17</td>\n",
       "      <td>8</td>\n",
       "      <td>11</td>\n",
       "      <td>21</td>\n",
       "      <td>20</td>\n",
       "      <td>...</td>\n",
       "      <td>7</td>\n",
       "      <td>3</td>\n",
       "      <td>1</td>\n",
       "      <td>1</td>\n",
       "      <td>1</td>\n",
       "      <td>2</td>\n",
       "      <td>0</td>\n",
       "      <td>5</td>\n",
       "      <td>3</td>\n",
       "      <td>8</td>\n",
       "    </tr>\n",
       "    <tr>\n",
       "      <th>28</th>\n",
       "      <td>5</td>\n",
       "      <td>17</td>\n",
       "      <td>15</td>\n",
       "      <td>26</td>\n",
       "      <td>17</td>\n",
       "      <td>32</td>\n",
       "      <td>20</td>\n",
       "      <td>15</td>\n",
       "      <td>11</td>\n",
       "      <td>23</td>\n",
       "      <td>...</td>\n",
       "      <td>3</td>\n",
       "      <td>0</td>\n",
       "      <td>0</td>\n",
       "      <td>1</td>\n",
       "      <td>4</td>\n",
       "      <td>1</td>\n",
       "      <td>0</td>\n",
       "      <td>2</td>\n",
       "      <td>4</td>\n",
       "      <td>7</td>\n",
       "    </tr>\n",
       "    <tr>\n",
       "      <th>84</th>\n",
       "      <td>1</td>\n",
       "      <td>10</td>\n",
       "      <td>12</td>\n",
       "      <td>7</td>\n",
       "      <td>18</td>\n",
       "      <td>13</td>\n",
       "      <td>6</td>\n",
       "      <td>24</td>\n",
       "      <td>4</td>\n",
       "      <td>27</td>\n",
       "      <td>...</td>\n",
       "      <td>6</td>\n",
       "      <td>5</td>\n",
       "      <td>1</td>\n",
       "      <td>3</td>\n",
       "      <td>8</td>\n",
       "      <td>11</td>\n",
       "      <td>1</td>\n",
       "      <td>7</td>\n",
       "      <td>6</td>\n",
       "      <td>19</td>\n",
       "    </tr>\n",
       "    <tr>\n",
       "      <th>27</th>\n",
       "      <td>0</td>\n",
       "      <td>0</td>\n",
       "      <td>1</td>\n",
       "      <td>2</td>\n",
       "      <td>0</td>\n",
       "      <td>0</td>\n",
       "      <td>0</td>\n",
       "      <td>0</td>\n",
       "      <td>1</td>\n",
       "      <td>2</td>\n",
       "      <td>...</td>\n",
       "      <td>8</td>\n",
       "      <td>0</td>\n",
       "      <td>0</td>\n",
       "      <td>0</td>\n",
       "      <td>0</td>\n",
       "      <td>0</td>\n",
       "      <td>0</td>\n",
       "      <td>2</td>\n",
       "      <td>0</td>\n",
       "      <td>1</td>\n",
       "    </tr>\n",
       "    <tr>\n",
       "      <th>74</th>\n",
       "      <td>7</td>\n",
       "      <td>19</td>\n",
       "      <td>12</td>\n",
       "      <td>11</td>\n",
       "      <td>12</td>\n",
       "      <td>17</td>\n",
       "      <td>8</td>\n",
       "      <td>11</td>\n",
       "      <td>21</td>\n",
       "      <td>20</td>\n",
       "      <td>...</td>\n",
       "      <td>7</td>\n",
       "      <td>3</td>\n",
       "      <td>1</td>\n",
       "      <td>1</td>\n",
       "      <td>1</td>\n",
       "      <td>2</td>\n",
       "      <td>0</td>\n",
       "      <td>5</td>\n",
       "      <td>3</td>\n",
       "      <td>8</td>\n",
       "    </tr>\n",
       "    <tr>\n",
       "      <th>26</th>\n",
       "      <td>249</td>\n",
       "      <td>317</td>\n",
       "      <td>582</td>\n",
       "      <td>307</td>\n",
       "      <td>195</td>\n",
       "      <td>1026</td>\n",
       "      <td>529</td>\n",
       "      <td>687</td>\n",
       "      <td>341</td>\n",
       "      <td>694</td>\n",
       "      <td>...</td>\n",
       "      <td>439</td>\n",
       "      <td>406</td>\n",
       "      <td>187</td>\n",
       "      <td>183</td>\n",
       "      <td>271</td>\n",
       "      <td>241</td>\n",
       "      <td>62</td>\n",
       "      <td>152</td>\n",
       "      <td>396</td>\n",
       "      <td>806</td>\n",
       "    </tr>\n",
       "  </tbody>\n",
       "</table>\n",
       "<p>8 rows × 968 columns</p>\n",
       "</div>"
      ],
      "text/plain": [
       "    742   842  2052  1145  896  2152  558   751  746   236  ...  303  1782  \\\n",
       "85  363  1247  1026   572  938  1185  531  1819  984  1314  ...  228   156   \n",
       "14    0     0     0     1    0     0    0     0    0     0  ...    0     0   \n",
       "74    7    19    12    11   12    17    8    11   21    20  ...    7     3   \n",
       "28    5    17    15    26   17    32   20    15   11    23  ...    3     0   \n",
       "84    1    10    12     7   18    13    6    24    4    27  ...    6     5   \n",
       "27    0     0     1     2    0     0    0     0    1     2  ...    8     0   \n",
       "74    7    19    12    11   12    17    8    11   21    20  ...    7     3   \n",
       "26  249   317   582   307  195  1026  529   687  341   694  ...  439   406   \n",
       "\n",
       "    1724  1571  1583  1454  2430  1143  752  513  \n",
       "85    48    62   107   132    49    86  138  371  \n",
       "14     0     0     0     0     0     0    1    0  \n",
       "74     1     1     1     2     0     5    3    8  \n",
       "28     0     1     4     1     0     2    4    7  \n",
       "84     1     3     8    11     1     7    6   19  \n",
       "27     0     0     0     0     0     2    0    1  \n",
       "74     1     1     1     2     0     5    3    8  \n",
       "26   187   183   271   241    62   152  396  806  \n",
       "\n",
       "[8 rows x 968 columns]"
      ]
     },
     "execution_count": 2,
     "metadata": {},
     "output_type": "execute_result"
    }
   ],
   "source": [
    "ndims = 3\n",
    "wsrc = '../cell_dams/'\n",
    "nsrc = '../nuclear_mask/'\n",
    "tsrc = '../translocs/'\n",
    "ksrc = '../kde/'\n",
    "sample = 'D2'\n",
    "\n",
    "normtype = 'gene'\n",
    "level = 'sup'\n",
    "\n",
    "ksrc += sample + os.sep\n",
    "\n",
    "metacell = pd.read_csv(ksrc + sample + '_cells_metadata.csv')\n",
    "metatrans = pd.read_csv(ksrc + sample + '_transcripts_metadata.csv')\n",
    "transcell = pd.read_csv(ksrc + sample + '_transcells_metadata.csv')\n",
    "transcriptomes = np.asarray(list(metatrans['gene']))\n",
    "\n",
    "gsrc = '../{}level/'.format(level)\n",
    "gsrc += sample + os.sep\n",
    "\n",
    "Cells = utils.get_range_cell_values('../data/D2_data/infected_cells_ids.csv', metacell, startval=1)\n",
    "Genes = utils.get_range_gene_values('../data/D2_data/genes_to_focus_infection.csv', transcriptomes, startval=0)\n",
    "\n",
    "foo = glob(gsrc + transcriptomes[Genes[0]] + os.sep + '*')[0]\n",
    "bar = os.path.split(foo)[1].split('_')\n",
    "PP = int(bar[4][1:])\n",
    "stepsize = int(bar[5][1:])\n",
    "bw = int(bar[6][2:])\n",
    "\n",
    "proj_subdir = 'summer2024'\n",
    "dst = '..' + os.sep + 'distance' + os.sep + sample + os.sep + proj_subdir + '_by_' + normtype + os.sep\n",
    "if not os.path.isdir(dst):\n",
    "    os.mkdir(dst)\n",
    "\n",
    "transfocus = transcell.loc[Genes, Cells.astype(str)]\n",
    "ratios = utils.normalize_counts(transfocus, normtype)\n",
    "if ratios is None:\n",
    "    print('ERROR')\n",
    "\n",
    "print('Max ratio by {}:\\t{:.2f}%'.format(normtype, 100*np.max(ratios) ) )\n",
    "transfocus"
   ]
  },
  {
   "cell_type": "code",
   "execution_count": 3,
   "id": "a6cc229d-ebe5-4cfe-8b69-b71228f850a3",
   "metadata": {},
   "outputs": [
    {
     "name": "stdout",
     "output_type": "stream",
     "text": [
      "[968 207 960 950 956 464 960 968]\n"
     ]
    }
   ],
   "source": [
    "print(np.sum(ratios > 0, axis=1))\n",
    "jsonfiles = [ [ None for j in range(ratios.shape[1]) ] for i in range(ratios.shape[0]) ]\n",
    "\n",
    "for i in range(len(jsonfiles)):\n",
    "    foo = '{}{}/{}_-_{}_p{}_s{}_bw{}_c{:06d}.json'\n",
    "    for j in range(len(jsonfiles[0])):\n",
    "        filename = foo.format(gsrc, transcriptomes[Genes[i]],transcriptomes[Genes[i]],level,PP,stepsize,bw,Cells[j])\n",
    "        if os.path.isfile(filename):\n",
    "            jsonfiles[i][j] = filename"
   ]
  },
  {
   "cell_type": "code",
   "execution_count": 30,
   "id": "d2bdc888-f24a-4afa-8684-c4c47d3cb384",
   "metadata": {},
   "outputs": [
    {
     "name": "stdout",
     "output_type": "stream",
     "text": [
      "Initial number of life-birth pairs\t: 174860\n",
      "(array([7684,   60,    0]), array([0, 1, 2, 3]))\n"
     ]
    }
   ],
   "source": [
    "orig_diags = [None for i in range(len(jsonfiles))]\n",
    "for i in range(len(orig_diags)):\n",
    "    orig_diags[i] = utils.get_diagrams(jsonfiles[i], ndims, remove_inf=True)\n",
    "\n",
    "numpairs = 0\n",
    "genemaxk = np.zeros((len(orig_diags), ndims))\n",
    "maxlife = np.zeros((len(orig_diags), len(orig_diags[0]), len(orig_diags[0][0])))\n",
    "\n",
    "# [gene][cell][dimension]\n",
    "\n",
    "for i in range(len(orig_diags)):\n",
    "    for j in range(len(orig_diags[i])):\n",
    "        for k in range(len(orig_diags[i][j])):\n",
    "            orig_diags[i][j][k] *= ratios[i][j]\n",
    "            numpairs += len(orig_diags[i][j][k])\n",
    "            if len(orig_diags[i][j][k]) > 0:\n",
    "                maxlife[i,j,k] = orig_diags[i][j][k][0,1] - orig_diags[i][j][k][0,0]\n",
    "                if genemaxk[i,k] < np.max(orig_diags[i][j][k]):\n",
    "                    genemaxk[i,k] = np.max(orig_diags[i][j][k])\n",
    "\n",
    "print('Initial number of life-birth pairs\\t:', numpairs)\n",
    "# timepoint != lifetime\n",
    "\n",
    "if normtype == 'gene':\n",
    "    maxx = np.max(genemaxk,axis=1).reshape(len(maxlife),1,1)\n",
    "elif normtype == 'both':\n",
    "    maxx = np.max(genemaxk) \n",
    "\n",
    "rescale = 256/maxx\n",
    "maxlife *= rescale\n",
    "argmaxlife = np.argmax(maxlife, axis=-1)\n",
    "print(np.histogram(argmaxlife.ravel(), bins=range(ndims+1)))"
   ]
  },
  {
   "cell_type": "code",
   "execution_count": 33,
   "id": "0d247ccb-3c52-4532-9e65-5da42be80d67",
   "metadata": {},
   "outputs": [
    {
     "name": "stdout",
     "output_type": "stream",
     "text": [
      "0\tGLYMA_17G195900\t698882\t122.37905160401348\n",
      "1\tGLYMA_01G164600\t248\t238.2101382909379\n",
      "2\tGLYMA_15G210100\t23376\t127.23478767789378\n",
      "3\tGLYMA_05G216000\t12919\t181.4357964718859\n",
      "4\tGLYMA_17G185800\t11462\t168.23154093554783\n",
      "5\tGLYMA_05G203100\t4116\t153.6595386700088\n",
      "6\tGLYMA_15G210100\t23376\t127.23478767789378\n",
      "7\tGLYMA_05G092200\t479091\t187.536987519746\n"
     ]
    }
   ],
   "source": [
    "for i in range(len(orig_diags)):\n",
    "    foo = np.sum(transfocus.loc[Genes[i]].values)\n",
    "    print(i, transcriptomes[Genes[i]], foo, np.max(maxlife[i]), sep='\\t')"
   ]
  },
  {
   "cell_type": "code",
   "execution_count": 53,
   "id": "a51f2ff0-81f1-4536-b5f5-69aceba706ad",
   "metadata": {},
   "outputs": [
    {
     "data": {
      "image/png": "[encoded data removed]",
      "text/plain": [
       "<Figure size 1000x300 with 8 Axes>"
      ]
     },
     "metadata": {},
     "output_type": "display_data"
    }
   ],
   "source": [
    "minlife = 8\n",
    "fs = 14; marker = ['D', 'o', 's']; color = ['red','cornflowerblue','gold']\n",
    "\n",
    "fig, ax = plt.subplots(2,4, figsize=(10,3), sharex=True, sharey=True)\n",
    "ax = np.atleast_1d(ax).ravel(); i = 0\n",
    "\n",
    "bins = np.linspace(minlife, np.max(maxlife)+1, 50)\n",
    "\n",
    "for i in range(len(ax)):\n",
    "    for k in range(maxlife.shape[2]):\n",
    "        foo = maxlife[i, :, k].ravel()\n",
    "        if np.sum(foo > minlife) > 0:\n",
    "            ax[i].hist(foo[foo > minlife], bins=bins, color=color[k], alpha=0.5, label='$H_{}$'.format(k), density=True)\n",
    "    ax[i].set_title(transcriptomes[Genes[i]], fontsize=fs)\n",
    "\n",
    "#fig.legend(fontsize=fs)\n",
    "fig.supxlabel('Max lifespan [{}level persistence ; normalized by {}]'.format(level, normtype), fontsize=fs, y=0.1)\n",
    "fig.tight_layout();\n",
    "\n",
    "filename = dst+'max_lifespan_{}level_{}.svg'.format(level, normtype)\n",
    "#plt.savefig(filename, format='svg', dpi=100, bbox_inches='tight')"
   ]
  },
  {
   "cell_type": "code",
   "execution_count": 55,
   "id": "b83b7c21-b939-4b10-bc59-ebe77a511268",
   "metadata": {},
   "outputs": [
    {
     "name": "stdout",
     "output_type": "stream",
     "text": [
      "Post number of life-birth pairs\t: 350247\n",
      "Reduced to null diagrams:\t 0\n"
     ]
    }
   ],
   "source": [
    "diags = [ [ [ rescale*orig_diags[i][j][k].copy()  for k in range(ndims) ] for j in range(len(orig_diags[i])) ] for i in range(len(orig_diags)) ]\n",
    "\n",
    "numpairs, reduced = 0,0\n",
    "\n",
    "for i in range(len(diags)):\n",
    "    for j in range(len(diags[i])):\n",
    "        for k in range(len(diags[i][j])):\n",
    "            diags[i][j][k] = np.atleast_2d(diags[i][j][k][np.diff(diags[i][j][k]).squeeze() > minlife, :].squeeze())\n",
    "            numpairs += len(diags[i][j][k])\n",
    "         \n",
    "        k = argmaxlife[i,j]\n",
    "        if (len(diags[i][j][k]) == 0) & (len(orig_diags[i][j][k]) > 0):\n",
    "            diags[i][j][k] = rescale*np.atleast_2d(orig_diags[i][j][k][0])\n",
    "            numpairs += 1\n",
    "            reduced +=1\n",
    "            \n",
    "print('Post number of life-birth pairs\\t:', numpairs)\n",
    "print('Reduced to null diagrams:\\t', reduced)"
   ]
  },
  {
   "cell_type": "code",
   "execution_count": 57,
   "id": "4c4c04e5-f6b7-40fd-ad61-087ab92bd46d",
   "metadata": {},
   "outputs": [],
   "source": [
    "if False:\n",
    "    isdiag = np.zeros(len(diags[0]), dtype=bool)\n",
    "    \n",
    "    for cidx in range(len(isdiag)):\n",
    "        dk = np.zeros(ndims)\n",
    "        match = [None for i in range(len(dk))]\n",
    "        for k in range(len(dk)):\n",
    "            if (len(diags[0][cidx][k]) > 0) | (len(diags[1][cidx][k]) > 0):\n",
    "                dk[k], match[k] = persim.bottleneck(diags[0][cidx][k], diags[1][cidx][k], matching=True)\n",
    "        \n",
    "        m = match[np.argmax(dk)]\n",
    "        isdiag[cidx] = -1 in m[np.argmax(m[:,-1]), :]\n",
    "    \n",
    "    filename = dst + '{}level_bottleneck_isdiagonal.csv'.format(level)\n",
    "    np.savetxt(filename, isdiag.reshape(1,-1), delimiter=',', fmt='%d')\n",
    "    print(filename)"
   ]
  },
  {
   "cell_type": "code",
   "execution_count": 56,
   "id": "d4cc152c-8bff-4bd0-821c-d28daa900a6a",
   "metadata": {},
   "outputs": [
    {
     "name": "stdout",
     "output_type": "stream",
     "text": [
      "6433\t3\n"
     ]
    }
   ],
   "source": [
    "diagh = [ [ None for k in range(ndims) ] for i in range(np.sum(ratios > 0)) ]\n",
    "\n",
    "counter = 0\n",
    "for i in range(len(diags)):\n",
    "    for j in np.nonzero(ratios[i] > 0)[0]:\n",
    "        for k in range(len(diags[i][j])):\n",
    "            diagh[counter][k] = diags[i][j][k]\n",
    "        counter += 1\n",
    "\n",
    "print(len(diagh), len(diagh[0]), sep='\\t')"
   ]
  },
  {
   "cell_type": "code",
   "execution_count": 62,
   "id": "11875255-04dd-43e7-9d8d-750f4d54490b",
   "metadata": {
    "scrolled": true
   },
   "outputs": [],
   "source": [
    "i,j = 0,1\n",
    "k = 0\n",
    "dk, mmatch = persim.bottleneck(diagh[i][k], diagh[j][k], matching=True)"
   ]
  },
  {
   "cell_type": "code",
   "execution_count": 64,
   "id": "00e6c75e-937f-4aa3-b546-59ef462d2d03",
   "metadata": {},
   "outputs": [
    {
     "data": {
      "text/plain": [
       "array([ 0.        ,  0.        , 30.50700453])"
      ]
     },
     "execution_count": 64,
     "metadata": {},
     "output_type": "execute_result"
    }
   ],
   "source": [
    "mmatch[np.argmax(dk)]"
   ]
  },
  {
   "cell_type": "code",
   "execution_count": null,
   "id": "250b31bb-ec43-45f6-b4a0-1fb2067b5818",
   "metadata": {
    "scrolled": true
   },
   "outputs": [],
   "source": [
    "initrow = 10\n",
    "endrow = 12\n",
    "\n",
    "bottleneck = np.zeros((endrow - initrow, len(diagh)))\n",
    "\n",
    "ix = 0\n",
    "for i in range(initrow, endrow, 1):\n",
    "    for j in range(i+1, bottleneck.shape[1]):\n",
    "        dk = np.zeros(ndims)\n",
    "        match = [None for i in range(len(dk))]\n",
    "        for k in range(len(dk)):\n",
    "            if (len(diagh[i][k]) > 0) | (len(diagh[j][k]) > 0):\n",
    "                dk[k], match[k] = persim.bottleneck(diagh[i][k], diagh[j][k], matching=True)\n",
    "                #dk[k] = ix*j\n",
    "        bottleneck[ix,j] = np.max(dk)\n",
    "    ix += 1"
   ]
  },
  {
   "cell_type": "code",
   "execution_count": null,
   "id": "58e1ad3e-9b66-4bbb-b89d-8fb6859ec226",
   "metadata": {},
   "outputs": [],
   "source": [
    "initrow, endrow = 0,9\n",
    "filename = dst + dst.split(os.sep)[-2] + '_{}level_bottleneck_{:05d}_{:05d}.csv'.format(level, initrow, endrow)\n",
    "print(filename)\n",
    "#pd.DataFrame(bottleneck).to_csv(filename, index=False, header=None)"
   ]
  },
  {
   "cell_type": "code",
   "execution_count": 66,
   "id": "2262e114-430c-44b5-8e51-e89432cedf20",
   "metadata": {},
   "outputs": [],
   "source": [
    "from gtda.diagrams import PersistenceImage"
   ]
  },
  {
   "cell_type": "markdown",
   "id": "e3ea0f05-ba70-424f-a36e-e122e8ab3fb1",
   "metadata": {},
   "source": [
    "# Bottleneck\n"
   ]
  },
  {
   "cell_type": "code",
   "execution_count": 56,
   "id": "8459286a-3932-4223-8369-ccd1b67d8827",
   "metadata": {},
   "outputs": [
    {
     "data": {
      "text/plain": [
       "array([ 11,  34,  60,  92,  96, 111, 117, 138, 157, 185, 197, 208, 232,\n",
       "       252, 262, 307, 313, 327, 343, 392, 400, 428, 471, 473, 478, 531,\n",
       "       536, 562, 563, 585, 603, 604, 605, 614, 629, 667, 673, 698, 700,\n",
       "       707, 717, 727, 742, 777, 787, 819, 820, 834, 865, 894, 904, 911,\n",
       "       922, 923, 964])"
      ]
     },
     "execution_count": 56,
     "metadata": {},
     "output_type": "execute_result"
    }
   ],
   "source": [
    "np.nonzero(~isdiag)[0]"
   ]
  },
  {
   "cell_type": "code",
   "execution_count": 74,
   "id": "13b4d77d-ddb9-48b3-b192-aafcd1da6e01",
   "metadata": {},
   "outputs": [
    {
     "name": "stdout",
     "output_type": "stream",
     "text": [
      "[95.47567398  8.37709579  0.        ]\n",
      "95.5\n"
     ]
    }
   ],
   "source": [
    "cidx = 340\n",
    "dk = np.zeros(ndims)\n",
    "match = [None for i in range(len(dk))]\n",
    "for k in range(len(dk)):\n",
    "    if (len(diags[0][cidx][k]) > 0) | (len(diags[1][cidx][k]) > 0):\n",
    "        dk[k], match[k] = persim.bottleneck(diags[0][cidx][k], diags[1][cidx][k], matching=True)\n",
    "print(dk, np.round(np.max(dk),1), sep='\\n')"
   ]
  },
  {
   "cell_type": "code",
   "execution_count": 73,
   "id": "e75ec6a3-cbfc-49db-a11f-3ce7d326bdb5",
   "metadata": {},
   "outputs": [
    {
     "data": {
      "image/png": "[encoded data removed]",
      "text/plain": [
       "<Figure size 600x600 with 1 Axes>"
      ]
     },
     "metadata": {},
     "output_type": "display_data"
    }
   ],
   "source": [
    "aux = np.max(maxlife[:, cidx, :])\n",
    "fs = 16; marker = ['D', 'o', 's']; color = ['red','cornflowerblue','gold']\n",
    "fig, ax = plt.subplots(1,1, figsize=(6,6), sharex=True, sharey=True)\n",
    "ax = np.atleast_1d(ax).ravel(); i = 0\n",
    "\n",
    "for j in range(2):\n",
    "    for k in range(ndims):\n",
    "        if len(diags[j][cidx][k]) > 0:\n",
    "            ax[i].scatter(diags[j][cidx][k][:,0], diags[j][cidx][k][:,1], alpha=0.75, label='$H_{}$'.format(k), \n",
    "                          marker=marker[k], c=color[j], s=50, linewidth=1, edgecolor='k', zorder=k+4)\n",
    "for k in range(ndims):\n",
    "    if (match[k] is not None) and (len(match[k]) > 0):\n",
    "        for m in range(len(match[k])):\n",
    "            if match[k][m,2] > 0:\n",
    "                if match[k][m,0] == -1:\n",
    "                    mid = np.mean(diags[1][cidx][k][ int(match[k][m,1]) ])\n",
    "                    x1,y1 = mid,mid\n",
    "                else:\n",
    "                    x1,y1 = diags[0][cidx][k][ int(match[k][m,0]) ]\n",
    "                \n",
    "                if match[k][m,1] == -1:\n",
    "                    mid = np.mean(diags[0][cidx][k][ int(match[k][m,0]) ])\n",
    "                    x2,y2 = mid,mid\n",
    "                else:\n",
    "                    x2,y2 = diags[1][cidx][k][ int(match[k][m,1]) ]\n",
    "                if m != np.argmax(match[k][:,2]):\n",
    "                    ax[i].plot([x1,x2],[y1,y2], c='k', zorder=1, alpha=0.75)\n",
    "                else:\n",
    "                    ax[i].plot([x1,x2],[y1,y2], c='magenta', lw=4, zorder=2, alpha=1)\n",
    "    \n",
    "ax[i].scatter([0, aux] , [0, aux] , alpha=0)\n",
    "ax[i].set_aspect('equal')\n",
    "#ax[i].legend(loc='lower right', fontsize=fs)\n",
    "ax[i].axline(xy1=(0,0), slope=1, c='k', zorder=3, lw=3)\n",
    "ax[i].tick_params(labelsize=fs-3)\n",
    "ax[i].margins(0)\n",
    "ax[i].set_facecolor('snow')\n",
    "\n",
    "fig.tight_layout()"
   ]
  },
  {
   "cell_type": "code",
   "execution_count": null,
   "id": "b5d4964c-0088-4f69-90c2-b792c171ccba",
   "metadata": {},
   "outputs": [],
   "source": []
  }
 ],
 "metadata": {
  "kernelspec": {
   "display_name": "Python 3 (ipykernel)",
   "language": "python",
   "name": "python3"
  },
  "language_info": {
   "codemirror_mode": {
    "name": "ipython",
    "version": 3
   },
   "file_extension": ".py",
   "mimetype": "text/x-python",
   "name": "python",
   "nbconvert_exporter": "python",
   "pygments_lexer": "ipython3",
   "version": "3.10.12"
  }
 },
 "nbformat": 4,
 "nbformat_minor": 5
}
