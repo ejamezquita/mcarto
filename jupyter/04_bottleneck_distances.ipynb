{
 "cells": [
  {
   "cell_type": "code",
   "execution_count": 1,
   "id": "3b83e4b3-3067-4581-95e8-3c6a7384f2db",
   "metadata": {},
   "outputs": [],
   "source": [
    "import matplotlib.pyplot as plt\n",
    "import numpy as np\n",
    "import pandas as pd\n",
    "\n",
    "import gudhi as gd\n",
    "import json\n",
    "\n",
    "from glob import glob\n",
    "import os\n",
    "import tifffile as tf\n",
    "import wasserstein as ws\n",
    "\n",
    "from scipy import ndimage\n",
    "from sklearn import manifold, cluster, decomposition, preprocessing"
   ]
  },
  {
   "cell_type": "code",
   "execution_count": 14,
   "id": "7e8ea050-023a-48e2-885c-17b63d212d3c",
   "metadata": {},
   "outputs": [],
   "source": [
    "def get_diagrams(jsonfiles):\n",
    "    diagh0 = [ np.empty((0,2)) for i in range(len(jsonfiles)) ]\n",
    "    diagh1 = [ np.empty((0,2)) for i in range(len(jsonfiles)) ]\n",
    "\n",
    "    for i in range(len(jsonfiles)):\n",
    "        with open(jsonfiles[i]) as f:\n",
    "            diag = [tuple(x) for x in json.load(f)]\n",
    "        h1mask = np.sum([ diag[j][0] == 1 for j in range(len(diag)) ])\n",
    "        diagh0[i] = np.asarray( [ x[1] for x in diag[h1mask:] ] )\n",
    "        if h1mask > 0:\n",
    "            diagh1[i] = np.asarray( [ x[1] for x in diag[:h1mask] ] )\n",
    "\n",
    "    return diagh0, diagh1\n",
    "\n",
    "def bottleneck_matrix(diagh0, diagh1, dfunction=gd.bottleneck_distance, **kwargs):\n",
    "    bottleneck_h0 = np.zeros( (len(diagh0), len(diagh0)) )\n",
    "    bottleneck_h1 = np.zeros( (len(diagh0), len(diagh0)) )\n",
    "    \n",
    "    for i in range(len(bottleneck_h0) - 1):\n",
    "        for j in range(i+1, len(bottleneck_h0)):\n",
    "    \n",
    "            ## H0 ##\n",
    "            d = dfunction(diagh0[i], diagh0[j], **kwargs)\n",
    "            bottleneck_h0[i,j] = d\n",
    "            bottleneck_h0[j,i] = d\n",
    "    \n",
    "            ## H1 ##\n",
    "            d = dfunction(diagh1[i], diagh1[j], **kwargs)\n",
    "            bottleneck_h1[i,j] = d\n",
    "            bottleneck_h1[j,i] = d\n",
    "\n",
    "    return bottleneck_h0, bottleneck_h1\n",
    "\n",
    "def save_dmatrix(mtrx, filename):\n",
    "    N = len(mtrx)\n",
    "    dflat = mtrx[np.triu_indices(N, k=1)]\n",
    "    pd.Series(dflat).to_csv(filename, index=False, header=None)\n",
    "    print(filename)\n",
    "\n",
    "    return dflat"
   ]
  },
  {
   "cell_type": "code",
   "execution_count": 16,
   "id": "6d5b2eb7-1656-4887-a932-6525bcbe3f38",
   "metadata": {},
   "outputs": [
    {
     "name": "stdout",
     "output_type": "stream",
     "text": [
      "97 transcriptomes\n"
     ]
    }
   ],
   "source": [
    "gsrc = '../gd_trans/'\n",
    "sample = 'D2'\n",
    "tsrc = gsrc + sample + '/'\n",
    "ws_order = 1\n",
    "dst = tsrc\n",
    "\n",
    "transcriptomes = sorted([foo.split('/')[-2] for foo in glob(tsrc + '*/')])\n",
    "print(len(transcriptomes), 'transcriptomes')\n",
    "level = 'super'"
   ]
  },
  {
   "cell_type": "code",
   "execution_count": 17,
   "id": "1a5f116f-3597-4d23-b8fa-7bde21694bbf",
   "metadata": {},
   "outputs": [
    {
     "name": "stdout",
     "output_type": "stream",
     "text": [
      "Checking GLYMA_06G090100\n",
      "Found 135 cells\n"
     ]
    }
   ],
   "source": [
    "tidx = 31\n",
    "print('Checking', transcriptomes[tidx])\n",
    "jsonfiles = sorted(glob(tsrc + transcriptomes[tidx] + '/*' + level + 'level.json'))\n",
    "diag0, diag1 = get_diagrams(jsonfiles)\n",
    "\n",
    "if len(jsonfiles) == 0:\n",
    "    print('\\n****\\nNo JSONs detected for',transcriptomes[tidx], '\\t[{}]\\n****\\n'.format(tidx))\n",
    "else:\n",
    "    print('Found',len(jsonfiles),'cells')"
   ]
  },
  {
   "cell_type": "code",
   "execution_count": 18,
   "id": "a2557f16-2109-4c60-8a67-7411d7721ae7",
   "metadata": {},
   "outputs": [
    {
     "name": "stdout",
     "output_type": "stream",
     "text": [
      "../gd_trans/D2/GLYMA_06G090100_-_superlevel_wasserstein1.csv\n"
     ]
    }
   ],
   "source": [
    "# 1-Wasserstein\n",
    "\n",
    "h0, h1 = bottleneck_matrix(diag0, diag1, ws.wasserstein_distance, order=ws_order, keep_essential_parts=False)\n",
    "dmatrix = h0 + h1\n",
    "filename = tsrc + transcriptomes[tidx] + '_-_' + level + 'level_wasserstein{}.csv'.format(ws_order)\n",
    "_ = save_dmatrix(dmatrix, filename)"
   ]
  },
  {
   "cell_type": "code",
   "execution_count": 19,
   "id": "2d046dce-c6f7-4fa7-92cb-ac7f9a01d198",
   "metadata": {},
   "outputs": [
    {
     "name": "stdout",
     "output_type": "stream",
     "text": [
      "../gd_trans/D2/GLYMA_06G090100_-_superlevel_bottleneck.csv\n"
     ]
    }
   ],
   "source": [
    "# Bottleneck\n",
    "\n",
    "h0, h1 = bottleneck_matrix(diag0, diag1, gd.bottleneck_distance)\n",
    "dmatrix = np.maximum(h0, h1)\n",
    "filename = tsrc + transcriptomes[tidx] + '_-_' + level + 'level_bottleneck.csv'\n",
    "dflat = save_dmatrix(dmatrix, filename)"
   ]
  },
  {
   "cell_type": "code",
   "execution_count": 13,
   "id": "e927f072-2230-493b-9f93-1b49f62ea1c4",
   "metadata": {},
   "outputs": [
    {
     "data": {
      "text/plain": [
       "(135, 135)"
      ]
     },
     "execution_count": 13,
     "metadata": {},
     "output_type": "execute_result"
    }
   ],
   "source": [
    "N = len(jsonfiles)\n",
    "A = np.zeros((N,N))\n",
    "A[np.triu_indices(N,k=1)] = dflat\n",
    "A += A.T\n",
    "A.shape"
   ]
  },
  {
   "cell_type": "code",
   "execution_count": 47,
   "id": "3b4a7ef7-24a5-4dcd-ad1f-ac61a7c5a98a",
   "metadata": {},
   "outputs": [
    {
     "data": {
      "text/plain": [
       "array([28.5, 30. , 14. , 32. , 34.5, 28.5, 32. , 21. , 34.5, 32. ])"
      ]
     },
     "execution_count": 47,
     "metadata": {},
     "output_type": "execute_result"
    }
   ],
   "source": [
    "bdh0, bdh1 = bottleneck_matrix(diag0, diag1, gd.bottleneck_distance)\n",
    "bd_mtrx = np.maximum(bdh0, bdh1)\n",
    "dflat = bd_mtrx[np.triu_indices(len(jsonfiles), k=1)]\n",
    "filename = tsrc + transcriptomes[tidx] + '_-_' + level + 'level_bottleneck.csv'\n",
    "pd.Series(dflat).to_csv(filename, index=False, header=None)"
   ]
  },
  {
   "cell_type": "code",
   "execution_count": 8,
   "id": "324adb7b-ec41-4068-b9d2-af6e9c3545b8",
   "metadata": {},
   "outputs": [
    {
     "data": {
      "text/html": [
       "<div>\n",
       "<style scoped>\n",
       "    .dataframe tbody tr th:only-of-type {\n",
       "        vertical-align: middle;\n",
       "    }\n",
       "\n",
       "    .dataframe tbody tr th {\n",
       "        vertical-align: top;\n",
       "    }\n",
       "\n",
       "    .dataframe thead th {\n",
       "        text-align: right;\n",
       "    }\n",
       "</style>\n",
       "<table border=\"1\" class=\"dataframe\">\n",
       "  <thead>\n",
       "    <tr style=\"text-align: right;\">\n",
       "      <th></th>\n",
       "      <th>0</th>\n",
       "    </tr>\n",
       "  </thead>\n",
       "  <tbody>\n",
       "    <tr>\n",
       "      <th>0</th>\n",
       "      <td>15.0</td>\n",
       "    </tr>\n",
       "    <tr>\n",
       "      <th>1</th>\n",
       "      <td>26.0</td>\n",
       "    </tr>\n",
       "    <tr>\n",
       "      <th>2</th>\n",
       "      <td>55.0</td>\n",
       "    </tr>\n",
       "    <tr>\n",
       "      <th>3</th>\n",
       "      <td>25.0</td>\n",
       "    </tr>\n",
       "    <tr>\n",
       "      <th>4</th>\n",
       "      <td>29.0</td>\n",
       "    </tr>\n",
       "    <tr>\n",
       "      <th>...</th>\n",
       "      <td>...</td>\n",
       "    </tr>\n",
       "    <tr>\n",
       "      <th>9040</th>\n",
       "      <td>56.0</td>\n",
       "    </tr>\n",
       "    <tr>\n",
       "      <th>9041</th>\n",
       "      <td>21.0</td>\n",
       "    </tr>\n",
       "    <tr>\n",
       "      <th>9042</th>\n",
       "      <td>23.5</td>\n",
       "    </tr>\n",
       "    <tr>\n",
       "      <th>9043</th>\n",
       "      <td>30.0</td>\n",
       "    </tr>\n",
       "    <tr>\n",
       "      <th>9044</th>\n",
       "      <td>42.0</td>\n",
       "    </tr>\n",
       "  </tbody>\n",
       "</table>\n",
       "<p>9045 rows × 1 columns</p>\n",
       "</div>"
      ],
      "text/plain": [
       "         0\n",
       "0     15.0\n",
       "1     26.0\n",
       "2     55.0\n",
       "3     25.0\n",
       "4     29.0\n",
       "...    ...\n",
       "9040  56.0\n",
       "9041  21.0\n",
       "9042  23.5\n",
       "9043  30.0\n",
       "9044  42.0\n",
       "\n",
       "[9045 rows x 1 columns]"
      ]
     },
     "execution_count": 8,
     "metadata": {},
     "output_type": "execute_result"
    }
   ],
   "source": [
    "pd.read_csv(filename, header=None)"
   ]
  }
 ],
 "metadata": {
  "kernelspec": {
   "display_name": "Python 3 (ipykernel)",
   "language": "python",
   "name": "python3"
  },
  "language_info": {
   "codemirror_mode": {
    "name": "ipython",
    "version": 3
   },
   "file_extension": ".py",
   "mimetype": "text/x-python",
   "name": "python",
   "nbconvert_exporter": "python",
   "pygments_lexer": "ipython3",
   "version": "3.10.12"
  }
 },
 "nbformat": 4,
 "nbformat_minor": 5
}
