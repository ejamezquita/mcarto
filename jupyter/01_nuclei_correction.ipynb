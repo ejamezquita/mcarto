{
 "cells": [
  {
   "cell_type": "markdown",
   "id": "972208ab-19d6-4694-8209-a1508088449a",
   "metadata": {},
   "source": [
    "# Part I: Shift transcripts that are close to the cell wall if needed\n",
    "\n",
    "- Push transcripts that are sitting right on the cell wall to the cytoplasm with them most gene transcripts\n",
    "- Check if transcripts are clustered next to the wall and if some of those transcripts went slightly astray\n",
    "- Save corrected spatial locations of cytoplasmic transcripts"
   ]
  },
  {
   "cell_type": "code",
   "execution_count": 1,
   "id": "956e43c6-4044-4db4-b9ff-ba4343889c59",
   "metadata": {},
   "outputs": [],
   "source": [
    "import numpy as np\n",
    "import pandas as pd\n",
    "from matplotlib import pyplot as plt\n",
    "import tifffile as tf\n",
    "from glob import glob\n",
    "import os\n",
    "\n",
    "from scipy import ndimage\n",
    "from sklearn import neighbors\n",
    "\n",
    "from importlib import reload\n",
    "import utils"
   ]
  },
  {
   "cell_type": "markdown",
   "id": "d740dd20-00ec-42e6-9aa0-6faaa7c75002",
   "metadata": {},
   "source": [
    "# Set directory structure\n",
    "\n",
    "- `wsrc`: directory with 2D TIFs of cell walls\n",
    "- `nsrc`: directory with 2D TIFs of cell nuclei\n",
    "- `csrc`: directory with transcripts spatial location and cell metadata\n",
    "- `dst`: directory to save the corrected transcript location\n",
    "\n",
    "### Correction parameters\n",
    "\n",
    "- We are going to evaluate for possible correction all transcripts such that\n",
    "    - are within `maxdwall` pixels from a cell wall (chessboard distance)\n",
    "    - Have at least `minneighs` neighbors in a `radius` pixel radius\n",
    "- If more than `minprob`% of its neighbors belong to a different cell, we assume that this transcript was mislabeled and nudge it toward the cell with the most transcripts\n",
    "\n",
    "### Setting things up\n",
    "\n",
    "- Compute a chessboard distance transform of the cell wall\n",
    "- Get individual cells through `ndimage.label`"
   ]
  },
  {
   "cell_type": "code",
   "execution_count": 2,
   "id": "c0d39d91-b5dd-4c6d-af05-06e6962d7b89",
   "metadata": {},
   "outputs": [
    {
     "name": "stdout",
     "output_type": "stream",
     "text": [
      "Detected 2937 cells\n"
     ]
    }
   ],
   "source": [
    "struc1 = ndimage.generate_binary_structure(2,1)\n",
    "struc2 = ndimage.generate_binary_structure(2,2)\n",
    "theta = np.linspace(-np.pi, np.pi, 50)\n",
    "\n",
    "wsrc = '../cell_dams/'\n",
    "nsrc = '../nuclear_mask/'\n",
    "csrc = '../data/'\n",
    "dst = '../translocs/'\n",
    "\n",
    "sample = 'D2'\n",
    "\n",
    "radius = 30\n",
    "maxdwall = 6\n",
    "minneighs = 5\n",
    "minprob = 74\n",
    "\n",
    "dst += sample + os.sep\n",
    "if not os.path.isdir(dst):\n",
    "    os.mkdir(dst)\n",
    "\n",
    "wall = tf.imread(wsrc + sample + '_dams.tif').astype(bool)\n",
    "\n",
    "edt = ndimage.distance_transform_cdt(wall, 'chessboard')\n",
    "label, cellnum = ndimage.label(wall, struc1)\n",
    "print('Detected',cellnum,'cells')"
   ]
  },
  {
   "cell_type": "code",
   "execution_count": 3,
   "id": "3fa52e35-c91e-4b01-98b1-4949d969b2d2",
   "metadata": {},
   "outputs": [
    {
     "name": "stdout",
     "output_type": "stream",
     "text": [
      "1.05% of pixels labeled as nuclei\n"
     ]
    },
    {
     "data": {
      "image/png": "[encoded data removed]",
      "text/plain": [
       "<Figure size 700x200 with 1 Axes>"
      ]
     },
     "metadata": {},
     "output_type": "display_data"
    }
   ],
   "source": [
    "nuccutoff = 1\n",
    "nuclei = tf.imread(nsrc + sample + '_EDT.tif')\n",
    "\n",
    "hist, bins = np.histogram(nuclei, bins = range(0, int(np.ceil(nuclei.max())) + 1))\n",
    "fs = 15\n",
    "fig, ax = plt.subplots(1,1,figsize=(7,2))\n",
    "ax = np.atleast_1d(ax).ravel()\n",
    "\n",
    "ax[0].scatter(bins[:-1], np.log10(hist) , c='cornflowerblue', marker='.')\n",
    "ax[0].axvline(nuccutoff, c='r')\n",
    "ax[0].set_ylabel('Frequency [$10^N$]', fontsize=fs)\n",
    "ax[0].set_xlabel('Euclidean distance from nuclei [px]', fontsize=fs);\n",
    "\n",
    "nuclei = nuclei < nuccutoff\n",
    "print('{:.2f}% of pixels labeled as nuclei'.format(np.sum(nuclei)/nuclei.size*100))"
   ]
  },
  {
   "cell_type": "markdown",
   "id": "44802be1-1aa6-417a-8906-486cf2ad9cf8",
   "metadata": {},
   "source": [
    "- Load spatial locations of all transcripts of all genes\n",
    "- Discard those located in the nuclei"
   ]
  },
  {
   "cell_type": "code",
   "execution_count": 5,
   "id": "fbc869e2-fe6e-4e60-86d4-4b67f863ff49",
   "metadata": {
    "scrolled": true
   },
   "outputs": [
    {
     "name": "stdout",
     "output_type": "stream",
     "text": [
      "Reduced to 3753558 after removing those in nuclei [kept 97.99% of the originals]\n"
     ]
    },
    {
     "data": {
      "text/html": [
       "<div>\n",
       "<style scoped>\n",
       "    .dataframe tbody tr th:only-of-type {\n",
       "        vertical-align: middle;\n",
       "    }\n",
       "\n",
       "    .dataframe tbody tr th {\n",
       "        vertical-align: top;\n",
       "    }\n",
       "\n",
       "    .dataframe thead th {\n",
       "        text-align: right;\n",
       "    }\n",
       "</style>\n",
       "<table border=\"1\" class=\"dataframe\">\n",
       "  <thead>\n",
       "    <tr style=\"text-align: right;\">\n",
       "      <th></th>\n",
       "      <th>mean</th>\n",
       "      <th>std</th>\n",
       "      <th>min</th>\n",
       "      <th>25%</th>\n",
       "      <th>50%</th>\n",
       "      <th>75%</th>\n",
       "      <th>max</th>\n",
       "    </tr>\n",
       "  </thead>\n",
       "  <tbody>\n",
       "    <tr>\n",
       "      <th>X</th>\n",
       "      <td>9031.114686</td>\n",
       "      <td>3459.638470</td>\n",
       "      <td>3</td>\n",
       "      <td>6114</td>\n",
       "      <td>9170</td>\n",
       "      <td>11901</td>\n",
       "      <td>17146</td>\n",
       "    </tr>\n",
       "    <tr>\n",
       "      <th>Y</th>\n",
       "      <td>8156.801671</td>\n",
       "      <td>2931.335527</td>\n",
       "      <td>2</td>\n",
       "      <td>5725</td>\n",
       "      <td>8008</td>\n",
       "      <td>10382</td>\n",
       "      <td>17133</td>\n",
       "    </tr>\n",
       "    <tr>\n",
       "      <th>Z</th>\n",
       "      <td>28.187190</td>\n",
       "      <td>7.150176</td>\n",
       "      <td>1</td>\n",
       "      <td>23</td>\n",
       "      <td>28</td>\n",
       "      <td>33</td>\n",
       "      <td>61</td>\n",
       "    </tr>\n",
       "  </tbody>\n",
       "</table>\n",
       "</div>"
      ],
      "text/plain": [
       "          mean          std  min   25%   50%    75%    max\n",
       "X  9031.114686  3459.638470    3  6114  9170  11901  17146\n",
       "Y  8156.801671  2931.335527    2  5725  8008  10382  17133\n",
       "Z    28.187190     7.150176    1    23    28     33     61"
      ]
     },
     "execution_count": 5,
     "metadata": {},
     "output_type": "execute_result"
    }
   ],
   "source": [
    "filenames = sorted(glob('../Bacteria Info for Erik/*.txt'))\n",
    "\n",
    "transcriptomes = [ None for _ in range(len(filenames)) ]\n",
    "translocs = [ None for _ in range(len(filenames)) ]\n",
    "\n",
    "for i in range(len(filenames)):\n",
    "    transcriptomes[i] = os.path.splitext(os.path.split(filenames[i])[1])[0]\n",
    "    translocs[i] = pd.read_csv(filenames[i], sep='\\t')\n",
    "\n",
    "transcriptomes = np.asarray(transcriptomes)\n",
    "\n",
    "data = pd.concat(translocs)\n",
    "foo = len(data)\n",
    "#data = data.loc[ ~nuclei[data['Y'], data['X']] ]\n",
    "data = data[data['L'] == 'c'].drop(columns='L')\n",
    "print('Reduced to', len(data), 'after removing those in nuclei [kept {:.02f}% of the originals]'.format(len(data)/foo*100) )\n",
    "\n",
    "data.loc[:, ['X','Y','Z'] ].describe().drop(index='count').T.astype(dict(zip(['min','25%','50%','75%','max'], [int for i in range(5)])))"
   ]
  },
  {
   "cell_type": "markdown",
   "id": "ca4ce05b-422c-400c-9c79-958ef96c3a86",
   "metadata": {},
   "source": [
    "- Select one transcript index `tidx`\n",
    "- Keep track of which transcripts are in which cells through `tlabs`\n",
    "- Keep track of how many transcripts are in every cell with `tpercell`"
   ]
  },
  {
   "cell_type": "code",
   "execution_count": 6,
   "id": "31bab739-7124-41ab-af39-ff8181c11a1b",
   "metadata": {},
   "outputs": [
    {
     "ename": "NameError",
     "evalue": "name 'tidx' is not defined",
     "output_type": "error",
     "traceback": [
      "\u001b[0;31m---------------------------------------------------------------------------\u001b[0m",
      "\u001b[0;31mNameError\u001b[0m                                 Traceback (most recent call last)",
      "Cell \u001b[0;32mIn[6], line 1\u001b[0m\n\u001b[0;32m----> 1\u001b[0m translocs[\u001b[43mtidx\u001b[49m]\u001b[38;5;241m.\u001b[39mdtypes\n",
      "\u001b[0;31mNameError\u001b[0m: name 'tidx' is not defined"
     ]
    }
   ],
   "source": [
    "translocs[tidx].dtypes"
   ]
  },
  {
   "cell_type": "code",
   "execution_count": 7,
   "id": "6446b609-058b-4077-b1d2-58ec905cfd7b",
   "metadata": {},
   "outputs": [
    {
     "name": "stdout",
     "output_type": "stream",
     "text": [
      "GLYMA_17G195900:\t Originally 796880 transcripts. Reduced to 745900 cytosolics [93.60%]\n"
     ]
    }
   ],
   "source": [
    "tidx = 85\n",
    "\n",
    "coords = translocs[tidx].loc[ translocs[tidx]['L'] == 'c' , ['X', 'Y', 'Z'] ].values.T\n",
    "tlabs = label[ coords[1], coords[0] ]\n",
    "tpercell, _ = np.histogram(tlabs, np.arange(cellnum+2))\n",
    "foo = [transcriptomes[tidx], len(translocs[tidx]), coords.shape[1], 100*coords.shape[1]/len(translocs[tidx])]\n",
    "print('{}:\\t Originally {} transcripts. Reduced to {} cytosolics [{:.2f}%]'.format(*foo))"
   ]
  },
  {
   "cell_type": "code",
   "execution_count": 33,
   "id": "609cf0dc-abd8-4059-89ed-30e42ce3372a",
   "metadata": {},
   "outputs": [
    {
     "data": {
      "text/html": [
       "<div>\n",
       "<style scoped>\n",
       "    .dataframe tbody tr th:only-of-type {\n",
       "        vertical-align: middle;\n",
       "    }\n",
       "\n",
       "    .dataframe tbody tr th {\n",
       "        vertical-align: top;\n",
       "    }\n",
       "\n",
       "    .dataframe thead th {\n",
       "        text-align: right;\n",
       "    }\n",
       "</style>\n",
       "<table border=\"1\" class=\"dataframe\">\n",
       "  <thead>\n",
       "    <tr style=\"text-align: right;\">\n",
       "      <th></th>\n",
       "      <th>X</th>\n",
       "      <th>Y</th>\n",
       "      <th>Z</th>\n",
       "    </tr>\n",
       "  </thead>\n",
       "  <tbody>\n",
       "    <tr>\n",
       "      <th>0</th>\n",
       "      <td>9913</td>\n",
       "      <td>3334</td>\n",
       "      <td>36</td>\n",
       "    </tr>\n",
       "    <tr>\n",
       "      <th>1</th>\n",
       "      <td>10506</td>\n",
       "      <td>3340</td>\n",
       "      <td>40</td>\n",
       "    </tr>\n",
       "    <tr>\n",
       "      <th>2</th>\n",
       "      <td>15030</td>\n",
       "      <td>7799</td>\n",
       "      <td>30</td>\n",
       "    </tr>\n",
       "    <tr>\n",
       "      <th>3</th>\n",
       "      <td>5641</td>\n",
       "      <td>9825</td>\n",
       "      <td>21</td>\n",
       "    </tr>\n",
       "    <tr>\n",
       "      <th>4</th>\n",
       "      <td>8290</td>\n",
       "      <td>11305</td>\n",
       "      <td>36</td>\n",
       "    </tr>\n",
       "    <tr>\n",
       "      <th>5</th>\n",
       "      <td>11905</td>\n",
       "      <td>11227</td>\n",
       "      <td>46</td>\n",
       "    </tr>\n",
       "    <tr>\n",
       "      <th>6</th>\n",
       "      <td>11907</td>\n",
       "      <td>11229</td>\n",
       "      <td>48</td>\n",
       "    </tr>\n",
       "    <tr>\n",
       "      <th>7</th>\n",
       "      <td>4187</td>\n",
       "      <td>13219</td>\n",
       "      <td>14</td>\n",
       "    </tr>\n",
       "    <tr>\n",
       "      <th>8</th>\n",
       "      <td>12382</td>\n",
       "      <td>13887</td>\n",
       "      <td>26</td>\n",
       "    </tr>\n",
       "    <tr>\n",
       "      <th>9</th>\n",
       "      <td>3852</td>\n",
       "      <td>16401</td>\n",
       "      <td>13</td>\n",
       "    </tr>\n",
       "    <tr>\n",
       "      <th>10</th>\n",
       "      <td>5715</td>\n",
       "      <td>15240</td>\n",
       "      <td>17</td>\n",
       "    </tr>\n",
       "  </tbody>\n",
       "</table>\n",
       "</div>"
      ],
      "text/plain": [
       "        X      Y   Z\n",
       "0    9913   3334  36\n",
       "1   10506   3340  40\n",
       "2   15030   7799  30\n",
       "3    5641   9825  21\n",
       "4    8290  11305  36\n",
       "5   11905  11227  46\n",
       "6   11907  11229  48\n",
       "7    4187  13219  14\n",
       "8   12382  13887  26\n",
       "9    3852  16401  13\n",
       "10   5715  15240  17"
      ]
     },
     "execution_count": 33,
     "metadata": {},
     "output_type": "execute_result"
    }
   ],
   "source": []
  },
  {
   "cell_type": "markdown",
   "id": "217d025c-df68-415b-b857-13133bb4cf0a",
   "metadata": {},
   "source": [
    "# Deal with transcripts on the edge\n",
    "\n",
    "- If transcript is right on top of a cell wall, nudge it to the cytosol of the cell with the most transcript."
   ]
  },
  {
   "cell_type": "code",
   "execution_count": 31,
   "id": "1871ec64-fdfb-4add-b05a-806e4aff927e",
   "metadata": {},
   "outputs": [
    {
     "name": "stdout",
     "output_type": "stream",
     "text": [
      "Initially, there are\t0\ttranscripts on the walls\n",
      "[]\n"
     ]
    }
   ],
   "source": [
    "foo = np.sum(tlabs == 0)\n",
    "print('Initially, there are\\t',foo,'\\ttranscripts on the walls',sep='')\n",
    "print(np.nonzero(tlabs == 0)[0][:15])\n",
    "if foo > 0:\n",
    "    tlabs, coords = utils.correct_boundary_transcripts(tlabs, coords, label, tpercell, R=10)\n",
    "    foo = np.sum(tlabs == 0)\n",
    "    print('Now there are\\t',foo,'\\ttranscripts on the walls',sep='')"
   ]
  },
  {
   "cell_type": "markdown",
   "id": "7e0b64cb-7f04-469e-9b0d-e1e3300e28fb",
   "metadata": {},
   "source": [
    "![](https://raw.githubusercontent.com/ejamezquita/ejamezquita.github.io/main/mcarto/figs/shifted_transcript.svg)\n",
    "\n",
    "# Deal with misplaced transcripts\n",
    "\n",
    "- Distances are in 3D\n",
    "- Have a closer look at transcripts within `maxdwall` pixels from a wall (chessboard distance)\n",
    "    - **And** that have at least `minneighs` neighbors in a `radius` pixel radius\n",
    "    - To avoid unnecessary NN computations, we are going to limit the NN scope to transcripts such that are within `radius` pixels from a cell wall `cdtmask`\n",
    "- *If* more than `minprob`% of its neighbors belong to a different cell, we assume that this transcript was mislabeled and nudge it toward the cell with the most transcripts\n",
    "- All this nudging might affect the location of some clusters which in turn could warrant more nudging\n",
    "- Thus, the evaluation is repeated over and over again until no nudging is necessary"
   ]
  },
  {
   "cell_type": "code",
   "execution_count": 32,
   "id": "7877bfce-8adb-42e8-87d6-960461b38ffb",
   "metadata": {},
   "outputs": [
    {
     "name": "stdout",
     "output_type": "stream",
     "text": [
      "False\n"
     ]
    }
   ],
   "source": [
    "radius = 30\n",
    "maxdwall = 5\n",
    "minneighs = 5\n",
    "minprob = 74\n",
    "\n",
    "foo = 100\n",
    "iters = 0\n",
    "\n",
    "print(np.sum(edt[coords[1], coords[0]] < maxdwall) > 0)\n",
    "\n",
    "if np.sum(edt[coords[1], coords[0]] < maxdwall) > 0:\n",
    "\n",
    "    cdtmask = np.nonzero(edt[coords[1], coords[0]] < radius)[0]\n",
    "    cdtlabs = tlabs[cdtmask].copy()\n",
    "    cdtcoords = coords[ :,  cdtmask].copy()\n",
    "    edtmask = edt[cdtcoords[1], cdtcoords[0]] < maxdwall\n",
    "    edtvals = np.nonzero(edtmask)[0]\n",
    "\n",
    "    while (foo  > 0) and (iters < 20):\n",
    "        iters += 1    \n",
    "        foo, cdtlabs, cdtcoords = utils.correct_shifted_transcripts(cdtlabs, cdtmask, cdtcoords, edtmask, edtvals, label, maxdwall, minneighs, minprob, radius)\n",
    "        print('Iteration: ', iters, '\\tShifted\\t',foo,' transcripts', sep='')\n",
    "    \n",
    "    shiftmask = np.any(cdtcoords != coords[ :,  cdtmask], axis=0)\n",
    "    print('--- Shifted\\t',np.sum(shiftmask),'\\ttranscripts in total', sep='')\n",
    "shiftidx = np.nonzero(shiftmask)[0]"
   ]
  },
  {
   "cell_type": "code",
   "execution_count": 19,
   "id": "7b808e36-bd6f-4e3b-a2e9-6a49ae38b6c1",
   "metadata": {},
   "outputs": [
    {
     "data": {
      "image/png": "[encoded data removed]",
      "text/plain": [
       "<Figure size 700x350 with 2 Axes>"
      ]
     },
     "metadata": {},
     "output_type": "display_data"
    }
   ],
   "source": [
    "i = shiftidx[0]\n",
    "\n",
    "R = radius*2\n",
    "x,y,z = cdtcoords[:,i]\n",
    "colors = np.abs(z - cdtcoords[2])\n",
    "vmax = np.max(colors)\n",
    "\n",
    "ss = np.s_[max([0, y - R]) : min([label.shape[0], y + R]), \n",
    "           max([0, x - R]) : min([label.shape[1], x + R])]\n",
    "extent = (ss[1].start, ss[1].stop, ss[0].start, ss[0].stop)\n",
    "\n",
    "fig, ax = plt.subplots(1,2,figsize=(7,3.5), sharex=True, sharey=True)\n",
    "ax = np.atleast_1d(ax).ravel(); fs = 16\n",
    "\n",
    "for j in [0,1]:\n",
    "    #ax[j].imshow(edt[ss] < maxdwall, cmap='binary_r', vmin=-2, vmax=2, origin='lower', extent=extent)\n",
    "    ax[j].imshow(wall[ss], cmap='binary',  origin='lower', extent=extent)\n",
    "    ax[j].set_aspect('equal')\n",
    "    ax[j].set_xlim(extent[0],extent[1])\n",
    "    ax[j].set_ylim(extent[2],extent[3])\n",
    "\n",
    "x0,y0,z0 = coords[:, cdtmask][:,i]\n",
    "ax[0].set_title('Original', fontsize=fs)\n",
    "ax[0].scatter(coords[0]+.5, coords[1]+.5, c='r', marker='*', zorder=3, alpha=1);\n",
    "ax[0].scatter([x0+.5], [y0+.5], c='magenta', marker='o', zorder=4, alpha=1);\n",
    "ax[0].plot(radius*np.cos(theta)+x0, radius*np.sin(theta)+y0, c='yellow', ls=':')\n",
    "\n",
    "ax[1].set_title('Shifted', fontsize=fs)\n",
    "ax[1].scatter(cdtcoords[0]+.5, cdtcoords[1]+.5, c=colors, marker='*', zorder=3, alpha=1, cmap='inferno_r', vmin=0, vmax=vmax);\n",
    "ax[1].scatter([x+.5], [y+.5], c='magenta', marker='o', zorder=4, alpha=1);\n",
    "ax[1].plot(radius*np.cos(theta)+x0, radius*np.sin(theta)+y0, c='yellow', ls=':')\n",
    "\n",
    "fig.tight_layout();"
   ]
  },
  {
   "cell_type": "markdown",
   "id": "5ffdeada-3a4b-4b5c-9602-9e431df77ff1",
   "metadata": {},
   "source": [
    "# Save Results\n",
    "\n",
    "- Some transcripts might have been nudged into a nucleus, so they are removed\n",
    "- The number of these accidentally removed transcripts is fairly low, so there should be no major changes down the line."
   ]
  },
  {
   "cell_type": "code",
   "execution_count": 27,
   "id": "1b046645-aace-4fde-99fd-11f160e55e83",
   "metadata": {},
   "outputs": [
    {
     "ename": "IndexError",
     "evalue": "index 11 is out of bounds for axis 1 with size 11",
     "output_type": "error",
     "traceback": [
      "\u001b[0;31m---------------------------------------------------------------------------\u001b[0m",
      "\u001b[0;31mIndexError\u001b[0m                                Traceback (most recent call last)",
      "Cell \u001b[0;32mIn[27], line 1\u001b[0m\n\u001b[0;32m----> 1\u001b[0m \u001b[43mcoords\u001b[49m\u001b[43m[\u001b[49m\u001b[43m:\u001b[49m\u001b[43m,\u001b[49m\u001b[43m \u001b[49m\u001b[43mcdtmask\u001b[49m\u001b[43m]\u001b[49m \u001b[38;5;241m=\u001b[39m cdtcoords\n\u001b[1;32m      2\u001b[0m \u001b[38;5;28mprint\u001b[39m(coords\u001b[38;5;241m.\u001b[39mshape, tlabs\u001b[38;5;241m.\u001b[39mshape, cdtlabs\u001b[38;5;241m.\u001b[39mshape, cdtcoords\u001b[38;5;241m.\u001b[39mshape, sep\u001b[38;5;241m=\u001b[39m\u001b[38;5;124m'\u001b[39m\u001b[38;5;130;01m\\t\u001b[39;00m\u001b[38;5;124m'\u001b[39m)\n\u001b[1;32m      3\u001b[0m \u001b[38;5;28mprint\u001b[39m(np\u001b[38;5;241m.\u001b[39msum(nuclei[coords[\u001b[38;5;241m1\u001b[39m], coords[\u001b[38;5;241m0\u001b[39m]]))\n",
      "\u001b[0;31mIndexError\u001b[0m: index 11 is out of bounds for axis 1 with size 11"
     ]
    }
   ],
   "source": [
    "coords[:, cdtmask] = cdtcoords\n",
    "print(coords.shape, tlabs.shape, cdtlabs.shape, cdtcoords.shape, sep='\\t')\n",
    "print(np.sum(nuclei[coords[1], coords[0]]))\n",
    "#coords = coords[:, ~nuclei[coords[1], coords[0]]]"
   ]
  },
  {
   "cell_type": "code",
   "execution_count": 21,
   "id": "fb6179c7-9997-49a6-9423-ab0bdf3e2054",
   "metadata": {},
   "outputs": [
    {
     "name": "stdout",
     "output_type": "stream",
     "text": [
      "../translocs/D2/location_corrected_D2_-_GLYMA_01G019200.csv\n"
     ]
    }
   ],
   "source": [
    "filename = dst + 'location_corrected_' + sample +'_-_' + transcriptomes[tidx] + '.csv'\n",
    "print(filename)\n",
    "df = pd.DataFrame(coords.T)\n",
    "#df['foo'] = transcriptomes[tidx]\n",
    "#df.to_csv(filename, header=False, index=False)"
   ]
  },
  {
   "cell_type": "code",
   "execution_count": 23,
   "id": "7cd87da2-af66-4011-bd4d-0aa89532f670",
   "metadata": {},
   "outputs": [
    {
     "data": {
      "text/plain": [
       "0    int64\n",
       "1    int64\n",
       "2    int64\n",
       "dtype: object"
      ]
     },
     "execution_count": 23,
     "metadata": {},
     "output_type": "execute_result"
    }
   ],
   "source": [
    "df.dtypes"
   ]
  },
  {
   "cell_type": "code",
   "execution_count": 12,
   "id": "36887994-79e4-4f6b-b15f-9a3b2ed8884d",
   "metadata": {},
   "outputs": [
    {
     "data": {
      "text/plain": [
       "97"
      ]
     },
     "execution_count": 12,
     "metadata": {},
     "output_type": "execute_result"
    }
   ],
   "source": [
    "len(transcriptomes)"
   ]
  }
 ],
 "metadata": {
  "kernelspec": {
   "display_name": "Python 3 (ipykernel)",
   "language": "python",
   "name": "python3"
  },
  "language_info": {
   "codemirror_mode": {
    "name": "ipython",
    "version": 3
   },
   "file_extension": ".py",
   "mimetype": "text/x-python",
   "name": "python",
   "nbconvert_exporter": "python",
   "pygments_lexer": "ipython3",
   "version": "3.10.12"
  }
 },
 "nbformat": 4,
 "nbformat_minor": 5
}
