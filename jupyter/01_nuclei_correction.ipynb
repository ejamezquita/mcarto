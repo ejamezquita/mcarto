{
 "cells": [
  {
   "cell_type": "code",
   "execution_count": 1,
   "id": "956e43c6-4044-4db4-b9ff-ba4343889c59",
   "metadata": {},
   "outputs": [],
   "source": [
    "import numpy as np\n",
    "import pandas as pd\n",
    "from matplotlib import pyplot as plt\n",
    "import tifffile as tf\n",
    "from glob import glob\n",
    "import os\n",
    "\n",
    "from scipy import ndimage\n",
    "from sklearn import neighbors"
   ]
  },
  {
   "cell_type": "code",
   "execution_count": 2,
   "id": "0a7267ae-f7d9-4fef-9ca2-d53dc11e1806",
   "metadata": {},
   "outputs": [],
   "source": [
    "def correct_boundary_transcripts(tlabs, coords, label, tpercell, R = 25):\n",
    "    for i in np.nonzero(tlabs == 0)[0]:\n",
    "        x,y = coords[:2,i]\n",
    "        ss = np.s_[y - R : y + R, x - R : x + R]\n",
    "        cells = np.unique(label[ss])[1:]\n",
    "        newlab = cells[np.argmax(tpercell[cells])]\n",
    "        com = np.flip(np.mean(np.asarray(np.nonzero(label[ss] == newlab)), axis=1))\n",
    "        com[0] += x - R\n",
    "        com[1] += y - R\n",
    "        dv = com - coords[:2,i]\n",
    "        dv = dv/np.linalg.norm(dv)\n",
    "        delta = 1\n",
    "        x,y = (coords[:2,i] + delta*dv).astype(int)\n",
    "        \n",
    "        while(label[y,x] != newlab) and (delta < 50):\n",
    "            delta += 1\n",
    "            x,y = (coords[:2,i] + delta*dv).astype(int)\n",
    "        if delta < 50:\n",
    "            coords[:2,i] = [x,y]\n",
    "            tlabs[i] = newlab\n",
    "        else:\n",
    "            print('Review index', i)\n",
    "\n",
    "    return 0"
   ]
  },
  {
   "cell_type": "code",
   "execution_count": 3,
   "id": "c0d39d91-b5dd-4c6d-af05-06e6962d7b89",
   "metadata": {},
   "outputs": [],
   "source": [
    "struc1 = ndimage.generate_binary_structure(2,1)\n",
    "struc2 = ndimage.generate_binary_structure(2,2)\n",
    "theta = np.linspace(-np.pi, np.pi, 50)\n",
    "\n",
    "wsrc = '../cell_dams/'\n",
    "nsrc = '../nuclear_mask/'\n",
    "csrc = '../data/'\n",
    "dst = '../translocs/'\n",
    "\n",
    "sample = 'D2'\n",
    "\n",
    "radius = 30\n",
    "maxdwall = 6\n",
    "minneighs = 5\n",
    "minprob = 74\n",
    "\n",
    "dst += sample + os.sep\n",
    "if not os.path.isdir(dst):\n",
    "    os.mkdir(dst)"
   ]
  },
  {
   "cell_type": "code",
   "execution_count": 4,
   "id": "3fa52e35-c91e-4b01-98b1-4949d969b2d2",
   "metadata": {},
   "outputs": [
    {
     "name": "stdout",
     "output_type": "stream",
     "text": [
      "Detected 2937 cells\n"
     ]
    }
   ],
   "source": [
    "wall = tf.imread(wsrc + sample + '_dams.tif').astype(bool)\n",
    "nuclei = tf.imread(nsrc + sample + '_EDT.tif') < 2\n",
    "\n",
    "edt = ndimage.distance_transform_cdt(wall, 'chessboard')\n",
    "label, cellnum = ndimage.label(wall, struc1)\n",
    "print('Detected',cellnum,'cells')"
   ]
  },
  {
   "cell_type": "code",
   "execution_count": 5,
   "id": "daa742ec-3e6e-4b4f-b46d-59eadb347371",
   "metadata": {
    "scrolled": true
   },
   "outputs": [
    {
     "name": "stdout",
     "output_type": "stream",
     "text": [
      "97 transcriptomes\n",
      "1\t2\tBAC47034\t1820064\n",
      "2\t85\tGLYMA_17G195900\t796880\n",
      "3\t26\tGLYMA_05G092200\t776841\n",
      "4\t7\tBAC52602\t121477\n",
      "5\t62\tGLYMA_12G027400\t53706\n",
      "6\t77\tGLYMA_16G039800\t37913\n",
      "7\t0\tBAC45727\t32613\n",
      "8\t57\tGLYMA_11G008000\t22998\n",
      "9\t28\tGLYMA_05G216000\t19464\n",
      "10\t84\tGLYMA_17G185800\t17018\n",
      "11\t25\tGLYMA_05G023700\t15123\n",
      "12\t74\tGLYMA_15G210100\t14368\n",
      "13\t16\tGLYMA_02G003700\t9003\n",
      "14\t27\tGLYMA_05G203100\t6415\n",
      "15\t30\tGLYMA_06G065000\t5477\n",
      "16\t47\tGLYMA_09G127000\t5108\n",
      "17\t31\tGLYMA_06G090100\t4916\n",
      "18\t22\tGLYMA_04G063800\t4625\n",
      "19\t10\tCYP93A1\t3929\n",
      "20\t24\tGLYMA_04G227200\t3687\n",
      "(3830384, 4)\n"
     ]
    },
    {
     "data": {
      "text/html": [
       "<div>\n",
       "<style scoped>\n",
       "    .dataframe tbody tr th:only-of-type {\n",
       "        vertical-align: middle;\n",
       "    }\n",
       "\n",
       "    .dataframe tbody tr th {\n",
       "        vertical-align: top;\n",
       "    }\n",
       "\n",
       "    .dataframe thead th {\n",
       "        text-align: right;\n",
       "    }\n",
       "</style>\n",
       "<table border=\"1\" class=\"dataframe\">\n",
       "  <thead>\n",
       "    <tr style=\"text-align: right;\">\n",
       "      <th></th>\n",
       "      <th>mean</th>\n",
       "      <th>std</th>\n",
       "      <th>min</th>\n",
       "      <th>25%</th>\n",
       "      <th>50%</th>\n",
       "      <th>75%</th>\n",
       "      <th>max</th>\n",
       "    </tr>\n",
       "  </thead>\n",
       "  <tbody>\n",
       "    <tr>\n",
       "      <th>X</th>\n",
       "      <td>9018.809175</td>\n",
       "      <td>3467.651045</td>\n",
       "      <td>3</td>\n",
       "      <td>6087</td>\n",
       "      <td>9157</td>\n",
       "      <td>11895</td>\n",
       "      <td>17146</td>\n",
       "    </tr>\n",
       "    <tr>\n",
       "      <th>Y</th>\n",
       "      <td>8152.751641</td>\n",
       "      <td>2937.713570</td>\n",
       "      <td>2</td>\n",
       "      <td>5718</td>\n",
       "      <td>8003</td>\n",
       "      <td>10380</td>\n",
       "      <td>17133</td>\n",
       "    </tr>\n",
       "    <tr>\n",
       "      <th>Z</th>\n",
       "      <td>28.216312</td>\n",
       "      <td>7.161211</td>\n",
       "      <td>1</td>\n",
       "      <td>23</td>\n",
       "      <td>28</td>\n",
       "      <td>33</td>\n",
       "      <td>61</td>\n",
       "    </tr>\n",
       "  </tbody>\n",
       "</table>\n",
       "</div>"
      ],
      "text/plain": [
       "          mean          std  min   25%   50%    75%    max\n",
       "X  9018.809175  3467.651045    3  6087  9157  11895  17146\n",
       "Y  8152.751641  2937.713570    2  5718  8003  10380  17133\n",
       "Z    28.216312     7.161211    1    23    28     33     61"
      ]
     },
     "execution_count": 5,
     "metadata": {},
     "output_type": "execute_result"
    }
   ],
   "source": [
    "filename = csrc + sample + '_data/32771-slide1_' + sample + '_results.txt'\n",
    "data = pd.read_csv(filename, header=None, sep='\\t').drop(columns=[4])\n",
    "data.columns = ['X', 'Y', 'Z', 'T']\n",
    "\n",
    "transcriptomes, invidx, tsize = np.unique(data.iloc[:,-1], return_index = False, return_inverse=True, return_counts=True) \n",
    "print(len(transcriptomes), 'transcriptomes')\n",
    "\n",
    "targsort = np.argsort(tsize)[::-1]\n",
    "for i in range(20):\n",
    "    print(i+1, targsort[i], transcriptomes[targsort[i]], tsize[targsort[i]] , sep='\\t')\n",
    "print(data.shape)\n",
    "data.iloc[:,:3].describe().drop(index='count').T.astype(dict(zip(['min','25%','50%','75%','max'], [int for i in range(5)])))"
   ]
  },
  {
   "cell_type": "code",
   "execution_count": 19,
   "id": "6446b609-058b-4077-b1d2-58ec905cfd7b",
   "metadata": {},
   "outputs": [
    {
     "name": "stdout",
     "output_type": "stream",
     "text": [
      "GLYMA_05G092200\t764852\t11989\t98.5\n"
     ]
    }
   ],
   "source": [
    "tidx = 26\n",
    "\n",
    "tcoords = data.loc[invidx == tidx , ['X', 'Y', 'Z'] ].values.T\n",
    "nmask = ~nuclei[ tcoords[1], tcoords[0] ]\n",
    "coords = tcoords[:, nmask]\n",
    "tlabs = label[coords[1], coords[0] ].astype(int)\n",
    "tpercell, _ = np.histogram(tlabs, np.arange(cellnum+2))\n",
    "print(transcriptomes[tidx], np.sum(nmask), len(nmask) - np.sum(nmask), np.round(100*np.sum(nmask)/len(nmask),1), sep='\\t')"
   ]
  },
  {
   "cell_type": "markdown",
   "id": "217d025c-df68-415b-b857-13133bb4cf0a",
   "metadata": {},
   "source": [
    "# Deal with transcripts on the edge"
   ]
  },
  {
   "cell_type": "code",
   "execution_count": 20,
   "id": "1871ec64-fdfb-4add-b05a-806e4aff927e",
   "metadata": {},
   "outputs": [
    {
     "name": "stdout",
     "output_type": "stream",
     "text": [
      "Initially, there are\t11764\ttranscripts on the walls\n",
      "[  87  206  302  314  439  738  875  969  997 1107 1372 1565 1566 1604\n",
      " 1619]\n",
      "Now there are\t0\ttranscripts on the walls\n"
     ]
    }
   ],
   "source": [
    "foo = np.sum(tlabs == 0)\n",
    "print('Initially, there are\\t',foo,'\\ttranscripts on the walls',sep='')\n",
    "print(np.nonzero(tlabs == 0)[0][:15])\n",
    "if foo > 0:\n",
    "    correct_boundary_transcripts(tlabs, coords, label, tpercell, R=5)\n",
    "    foo = np.sum(tlabs == 0)\n",
    "    print('Now there are\\t',foo,'\\ttranscripts on the walls',sep='')"
   ]
  },
  {
   "cell_type": "markdown",
   "id": "7e0b64cb-7f04-469e-9b0d-e1e3300e28fb",
   "metadata": {},
   "source": [
    "# Deal with misplaced transcripts\n",
    "\n",
    "![](https://raw.githubusercontent.com/ejamezquita/ejamezquita.github.io/main/mcarto/figs/shifted_transcript.svg)"
   ]
  },
  {
   "cell_type": "code",
   "execution_count": 21,
   "id": "117dc983-6b85-4a80-bacf-628a8eadaf1f",
   "metadata": {},
   "outputs": [],
   "source": [
    "def transcript_shift(i, ndist, nidxs, cat, cdtlabs, cdtmask, cdtcoords, edtmask, edtvals, label):\n",
    "    mask = cdtlabs[nidxs[i]] == cat[i,1]\n",
    "    nearest = np.average(cdtcoords[:2,nidxs[i][mask]], axis=1, weights = radius - ndist[i][mask])\n",
    "    dv = nearest - cdtcoords[:2,edtvals[i]]\n",
    "    dv = dv/np.linalg.norm(dv)\n",
    "    x,y = cdtcoords[:2,edtvals[i]]\n",
    "    \n",
    "    delta = 1\n",
    "    x,y = (cdtcoords[:2,edtvals[i]] + delta*dv).astype(int)\n",
    "    while(label[y,x] != cat[i,1]) and (delta < radius):\n",
    "        delta += 1\n",
    "        x,y = (cdtcoords[:2,edtvals[i]] + delta*dv).astype(int)\n",
    "    if delta < radius:\n",
    "        return [ [x,y], cat[i,1], True ]\n",
    "    else:\n",
    "        nearest = cdtcoords[:2,nidxs[i][mask][0]]\n",
    "        dv = nearest - cdtcoords[:2,edtvals[i]]\n",
    "        dv = dv/np.linalg.norm(dv)\n",
    "        x,y = cdtcoords[:2,edtvals[i]]\n",
    "        \n",
    "        delta = 1\n",
    "        x,y = (cdtcoords[:2,edtvals[i]] + delta*dv).astype(int)\n",
    "        while(label[y,x] != cat[i,1]) and (delta < radius):\n",
    "            delta += 1\n",
    "            x,y = (cdtcoords[:2,edtvals[i]] + delta*dv).astype(int)\n",
    "        if delta < radius:\n",
    "            return [ [x,y], cat[i,1], True ]\n",
    "        else:\n",
    "            return [ [x,y], cat[i,1], False ]\n",
    "\n",
    "# Produce a N x 4 matrix with metadata.\n",
    "# For each transcript, consider its nearest neighbors\n",
    "# Count how many neighbors belong to what cells\n",
    "# IF neighbors include transcripts belonging to more than 1 cell,\n",
    "# THEN 1st Col: Number of cells to which nearest neighbors belong\n",
    "#      2nd Col: Index of most popular cell (Cell with the most neighbors)\n",
    "#      3rd Col: BOOL: Current transcript cell location different from majority of neighbors\n",
    "#      4th Col: Percentage of neighbors belonging to most popular cell\n",
    "\n",
    "def get_neighbor_data(nidxs, indexing, minneighs, cdtlabs, cdtmask, cdtcoords, edtmask, edtvals):\n",
    "    \n",
    "    cat = np.zeros((len(nidxs),4), dtype=int)\n",
    "\n",
    "    for i in indexing:\n",
    "        foo, bar = np.unique(cdtlabs[nidxs[i][1:]], return_counts=True)\n",
    "        if len(foo) > 1:\n",
    "            cts = bar/np.sum(bar)\n",
    "            \n",
    "            cat[i,0] = len(foo)\n",
    "            cat[i,1] = foo[np.argmax(cts)]\n",
    "            cat[i,2] = cat[i,1] != cdtlabs[edtvals[i]]\n",
    "            cat[i,3] = 100*np.max(cts)\n",
    "    \n",
    "    return cat\n",
    "            \n",
    "def correct_shifted_transcripts(cdtlabs, cdtmask, cdtcoords, edtmask, edtvals, label, maxdwall=maxdwall, minneighs=minneighs, minprob = minprob):\n",
    "    neigh = neighbors.NearestNeighbors(radius=radius, metric='minkowski', p=2)\n",
    "    neigh.fit(cdtcoords[:3].T)\n",
    "    \n",
    "    ndist, nidxs = neigh.radius_neighbors(cdtcoords[:3, edtmask].T, sort_results=True)\n",
    "    nneighs = np.array(list(map(len,nidxs))) - 1\n",
    "    indexing = np.nonzero(nneighs > minneighs)[0]\n",
    "\n",
    "    cat = get_neighbor_data(nidxs, indexing, minneighs, cdtlabs, cdtmask, cdtcoords, edtmask, edtvals)\n",
    "    \n",
    "    indexing = np.nonzero((cat[:,2] == 1) & (cat[:,3] > 70))[0]\n",
    "    for i in indexing:\n",
    "        shift = transcript_shift(i, ndist, nidxs, cat, cdtlabs, cdtmask, cdtcoords, edtmask, edtvals, label)\n",
    "        if shift[2]:\n",
    "            cdtcoords[:2,edtvals[i]], cdtlabs[edtvals[i]] = shift[0], shift[1]\n",
    "        else:\n",
    "            print('Pay attention to index\\t',i)\n",
    "\n",
    "    return len(indexing)"
   ]
  },
  {
   "cell_type": "code",
   "execution_count": 22,
   "id": "7877bfce-8adb-42e8-87d6-960461b38ffb",
   "metadata": {},
   "outputs": [
    {
     "name": "stdout",
     "output_type": "stream",
     "text": [
      "Iteration: 1\tShifted\t5823 transcripts\n",
      "Iteration: 2\tShifted\t1722 transcripts\n",
      "Iteration: 3\tShifted\t550 transcripts\n",
      "Iteration: 4\tShifted\t173 transcripts\n",
      "Iteration: 5\tShifted\t49 transcripts\n",
      "Iteration: 6\tShifted\t15 transcripts\n",
      "Iteration: 7\tShifted\t8 transcripts\n",
      "Iteration: 8\tShifted\t3 transcripts\n",
      "Iteration: 9\tShifted\t1 transcripts\n",
      "Iteration: 10\tShifted\t0 transcripts\n",
      "Shifted\t8344\ttranscripts in total\n",
      "[  65  108  121  180  396  608  617  693  714  721  735  766  810  882\n",
      "  982  994 1034 1063 1103 1109]\n"
     ]
    }
   ],
   "source": [
    "foo = 100\n",
    "iters = 0\n",
    "\n",
    "cdtmask = np.nonzero(edt[coords[1], coords[0]] < radius)[0]\n",
    "if np.sum(cdtmask) > 0:\n",
    "    cdtlabs = tlabs[cdtmask].copy()\n",
    "    cdtcoords = coords[ :,  cdtmask].copy()\n",
    "    edtmask = edt[cdtcoords[1], cdtcoords[0]] < maxdwall\n",
    "    if np.sum(edtmask) > 0:\n",
    "        edtvals = np.nonzero(edtmask)[0]\n",
    "    \n",
    "        while (foo  > 0) and (iters < 20):\n",
    "            iters += 1    \n",
    "            foo = correct_shifted_transcripts(cdtlabs, cdtmask, cdtcoords, edtmask, edtvals, label, maxdwall, minneighs, minprob)\n",
    "            print('Iteration: ', iters, '\\tShifted\\t',foo,' transcripts', sep='')\n",
    "        \n",
    "        shiftmask = np.any(cdtcoords != coords[ :,  cdtmask], axis=0)\n",
    "        print('Shifted\\t',np.sum(shiftmask),'\\ttranscripts in total', sep='')\n",
    "print(np.nonzero(shiftmask)[0][:20])"
   ]
  },
  {
   "cell_type": "code",
   "execution_count": 24,
   "id": "fd844891-1d8b-4e9d-81ea-ec6064a45358",
   "metadata": {},
   "outputs": [],
   "source": [
    "shiftmask3d = np.nonzero(shiftmask)[0].copy()"
   ]
  },
  {
   "cell_type": "code",
   "execution_count": 17,
   "id": "490fc345-fab6-437f-9e97-43753482cf02",
   "metadata": {},
   "outputs": [
    {
     "data": {
      "text/plain": [
       "array([     7,     65,    121, ..., 623850, 623880, 623992])"
      ]
     },
     "execution_count": 17,
     "metadata": {},
     "output_type": "execute_result"
    }
   ],
   "source": [
    "shiftmask2d"
   ]
  },
  {
   "cell_type": "code",
   "execution_count": 25,
   "id": "284eb931-cddb-499a-bc12-d20d7d36daec",
   "metadata": {},
   "outputs": [
    {
     "name": "stdout",
     "output_type": "stream",
     "text": [
      "(8242,) (8344,)\n"
     ]
    }
   ],
   "source": [
    "print(shiftmask2d.shape, shiftmask3d.shape)"
   ]
  },
  {
   "cell_type": "code",
   "execution_count": 26,
   "id": "2014a8b7-71cb-431f-9036-a80ab5f164bf",
   "metadata": {},
   "outputs": [
    {
     "data": {
      "text/plain": [
       "array([   108,    721,   1308, ..., 622247, 622524, 624015])"
      ]
     },
     "execution_count": 26,
     "metadata": {},
     "output_type": "execute_result"
    }
   ],
   "source": [
    "np.setdiff1d(shiftmask3d, shiftmask2d)"
   ]
  },
  {
   "cell_type": "code",
   "execution_count": 43,
   "id": "be2f0e76-acd3-4987-96f8-a1f2c1478abe",
   "metadata": {},
   "outputs": [
    {
     "name": "stdout",
     "output_type": "stream",
     "text": [
      "(624068,) (3, 624068)\n"
     ]
    }
   ],
   "source": [
    "print(colors.shape, cdtcoords.shape)"
   ]
  },
  {
   "cell_type": "code",
   "execution_count": 46,
   "id": "e852f0c3-bbfb-491c-abcd-a43ee1a0860e",
   "metadata": {},
   "outputs": [
    {
     "data": {
      "text/plain": [
       "array([  8,   7,   7, ..., -25, -26, -26])"
      ]
     },
     "execution_count": 46,
     "metadata": {},
     "output_type": "execute_result"
    }
   ],
   "source": []
  },
  {
   "cell_type": "code",
   "execution_count": 54,
   "id": "7b808e36-bd6f-4e3b-a2e9-6a49ae38b6c1",
   "metadata": {},
   "outputs": [
    {
     "data": {
      "image/png": "[encoded data removed]",
      "text/plain": [
       "<Figure size 700x350 with 2 Axes>"
      ]
     },
     "metadata": {},
     "output_type": "display_data"
    }
   ],
   "source": [
    "i = 721\n",
    "\n",
    "R = radius*2\n",
    "x,y,z = cdtcoords[:,i]\n",
    "colors = np.abs(z - cdtcoords[2])\n",
    "vmax = np.max(colors)\n",
    "\n",
    "ss = np.s_[y - R : y + R, x - R : x + R]\n",
    "extent = (ss[1].start, ss[1].stop, ss[0].start, ss[0].stop)\n",
    "\n",
    "fig, ax = plt.subplots(1,2,figsize=(7,3.5), sharex=True, sharey=True)\n",
    "ax = np.atleast_1d(ax).ravel(); fs = 16\n",
    "\n",
    "for j in [0,1]:\n",
    "    ax[j].imshow(wall[ss], cmap='viridis_r', origin='lower', extent=extent)\n",
    "    ax[j].set_aspect('equal')\n",
    "    ax[j].set_xlim(extent[0],extent[1])\n",
    "    ax[j].set_ylim(extent[2],extent[3])\n",
    "\n",
    "x0,y0,z0 = coords[:, cdtmask][:,i]\n",
    "ax[0].set_title('Original', fontsize=fs)\n",
    "ax[0].scatter(coords[0]+.5, coords[1]+.5, c='r', marker='*', zorder=3, alpha=1);\n",
    "ax[0].scatter([x0+.5], [y0+.5], c='yellow', marker='o', zorder=4, alpha=1);\n",
    "ax[0].plot(radius*np.cos(theta)+x0, radius*np.sin(theta)+y0, c='yellow', ls=':')\n",
    "\n",
    "ax[1].set_title('Shifted', fontsize=fs)\n",
    "ax[1].scatter(cdtcoords[0]+0.5, cdtcoords[1]+.5, c=colors, marker='*', zorder=3, alpha=1, cmap='inferno_r', vmin=0, vmax=vmax);\n",
    "ax[1].scatter([x+.5], [y+.5], c='yellow', marker='o', zorder=4, alpha=1);\n",
    "ax[1].plot(radius*np.cos(theta)+x0, radius*np.sin(theta)+y0, c='yellow', ls=':')\n",
    "\n",
    "fig.tight_layout();"
   ]
  },
  {
   "cell_type": "markdown",
   "id": "5ffdeada-3a4b-4b5c-9602-9e431df77ff1",
   "metadata": {},
   "source": [
    "# Save Results"
   ]
  },
  {
   "cell_type": "code",
   "execution_count": 63,
   "id": "03599e15-ab3d-4b67-8da9-698ac84c6f24",
   "metadata": {},
   "outputs": [],
   "source": [
    "coords[:, cdtmask] = cdtcoords"
   ]
  },
  {
   "cell_type": "code",
   "execution_count": 64,
   "id": "1b046645-aace-4fde-99fd-11f160e55e83",
   "metadata": {},
   "outputs": [
    {
     "name": "stdout",
     "output_type": "stream",
     "text": [
      "(3, 764852)\t(764852,)\t(624068,)\t(3, 624068)\t(776841,)\n"
     ]
    },
    {
     "data": {
      "text/plain": [
       "8"
      ]
     },
     "execution_count": 64,
     "metadata": {},
     "output_type": "execute_result"
    }
   ],
   "source": [
    "print(coords.shape, tlabs.shape, cdtlabs.shape, cdtcoords.shape, nmask.shape, sep='\\t')\n",
    "np.sum(nuclei[coords[1], coords[0]])"
   ]
  },
  {
   "cell_type": "code",
   "execution_count": 65,
   "id": "1681c555-c63f-4f95-a5f9-79df612df86c",
   "metadata": {},
   "outputs": [
    {
     "data": {
      "text/plain": [
       "(3, 764844)"
      ]
     },
     "execution_count": 65,
     "metadata": {},
     "output_type": "execute_result"
    }
   ],
   "source": [
    "coords[:, ~nuclei[coords[1], coords[0]]].shape"
   ]
  },
  {
   "cell_type": "code",
   "execution_count": 66,
   "id": "28a722d6-13ea-4298-b81e-72202c07bfec",
   "metadata": {},
   "outputs": [],
   "source": [
    "coords = coords[:, ~nuclei[coords[1], coords[0]]]"
   ]
  },
  {
   "cell_type": "code",
   "execution_count": 82,
   "id": "fb6179c7-9997-49a6-9423-ab0bdf3e2054",
   "metadata": {},
   "outputs": [
    {
     "name": "stdout",
     "output_type": "stream",
     "text": [
      "../translocs/D2/location_corrected_D2_-_GLYMA_05G092200.csv\n"
     ]
    }
   ],
   "source": [
    "filename = dst + 'location_corrected_' + sample +'_-_' + transcriptomes[tidx] + '.csv'\n",
    "print(filename)\n",
    "df = pd.DataFrame(coords.T)\n",
    "#df['foo'] = transcriptomes[tidx]\n",
    "df.to_csv(filename, header=False, index=False)"
   ]
  },
  {
   "cell_type": "code",
   "execution_count": 80,
   "id": "2aa8303f-4091-41f9-86e0-b97ce2fc55b1",
   "metadata": {},
   "outputs": [
    {
     "data": {
      "text/plain": [
       "True"
      ]
     },
     "execution_count": 80,
     "metadata": {},
     "output_type": "execute_result"
    }
   ],
   "source": [
    "os.path.splitext(filename)[0].split('_-_')[-1] == transcriptomes[tidx]"
   ]
  },
  {
   "cell_type": "code",
   "execution_count": 83,
   "id": "846c7b0b-b2f9-4b8c-8740-7fafbe116b50",
   "metadata": {},
   "outputs": [
    {
     "data": {
      "text/plain": [
       "97"
      ]
     },
     "execution_count": 83,
     "metadata": {},
     "output_type": "execute_result"
    }
   ],
   "source": [
    "len(transcriptomes)"
   ]
  }
 ],
 "metadata": {
  "kernelspec": {
   "display_name": "Python 3 (ipykernel)",
   "language": "python",
   "name": "python3"
  },
  "language_info": {
   "codemirror_mode": {
    "name": "ipython",
    "version": 3
   },
   "file_extension": ".py",
   "mimetype": "text/x-python",
   "name": "python",
   "nbconvert_exporter": "python",
   "pygments_lexer": "ipython3",
   "version": "3.10.12"
  }
 },
 "nbformat": 4,
 "nbformat_minor": 5
}
