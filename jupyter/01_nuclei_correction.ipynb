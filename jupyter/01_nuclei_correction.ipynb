{
 "cells": [
  {
   "cell_type": "code",
   "execution_count": 1,
   "id": "956e43c6-4044-4db4-b9ff-ba4343889c59",
   "metadata": {},
   "outputs": [],
   "source": [
    "import numpy as np\n",
    "import pandas as pd\n",
    "from matplotlib import pyplot as plt\n",
    "import tifffile as tf\n",
    "from glob import glob\n",
    "import os\n",
    "\n",
    "from scipy import ndimage\n",
    "from sklearn import neighbors"
   ]
  },
  {
   "cell_type": "code",
   "execution_count": 2,
   "id": "c0d39d91-b5dd-4c6d-af05-06e6962d7b89",
   "metadata": {},
   "outputs": [],
   "source": [
    "struc1 = ndimage.generate_binary_structure(2,1)\n",
    "struc2 = ndimage.generate_binary_structure(2,2)\n",
    "theta = np.linspace(-np.pi, np.pi, 50)\n",
    "\n",
    "wsrc = '../cell_dams/'\n",
    "nsrc = '../nuclear_mask/'\n",
    "csrc = '../data/'\n",
    "dst = '../results/'\n",
    "\n",
    "sample = 'D2'\n",
    "\n",
    "radius = 30\n",
    "maxdwall = 6\n",
    "minneighs = 5\n",
    "minprob = 74\n"
   ]
  },
  {
   "cell_type": "code",
   "execution_count": 3,
   "id": "3fa52e35-c91e-4b01-98b1-4949d969b2d2",
   "metadata": {},
   "outputs": [
    {
     "name": "stdout",
     "output_type": "stream",
     "text": [
      "Detected 2937 cells\n"
     ]
    }
   ],
   "source": [
    "wall = tf.imread(wsrc + sample + '_dams.tif').astype(bool)\n",
    "edt = tf.imread(nsrc + sample + '_EDT.tif')\n",
    "nuclei = edt < 2\n",
    "\n",
    "edt = ndimage.distance_transform_cdt(wall, 'chessboard')\n",
    "label, cellnum = ndimage.label(wall, struc1)\n",
    "print('Detected',cellnum,'cells')"
   ]
  },
  {
   "cell_type": "code",
   "execution_count": 4,
   "id": "daa742ec-3e6e-4b4f-b46d-59eadb347371",
   "metadata": {
    "scrolled": true
   },
   "outputs": [
    {
     "name": "stdout",
     "output_type": "stream",
     "text": [
      "97 transcriptomes\n",
      "1\t2\tBAC47034\t1820064\n",
      "2\t85\tGLYMA_17G195900\t796880\n",
      "3\t26\tGLYMA_05G092200\t776841\n",
      "4\t7\tBAC52602\t121477\n",
      "5\t62\tGLYMA_12G027400\t53706\n",
      "6\t77\tGLYMA_16G039800\t37913\n",
      "7\t0\tBAC45727\t32613\n",
      "8\t57\tGLYMA_11G008000\t22998\n",
      "9\t28\tGLYMA_05G216000\t19464\n",
      "10\t84\tGLYMA_17G185800\t17018\n",
      "11\t25\tGLYMA_05G023700\t15123\n",
      "12\t74\tGLYMA_15G210100\t14368\n",
      "13\t16\tGLYMA_02G003700\t9003\n",
      "14\t27\tGLYMA_05G203100\t6415\n",
      "15\t30\tGLYMA_06G065000\t5477\n",
      "16\t47\tGLYMA_09G127000\t5108\n",
      "17\t31\tGLYMA_06G090100\t4916\n",
      "18\t22\tGLYMA_04G063800\t4625\n",
      "19\t10\tCYP93A1\t3929\n",
      "20\t24\tGLYMA_04G227200\t3687\n",
      "(3830384, 4)\n"
     ]
    },
    {
     "data": {
      "text/html": [
       "<div>\n",
       "<style scoped>\n",
       "    .dataframe tbody tr th:only-of-type {\n",
       "        vertical-align: middle;\n",
       "    }\n",
       "\n",
       "    .dataframe tbody tr th {\n",
       "        vertical-align: top;\n",
       "    }\n",
       "\n",
       "    .dataframe thead th {\n",
       "        text-align: right;\n",
       "    }\n",
       "</style>\n",
       "<table border=\"1\" class=\"dataframe\">\n",
       "  <thead>\n",
       "    <tr style=\"text-align: right;\">\n",
       "      <th></th>\n",
       "      <th>mean</th>\n",
       "      <th>std</th>\n",
       "      <th>min</th>\n",
       "      <th>25%</th>\n",
       "      <th>50%</th>\n",
       "      <th>75%</th>\n",
       "      <th>max</th>\n",
       "    </tr>\n",
       "  </thead>\n",
       "  <tbody>\n",
       "    <tr>\n",
       "      <th>X</th>\n",
       "      <td>9018.809175</td>\n",
       "      <td>3467.651045</td>\n",
       "      <td>3</td>\n",
       "      <td>6087</td>\n",
       "      <td>9157</td>\n",
       "      <td>11895</td>\n",
       "      <td>17146</td>\n",
       "    </tr>\n",
       "    <tr>\n",
       "      <th>Y</th>\n",
       "      <td>8152.751641</td>\n",
       "      <td>2937.713570</td>\n",
       "      <td>2</td>\n",
       "      <td>5718</td>\n",
       "      <td>8003</td>\n",
       "      <td>10380</td>\n",
       "      <td>17133</td>\n",
       "    </tr>\n",
       "    <tr>\n",
       "      <th>Z</th>\n",
       "      <td>28.216312</td>\n",
       "      <td>7.161211</td>\n",
       "      <td>1</td>\n",
       "      <td>23</td>\n",
       "      <td>28</td>\n",
       "      <td>33</td>\n",
       "      <td>61</td>\n",
       "    </tr>\n",
       "  </tbody>\n",
       "</table>\n",
       "</div>"
      ],
      "text/plain": [
       "          mean          std  min   25%   50%    75%    max\n",
       "X  9018.809175  3467.651045    3  6087  9157  11895  17146\n",
       "Y  8152.751641  2937.713570    2  5718  8003  10380  17133\n",
       "Z    28.216312     7.161211    1    23    28     33     61"
      ]
     },
     "execution_count": 4,
     "metadata": {},
     "output_type": "execute_result"
    }
   ],
   "source": [
    "filename = csrc + sample + '_data/32771-slide1_' + sample + '_results.txt'\n",
    "data = pd.read_csv(filename, header=None, sep='\\t').drop(columns=[4])\n",
    "data.columns = ['X', 'Y', 'Z', 'T']\n",
    "\n",
    "transcriptomes, invidx, tsize = np.unique(data.iloc[:,-1], return_index = False, return_inverse=True, return_counts=True) \n",
    "print(len(transcriptomes), 'transcriptomes')\n",
    "\n",
    "targsort = np.argsort(tsize)[::-1]\n",
    "for i in range(20):\n",
    "    print(i+1, targsort[i], transcriptomes[targsort[i]], tsize[targsort[i]] , sep='\\t')\n",
    "print(data.shape)\n",
    "data.iloc[:,:3].describe().drop(index='count').T.astype(dict(zip(['min','25%','50%','75%','max'], [int for i in range(5)])))"
   ]
  },
  {
   "cell_type": "code",
   "execution_count": 24,
   "id": "93edb7b7-d189-41a8-82a3-b1eb73750cc3",
   "metadata": {},
   "outputs": [
    {
     "name": "stdout",
     "output_type": "stream",
     "text": [
      "0\tBAC45727\t32171\t442\t98.6\n",
      "1\tBAC46169\t1151\t11\t99.1\n",
      "2\tBAC47034\t1795069\t24995\t98.6\n",
      "3\tBAC47856\t1923\t16\t99.2\n",
      "4\tBAC48395\t2985\t48\t98.4\n",
      "5\tBAC51072\t2796\t29\t99.0\n",
      "6\tBAC51722\t337\t7\t98.0\n",
      "7\tBAC52602\t120280\t1197\t99.0\n",
      "8\tBAC52793\t2412\t41\t98.3\n",
      "9\tBAC52805\t1984\t16\t99.2\n",
      "10\tCYP93A1\t3705\t224\t94.3\n",
      "11\tG4DT\t523\t52\t91.0\n",
      "12\tGLYMA_01G019200\t377\t90\t80.7\n",
      "13\tGLYMA_01G156200\t445\t32\t93.3\n",
      "14\tGLYMA_01G164600\t341\t160\t68.1\n",
      "15\tGLYMA_01G187400\t600\t23\t96.3\n",
      "16\tGLYMA_02G003700\t7666\t1337\t85.1\n",
      "17\tGLYMA_02G149100\t73\t17\t81.1\n",
      "18\tGLYMA_02G201100\t37\t3\t92.5\n",
      "19\tGLYMA_03G029900\t86\t1\t98.9\n",
      "20\tGLYMA_03G079500\t315\t33\t90.5\n",
      "21\tGLYMA_04G010600\t24\t0\t100.0\n",
      "22\tGLYMA_04G063800\t4611\t14\t99.7\n",
      "23\tGLYMA_04G208400\t129\t9\t93.5\n",
      "24\tGLYMA_04G227200\t3583\t104\t97.2\n",
      "25\tGLYMA_05G023700\t14285\t838\t94.5\n",
      "26\tGLYMA_05G092200\t764852\t11989\t98.5\n",
      "27\tGLYMA_05G203100\t6153\t262\t95.9\n",
      "28\tGLYMA_05G216000\t18398\t1066\t94.5\n",
      "29\tGLYMA_06G002000\t751\t254\t74.7\n",
      "30\tGLYMA_06G065000\t5451\t26\t99.5\n",
      "31\tGLYMA_06G090100\t4682\t234\t95.2\n",
      "32\tGLYMA_06G168300\t321\t18\t94.7\n",
      "33\tGLYMA_06G235500\t118\t47\t71.5\n",
      "34\tGLYMA_06G256000\t1416\t853\t62.4\n",
      "35\tGLYMA_06G259400\t861\t702\t55.1\n",
      "36\tGLYMA_06G294200\t22\t0\t100.0\n",
      "37\tGLYMA_06G318000\t11\t0\t100.0\n",
      "38\tGLYMA_07G006500\t129\t19\t87.2\n",
      "39\tGLYMA_07G130800\t140\t16\t89.7\n",
      "40\tGLYMA_07G231500\t157\t22\t87.7\n",
      "41\tGLYMA_08G011100\t715\t55\t92.9\n",
      "42\tGLYMA_08G021700\t83\t9\t90.2\n",
      "43\tGLYMA_08G125800\t969\t171\t85.0\n",
      "44\tGLYMA_08G314900\t81\t3\t96.4\n",
      "45\tGLYMA_09G013100\t33\t0\t100.0\n",
      "46\tGLYMA_09G099900\t34\t0\t100.0\n",
      "47\tGLYMA_09G127000\t4673\t435\t91.5\n",
      "48\tGLYMA_09G150000\t1457\t493\t74.7\n",
      "49\tGLYMA_09G160400\t371\t10\t97.4\n",
      "50\tGLYMA_09G216800\t298\t43\t87.4\n",
      "51\tGLYMA_10G028200\t27\t8\t77.1\n",
      "52\tGLYMA_10G028300\t54\t27\t66.7\n",
      "53\tGLYMA_10G070200\t559\t56\t90.9\n",
      "54\tGLYMA_10G125000\t734\t25\t96.7\n",
      "55\tGLYMA_10G139200\t463\t23\t95.3\n",
      "56\tGLYMA_10G229400\t2275\t320\t87.7\n",
      "57\tGLYMA_11G008000\t21946\t1052\t95.4\n",
      "58\tGLYMA_11G078300\t2055\t157\t92.9\n",
      "59\tGLYMA_11G221200\t255\t116\t68.7\n",
      "60\tGLYMA_11G235600\t26\t5\t83.9\n",
      "61\tGLYMA_11G243100\t58\t3\t95.1\n",
      "62\tGLYMA_12G027400\t51430\t2276\t95.8\n",
      "63\tGLYMA_12G154300\t18\t1\t94.7\n",
      "64\tGLYMA_13G046800\t19\t0\t100.0\n",
      "65\tGLYMA_13G091600\t110\t5\t95.7\n",
      "66\tGLYMA_13G261000\t988\t203\t83.0\n",
      "67\tGLYMA_13G334500\t639\t7\t98.9\n",
      "68\tGLYMA_14G204500\t32\t0\t100.0\n",
      "69\tGLYMA_14G218700\t157\t20\t88.7\n",
      "70\tGLYMA_15G008500\t220\t37\t85.6\n",
      "71\tGLYMA_15G040000\t911\t20\t97.9\n",
      "72\tGLYMA_15G169100\t34\t3\t91.9\n",
      "73\tGLYMA_15G179500\t1311\t3\t99.8\n",
      "74\tGLYMA_15G210100\t12570\t1798\t87.5\n",
      "75\tGLYMA_15G245800\t1329\t326\t80.3\n",
      "76\tGLYMA_15G274200\t85\t3\t96.6\n",
      "77\tGLYMA_16G039800\t35855\t2058\t94.6\n",
      "78\tGLYMA_16G106800\t467\t175\t72.7\n",
      "79\tGLYMA_16G165900\t2643\t137\t95.1\n",
      "80\tGLYMA_17G068700\t359\t12\t96.8\n",
      "81\tGLYMA_17G133100\t24\t0\t100.0\n",
      "82\tGLYMA_17G180400\t167\t24\t87.4\n",
      "83\tGLYMA_17G185600\t536\t12\t97.8\n",
      "84\tGLYMA_17G185800\t16816\t202\t98.8\n",
      "85\tGLYMA_17G195900\t720876\t76004\t90.5\n",
      "86\tGLYMA_17G235000\t856\t26\t97.1\n",
      "87\tGLYMA_18G043200\t136\t0\t100.0\n",
      "88\tGLYMA_18G062100\t1498\t162\t90.2\n",
      "89\tGLYMA_18G153100\t925\t53\t94.6\n",
      "90\tGLYMA_18G197400\t1640\t1\t99.9\n",
      "91\tGLYMA_19G096100\t1284\t17\t98.7\n",
      "92\tGLYMA_19G255500\t951\t472\t66.8\n",
      "93\tGLYMA_20G054000\t126\t4\t96.9\n",
      "94\tGLYMA_20G061300\t1509\t741\t67.1\n",
      "95\tGLYMA_20G135300\t1633\t193\t89.4\n",
      "96\tGLYMA_20G151700\t366\t75\t83.0\n"
     ]
    }
   ],
   "source": [
    "tidx = 3\n",
    "for tidx in range(len(transcriptomes)):\n",
    "    tcoords = data.loc[invidx == tidx , ['X', 'Y', 'Z'] ].values.T\n",
    "    nmask = ~nuclei[ tcoords[1], tcoords[0] ]\n",
    "    coords = tcoords[:2, nmask]\n",
    "    tlabs = label[coords[1], coords[0] ].astype(int)\n",
    "    tpercell, _ = np.histogram(tlabs, np.arange(cellnum+2))\n",
    "    print(tidx, transcriptomes[tidx], np.sum(nmask), len(nmask) - np.sum(nmask), np.round(100*np.sum(nmask)/len(nmask),1), sep='\\t')"
   ]
  },
  {
   "cell_type": "code",
   "execution_count": 30,
   "id": "6446b609-058b-4077-b1d2-58ec905cfd7b",
   "metadata": {},
   "outputs": [
    {
     "name": "stdout",
     "output_type": "stream",
     "text": [
      "GLYMA_05G092200\t764852\t11989\t98.5\n"
     ]
    }
   ],
   "source": [
    "tidx = 26\n",
    "\n",
    "tcoords = data.loc[invidx == tidx , ['X', 'Y', 'Z'] ].values.T\n",
    "nmask = ~nuclei[ tcoords[1], tcoords[0] ]\n",
    "coords = tcoords[:2, nmask]\n",
    "tlabs = label[coords[1], coords[0] ].astype(int)\n",
    "tpercell, _ = np.histogram(tlabs, np.arange(cellnum+2))\n",
    "print(transcriptomes[tidx], np.sum(nmask), len(nmask) - np.sum(nmask), np.round(100*np.sum(nmask)/len(nmask),1), sep='\\t')"
   ]
  },
  {
   "cell_type": "markdown",
   "id": "217d025c-df68-415b-b857-13133bb4cf0a",
   "metadata": {},
   "source": [
    "# Deal with transcripts on the edge"
   ]
  },
  {
   "cell_type": "code",
   "execution_count": 31,
   "id": "0a7267ae-f7d9-4fef-9ca2-d53dc11e1806",
   "metadata": {},
   "outputs": [],
   "source": [
    "def correct_boundary_transcripts(R = 25):\n",
    "    for i in np.nonzero(tlabs == 0)[0]:\n",
    "        x,y = coords[:,i]\n",
    "        ss = np.s_[y - R : y + R, x - R : x + R]\n",
    "        cells = np.unique(label[ss])[1:]\n",
    "        newlab = cells[np.argmax(tpercell[cells])]\n",
    "        com = np.flip(np.mean(np.asarray(np.nonzero(label[ss] == newlab)), axis=1))\n",
    "        com[0] += x - R\n",
    "        com[1] += y - R\n",
    "        dv = com - coords[:,i]\n",
    "        dv = dv/np.linalg.norm(dv)\n",
    "        delta = 1\n",
    "        x,y = (coords[:,i] + delta*dv).astype(int)\n",
    "        \n",
    "        while(label[y,x] != newlab) and (delta < 50):\n",
    "            delta += 1\n",
    "            x,y = (coords[:,i] + delta*dv).astype(int)\n",
    "        if delta < 50:\n",
    "            coords[:,i] = [x,y]\n",
    "            tlabs[i] = newlab\n",
    "        else:\n",
    "            print('Review index', i)\n",
    "\n",
    "    return 0"
   ]
  },
  {
   "cell_type": "code",
   "execution_count": 32,
   "id": "1871ec64-fdfb-4add-b05a-806e4aff927e",
   "metadata": {},
   "outputs": [
    {
     "name": "stdout",
     "output_type": "stream",
     "text": [
      "Initially, there are\t11764\ttranscripts on the walls\n",
      "[  87  206  302  314  439  738  875  969  997 1107 1372 1565 1566 1604\n",
      " 1619]\n",
      "Now there are\t0\ttranscripts on the walls\n"
     ]
    }
   ],
   "source": [
    "foo = np.sum(tlabs == 0)\n",
    "print('Initially, there are\\t',foo,'\\ttranscripts on the walls',sep='')\n",
    "print(np.nonzero(tlabs == 0)[0][:15])\n",
    "if foo > 0:\n",
    "    correct_boundary_transcripts(R=5)\n",
    "    foo = np.sum(tlabs == 0)\n",
    "    print('Now there are\\t',foo,'\\ttranscripts on the walls',sep='')"
   ]
  },
  {
   "cell_type": "code",
   "execution_count": 33,
   "id": "e5348eba-dc67-4125-b71a-5be43d4e78e1",
   "metadata": {},
   "outputs": [
    {
     "name": "stdout",
     "output_type": "stream",
     "text": [
      "7924 2087\n",
      "[ 1 49]\n",
      "[4516   21]\n",
      "7923 2086 1\n"
     ]
    }
   ],
   "source": [
    "i = 87\n",
    "R = 5\n",
    "x,y = coords[:,i]\n",
    "print(x,y)\n",
    "ss = np.s_[y - R : y + R, x - R : x + R]\n",
    "cells = np.unique(label[ss])[1:]\n",
    "print(cells, tpercell[cells], sep='\\n')\n",
    "newlab = cells[np.argmax(tpercell[cells])]\n",
    "com = np.flip(np.mean(np.asarray(np.nonzero(label[ss] == newlab)), axis=1))\n",
    "com[0] += x - R\n",
    "com[1] += y - R\n",
    "dv = com - coords[:,i]\n",
    "dv = dv/np.linalg.norm(dv)\n",
    "delta = 1\n",
    "x,y = (coords[:,i] + delta*dv).astype(int)\n",
    "\n",
    "while(label[y,x] != newlab) and (delta < 50):\n",
    "    delta += 1\n",
    "    x,y = (coords[:,i] + delta*dv).astype(int)\n",
    "print(x,y,delta)"
   ]
  },
  {
   "cell_type": "code",
   "execution_count": 34,
   "id": "06e028f2-a728-4391-878a-eefccb2899ca",
   "metadata": {},
   "outputs": [
    {
     "data": {
      "image/png": "[encoded data removed]",
      "text/plain": [
       "<Figure size 800x500 with 2 Axes>"
      ]
     },
     "metadata": {},
     "output_type": "display_data"
    }
   ],
   "source": [
    "R = 5\n",
    "x,y = coords[:,i]\n",
    "ss = np.s_[y - R : y + R, x - R : x + R]\n",
    "\n",
    "extent = (ss[1].start, ss[1].stop, ss[0].start, ss[0].stop)\n",
    "\n",
    "fig, ax = plt.subplots(1,2,figsize=(8,5), sharex=True, sharey=True)\n",
    "ax = np.atleast_1d(ax).ravel()\n",
    "\n",
    "ax[0].imshow(wall[ss], cmap='plasma_r', origin='lower', extent=extent, vmin=0)\n",
    "ax[0].scatter(coords[0]+.5, coords[1]+.5, c='r', marker='*', zorder=3, alpha=1);\n",
    "ax[0].scatter([x+.5], [y+.5], c='lime', marker='o', zorder=4, alpha=1);\n",
    "\n",
    "ax[1].imshow(label[ss]==newlab, cmap='plasma', origin='lower', extent=extent, vmin=0)\n",
    "\n",
    "for j in range(len(ax)):\n",
    "    ax[j].set_aspect('equal')\n",
    "    ax[j].set_xlim(extent[0],extent[1])\n",
    "    ax[j].set_ylim(extent[2],extent[3])\n",
    "\n",
    "fig.tight_layout();"
   ]
  },
  {
   "cell_type": "markdown",
   "id": "7e0b64cb-7f04-469e-9b0d-e1e3300e28fb",
   "metadata": {},
   "source": [
    "# Deal with misplaced transcripts"
   ]
  },
  {
   "cell_type": "code",
   "execution_count": 35,
   "id": "117dc983-6b85-4a80-bacf-628a8eadaf1f",
   "metadata": {},
   "outputs": [],
   "source": [
    "def transcript_shift(i, ndist, nidxs, cat, cdtlabs, cdtmask, cdtcoords, edtmask, edtvals):\n",
    "    mask = cdtlabs[nidxs[i]] == cat[i,1]\n",
    "    nearest = np.average(cdtcoords[:,nidxs[i][mask]], axis=1, weights = radius - ndist[i][mask])\n",
    "    dv = nearest - cdtcoords[:,edtvals[i]]\n",
    "    dv = dv/np.linalg.norm(dv)\n",
    "    x,y = cdtcoords[:,edtvals[i]]\n",
    "    \n",
    "    delta = 1\n",
    "    x,y = (cdtcoords[:,edtvals[i]] + delta*dv).astype(int)\n",
    "    while(label[y,x] != cat[i,1]) and (delta < radius):\n",
    "        delta += 1\n",
    "        x,y = (cdtcoords[:,edtvals[i]] + delta*dv).astype(int)\n",
    "    if delta < radius:\n",
    "        return [ [x,y], cat[i,1], True ]\n",
    "    else:\n",
    "        nearest = cdtcoords[:,nidxs[i][mask][0]]\n",
    "        dv = nearest - cdtcoords[:,edtvals[i]]\n",
    "        dv = dv/np.linalg.norm(dv)\n",
    "        x,y = cdtcoords[:,edtvals[i]]\n",
    "        \n",
    "        delta = 1\n",
    "        x,y = (cdtcoords[:,edtvals[i]] + delta*dv).astype(int)\n",
    "        while(label[y,x] != cat[i,1]) and (delta < radius):\n",
    "            delta += 1\n",
    "            x,y = (cdtcoords[:,edtvals[i]] + delta*dv).astype(int)\n",
    "        if delta < radius:\n",
    "            return [ [x,y], cat[i,1], True ]\n",
    "        else:\n",
    "            return [ [x,y], cat[i,1], False ]\n",
    "\n",
    "def get_neighbor_data(nidxs, indexing, minneighs, cdtlabs, cdtmask, cdtcoords, edtmask, edtvals):\n",
    "    \n",
    "    cat = np.zeros((len(nidxs),4), dtype=int)\n",
    "\n",
    "    for i in indexing:\n",
    "        foo, bar = np.unique(cdtlabs[nidxs[i][1:]], return_counts=True)\n",
    "        if len(foo) > 1:\n",
    "            cts = bar/np.sum(bar)\n",
    "            \n",
    "            cat[i,0] = len(foo)\n",
    "            cat[i,1] = foo[np.argmax(cts)]\n",
    "            cat[i,2] = cat[i,1] != cdtlabs[edtvals[i]]\n",
    "            cat[i,3] = 100*np.max(cts)\n",
    "    \n",
    "    return cat\n",
    "            \n",
    "def correct_shifted_transcripts(cdtlabs, cdtmask, cdtcoords, edtmask, edtvals, maxdwall=maxdwall, minneighs=minneighs, minprob = minprob):\n",
    "    neigh = neighbors.NearestNeighbors(radius=radius)\n",
    "    neigh.fit(cdtcoords.T)\n",
    "    \n",
    "    ndist, nidxs = neigh.radius_neighbors(cdtcoords[:, edtmask].T, sort_results=True)\n",
    "    nneighs = np.array(list(map(len,nidxs))) - 1\n",
    "    indexing = np.nonzero(nneighs > minneighs)[0]\n",
    "\n",
    "    cat = get_neighbor_data(nidxs, indexing, minneighs, cdtlabs, cdtmask, cdtcoords, edtmask, edtvals)\n",
    "    \n",
    "    indexing = np.nonzero((cat[:,2] == 1) & (cat[:,3] > 70))[0]\n",
    "    for i in indexing:\n",
    "        shift = transcript_shift(i, ndist, nidxs, cat, cdtlabs, cdtmask, cdtcoords, edtmask, edtvals)\n",
    "        if shift[2]:\n",
    "            cdtcoords[:,edtvals[i]], cdtlabs[edtvals[i]] = shift[0], shift[1]\n",
    "        else:\n",
    "            print('Pay attention to index\\t',i)\n",
    "\n",
    "    return len(indexing)\n",
    "    #return ndist, nidxs, cat"
   ]
  },
  {
   "cell_type": "code",
   "execution_count": 36,
   "id": "7877bfce-8adb-42e8-87d6-960461b38ffb",
   "metadata": {},
   "outputs": [
    {
     "name": "stdout",
     "output_type": "stream",
     "text": [
      "Iteration: 1\tShifted\t5772 transcripts\n",
      "Iteration: 2\tShifted\t1734 transcripts\n",
      "Iteration: 3\tShifted\t523 transcripts\n",
      "Iteration: 4\tShifted\t154 transcripts\n",
      "Iteration: 5\tShifted\t46 transcripts\n",
      "Iteration: 6\tShifted\t12 transcripts\n",
      "Iteration: 7\tShifted\t1 transcripts\n",
      "Iteration: 8\tShifted\t0 transcripts\n",
      "Shifted\t8242\ttranscripts in total\n",
      "[   7   65  121  180  396  608  617  693  714  735  766  810  882  982\n",
      "  994 1034 1063 1103 1109 1160]\n"
     ]
    }
   ],
   "source": [
    "foo = 100\n",
    "iters = 0\n",
    "\n",
    "cdtmask = np.nonzero(edt[coords[1], coords[0]] < radius)[0]\n",
    "if np.sum(cdtmask) > 0:\n",
    "    cdtlabs = tlabs[cdtmask].copy()\n",
    "    cdtcoords = coords[ :,  cdtmask].copy()\n",
    "    edtmask = edt[cdtcoords[1], cdtcoords[0]] < maxdwall\n",
    "    if np.sum(edtmask) > 0:\n",
    "        edtvals = np.nonzero(edtmask)[0]\n",
    "    \n",
    "        while (foo  > 0) and (iters < 20):\n",
    "            iters += 1    \n",
    "            foo = correct_shifted_transcripts(cdtlabs, cdtmask, cdtcoords, edtmask, edtvals, maxdwall, minneighs, minprob)\n",
    "            print('Iteration: ', iters, '\\tShifted\\t',foo,' transcripts', sep='')\n",
    "        \n",
    "        shiftmask = np.any(cdtcoords != coords[ :,  cdtmask], axis=0)\n",
    "        print('Shifted\\t',np.sum(shiftmask),'\\ttranscripts in total', sep='')\n",
    "print(np.nonzero(shiftmask)[0][:20])"
   ]
  },
  {
   "cell_type": "code",
   "execution_count": 37,
   "id": "7b808e36-bd6f-4e3b-a2e9-6a49ae38b6c1",
   "metadata": {},
   "outputs": [
    {
     "data": {
      "image/png": "[encoded data removed]",
      "text/plain": [
       "<Figure size 700x700 with 4 Axes>"
      ]
     },
     "metadata": {},
     "output_type": "display_data"
    }
   ],
   "source": [
    "i = 7\n",
    "\n",
    "R = radius*2\n",
    "x,y = cdtcoords[:,i]\n",
    "ss = np.s_[y - R : y + R, x - R : x + R]\n",
    "extent = (ss[1].start, ss[1].stop, ss[0].start, ss[0].stop)\n",
    "\n",
    "fig, ax = plt.subplots(2,2,figsize=(7,7), sharex=True, sharey=True)\n",
    "ax = np.atleast_1d(ax).ravel(); fs = 16\n",
    "\n",
    "for j in [0,1]:\n",
    "    ax[j].imshow(wall[ss], cmap='plasma_r', origin='lower', extent=extent)\n",
    "\n",
    "x0,y0 = coords[:, cdtmask][:,i]\n",
    "ax[0].set_title('Original', fontsize=fs)\n",
    "ax[0].scatter(coords[0]+.5, coords[1]+.5, c='r', marker='*', zorder=3, alpha=1);\n",
    "ax[0].scatter([x0+.5], [y0+.5], c='lime', marker='o', zorder=4, alpha=1);\n",
    "ax[0].plot(radius*np.cos(theta)+x0, radius*np.sin(theta)+y0, c='lime', ls=':')\n",
    "\n",
    "ax[1].set_title('Shifted', fontsize=fs)\n",
    "ax[1].scatter(cdtcoords[0]+0.5, cdtcoords[1]+.5, c='r', marker='*', zorder=3, alpha=1);\n",
    "ax[1].scatter([x+.5], [y+.5], c='lime', marker='o', zorder=4, alpha=1);\n",
    "ax[1].plot(radius*np.cos(theta)+x, radius*np.sin(theta)+y, c='lime', ls=':')\n",
    "\n",
    "\n",
    "ax[2].imshow(label[ss] == tlabs[cdtmask][i], origin='lower', extent=extent);\n",
    "ax[3].imshow(label[ss] == cdtlabs[i], origin='lower', extent=extent);\n",
    "\n",
    "for j in range(len(ax)):\n",
    "    ax[j].set_aspect('equal')\n",
    "    ax[j].set_xlim(extent[0],extent[1])\n",
    "    ax[j].set_ylim(extent[2],extent[3])\n",
    "\n",
    "fig.tight_layout();"
   ]
  },
  {
   "cell_type": "markdown",
   "id": "5ffdeada-3a4b-4b5c-9602-9e431df77ff1",
   "metadata": {},
   "source": [
    "# Save Results"
   ]
  },
  {
   "cell_type": "code",
   "execution_count": 38,
   "id": "1b046645-aace-4fde-99fd-11f160e55e83",
   "metadata": {},
   "outputs": [
    {
     "name": "stdout",
     "output_type": "stream",
     "text": [
      "(2, 764852)\t(764852,)\t(624068,)\t(2, 624068)\t(776841,)\n"
     ]
    }
   ],
   "source": [
    "print(coords.shape, tlabs.shape, cdtlabs.shape, cdtcoords.shape, nmask.shape, sep='\\t')"
   ]
  },
  {
   "cell_type": "code",
   "execution_count": 39,
   "id": "1681c555-c63f-4f95-a5f9-79df612df86c",
   "metadata": {},
   "outputs": [
    {
     "data": {
      "text/plain": [
       "7"
      ]
     },
     "execution_count": 39,
     "metadata": {},
     "output_type": "execute_result"
    }
   ],
   "source": [
    "np.sum(nuclei[cdtcoords[1], cdtcoords[0]])"
   ]
  },
  {
   "cell_type": "code",
   "execution_count": 40,
   "id": "28a722d6-13ea-4298-b81e-72202c07bfec",
   "metadata": {},
   "outputs": [],
   "source": [
    "coords = coords[:, ~nuclei[coords[1], coords[0]]]"
   ]
  },
  {
   "cell_type": "code",
   "execution_count": 41,
   "id": "fb6179c7-9997-49a6-9423-ab0bdf3e2054",
   "metadata": {},
   "outputs": [
    {
     "name": "stdout",
     "output_type": "stream",
     "text": [
      "../translocs/D2/location_corrected_D2_GLYMA_05G092200.csv\n"
     ]
    }
   ],
   "source": [
    "filename = '../translocs/' + sample + '/location_corrected_' + sample +'_' + transcriptomes[tidx] + '.csv'\n",
    "print(filename)\n",
    "df = pd.DataFrame(coords.T)\n",
    "df['foo'] = transcriptomes[tidx]\n",
    "df.to_csv(filename, header=False, index=False)"
   ]
  }
 ],
 "metadata": {
  "kernelspec": {
   "display_name": "Python 3 (ipykernel)",
   "language": "python",
   "name": "python3"
  },
  "language_info": {
   "codemirror_mode": {
    "name": "ipython",
    "version": 3
   },
   "file_extension": ".py",
   "mimetype": "text/x-python",
   "name": "python",
   "nbconvert_exporter": "python",
   "pygments_lexer": "ipython3",
   "version": "3.10.12"
  }
 },
 "nbformat": 4,
 "nbformat_minor": 5
}
