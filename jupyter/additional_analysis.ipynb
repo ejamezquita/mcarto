{
 "cells": [
  {
   "cell_type": "code",
   "execution_count": 3,
   "id": "3f2c96e9-f382-4214-8efe-16d1ead332e6",
   "metadata": {},
   "outputs": [],
   "source": [
    "import matplotlib as mpl\n",
    "import matplotlib.pyplot as plt\n",
    "import numpy as np\n",
    "import pandas as pd\n",
    "\n",
    "from glob import glob\n",
    "import os\n",
    "\n",
    "from importlib import reload\n",
    "import utils\n",
    "from scipy import stats"
   ]
  },
  {
   "cell_type": "code",
   "execution_count": 4,
   "id": "fc4a7a58-2d03-4a35-9970-36cc94ea3d89",
   "metadata": {},
   "outputs": [],
   "source": [
    "level = 'sub'\n",
    "ndims = 3\n",
    "fs = 12\n",
    "dpi = 96\n",
    "\n",
    "Cmap='plasma'\n",
    "s = 30\n",
    "sample = 'D2'\n",
    "cnames = ['PC 1', 'PC 2']\n",
    "\n",
    "wsrc = '..' + os.sep + 'cell_dams' + os.sep\n",
    "nsrc = '..' + os.sep + 'nuclear_mask' + os.sep\n",
    "ksrc = '..' + os.sep + 'kde' + os.sep + sample + os.sep\n",
    "isrc = '..' + os.sep + 'infected_focus_summer24' + os.sep + sample + os.sep\n",
    "gsrc = '..' + os.sep + level + 'level' + os.sep + sample + os.sep\n",
    "\n",
    "corrfiles = sorted( glob(isrc + '*'+level+'level/PI_scale*_corr_summary.csv') )\n",
    "corrs = [None for _ in range(len(corrfiles))]\n",
    "for i in range(len(corrs)):\n",
    "    corrs[i] = pd.read_csv(corrfiles[i], index_col='Comparison')"
   ]
  },
  {
   "cell_type": "code",
   "execution_count": 42,
   "id": "91bf343e-898b-4544-85d7-e932bc4a009e",
   "metadata": {},
   "outputs": [],
   "source": [
    "for cidx in Cells:\n",
    "    filename = geosrc + 'peripherality_c{:06d}.csv'.format(cidx)\n",
    "    peri = pd.read_csv(filename)\n",
    "    cnames = [ c.split('_-_')[0] for c in peri.columns[1:11] ]\n",
    "    \n",
    "    p1 = peri.iloc[:, 1:11]\n",
    "    p1.columns = cnames\n",
    "    filename = geosrc + '{}/{}_bins_peripherality_c{:06d}.csv'.format(transcriptomes[Genes[0]], KBINS_NO-1, cidx)\n",
    "    p1.to_csv(filename, index = False)\n",
    "    \n",
    "    p2 = peri.iloc[:, 11:]\n",
    "    p2.columns = cnames\n",
    "    filename = geosrc + '{}/{}_bins_peripherality_c{:06d}.csv'.format(transcriptomes[Genes[1]], KBINS_NO-1, cidx)\n",
    "    p2.to_csv(filename, index = False)"
   ]
  },
  {
   "cell_type": "code",
   "execution_count": 43,
   "id": "f6b79db0-6d4a-42a7-8579-7758722b9b06",
   "metadata": {},
   "outputs": [
    {
     "name": "stdout",
     "output_type": "stream",
     "text": [
      "10\t0\n",
      "15\t0\n",
      "20\t0\n",
      "25\t0\n",
      "30\t0\n"
     ]
    }
   ],
   "source": [
    "N = 10\n",
    "for N in [10,15,20,25,30]:\n",
    "    foo = p1['sum_{}'.format(N)]/p1['mean_{}'.format(N)]\n",
    "    foo = np.round(foo.values).astype(int)\n",
    "    print(N, np.sum(foo != peri['count'].values.astype(int)), sep='\\t')"
   ]
  }
 ],
 "metadata": {
  "kernelspec": {
   "display_name": "Python 3 (ipykernel)",
   "language": "python",
   "name": "python3"
  },
  "language_info": {
   "codemirror_mode": {
    "name": "ipython",
    "version": 3
   },
   "file_extension": ".py",
   "mimetype": "text/x-python",
   "name": "python",
   "nbconvert_exporter": "python",
   "pygments_lexer": "ipython3",
   "version": "3.10.12"
  }
 },
 "nbformat": 4,
 "nbformat_minor": 5
}
