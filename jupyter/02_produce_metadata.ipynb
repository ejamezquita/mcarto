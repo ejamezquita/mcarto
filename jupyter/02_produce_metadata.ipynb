{
 "cells": [
  {
   "cell_type": "markdown",
   "id": "6d885d4c-4502-4c58-ba06-f25e09f8605d",
   "metadata": {},
   "source": [
    "# Part II: Get metadata\n",
    "\n",
    "- Number of transcripts per cell and per gene\n",
    "- Relate original cell ID with `ndimage` one\n",
    "- Some other data related to cell and overall concentration"
   ]
  },
  {
   "cell_type": "code",
   "execution_count": 1,
   "id": "956e43c6-4044-4db4-b9ff-ba4343889c59",
   "metadata": {},
   "outputs": [],
   "source": [
    "import numpy as np\n",
    "import pandas as pd\n",
    "import tifffile as tf\n",
    "from glob import glob\n",
    "import os\n",
    "from scipy import ndimage, interpolate, spatial, stats\n",
    "from matplotlib import pyplot as plt\n",
    "\n",
    "from importlib import reload\n",
    "import utils"
   ]
  },
  {
   "cell_type": "markdown",
   "id": "9e1fa818-1b3c-43e8-8d9a-aaa1eb4bb29f",
   "metadata": {},
   "source": [
    "# Load all general data\n",
    "\n",
    "- Same setup as in Part I"
   ]
  },
  {
   "cell_type": "code",
   "execution_count": 2,
   "id": "c0d39d91-b5dd-4c6d-af05-06e6962d7b89",
   "metadata": {},
   "outputs": [
    {
     "name": "stdout",
     "output_type": "stream",
     "text": [
      "Detected 1217 cells\n"
     ]
    }
   ],
   "source": [
    "wsrc = '../cell_dams/'\n",
    "nsrc = '../nuclear_mask/'\n",
    "tsrc = '../translocs/'\n",
    "psrc = '../proc/'\n",
    "osrc = '../data/'\n",
    "sample = 'A2'\n",
    "\n",
    "dst = '../kde/'\n",
    "\n",
    "dst += sample + os.sep\n",
    "if not os.path.isdir(dst):\n",
    "    os.mkdir(dst)\n",
    "\n",
    "wall = tf.imread(wsrc + sample + '_dams.tif').astype(bool)\n",
    "nuclei = tf.imread(nsrc + sample + '_EDT.tif') < 1\n",
    "label, cellnum = ndimage.label(wall, ndimage.generate_binary_structure(2,1))\n",
    "css = ndimage.find_objects(label)\n",
    "wall[nuclei] = False\n",
    "print('Detected',cellnum,'cells')"
   ]
  },
  {
   "cell_type": "markdown",
   "id": "17365b71-7b91-423b-b1bb-fdd3499818dc",
   "metadata": {},
   "source": [
    "- Load all the CSVs with spatial locations"
   ]
  },
  {
   "cell_type": "code",
   "execution_count": 3,
   "id": "ec0a5878-69a8-4c84-8ace-c407de465af5",
   "metadata": {
    "scrolled": true
   },
   "outputs": [],
   "source": [
    "filenames = sorted(glob(tsrc + sample + os.sep + '*.csv'))\n",
    "tsize = np.zeros(len(filenames), dtype=int)\n",
    "transcriptomes = [os.path.splitext(filenames[i])[0].split('_-_')[-1] for i in range(len(filenames)) ]\n",
    "translocs = [None for i in range(len(filenames))]\n",
    "for i in range(len(filenames)):\n",
    "    translocs[i] = pd.read_csv(filenames[i], header=None, names=['X', 'Y', 'Z'])\n",
    "    tsize[i] = len(translocs[i])\n",
    "tlocs = pd.concat(translocs)"
   ]
  },
  {
   "cell_type": "markdown",
   "id": "95e2b6ff-8d83-43c5-84cb-cf46cbd06187",
   "metadata": {},
   "source": [
    "# Compute metadata\n",
    "\n",
    "Get metadata for every cell\n",
    "-  Lower-left and upper right corners of the minimal bounding box containing the cell\n",
    "-  Length and height of such box\n",
    "-  Total cell area\n",
    "-  Total area occupied by nuclei\n",
    "-  Total area occupied by cytosol\n",
    "-  Cytosol-to-total area ratio\n",
    "-  Center of mass according to the original data\n",
    "-  Center of mass according to `ndimage` computed right now\n",
    "-  Cell ID from the original data\n",
    "\n",
    "The index is the label ID matched from `ndimage` (matching done by comparing centers of mass)"
   ]
  },
  {
   "cell_type": "code",
   "execution_count": 4,
   "id": "07bbee5d-5ea7-4650-a2f9-aa22bb895b91",
   "metadata": {},
   "outputs": [
    {
     "name": "stdout",
     "output_type": "stream",
     "text": [
      "../kde/A2/A2_cells_metadata.csv\n",
      "(1217, 15)\n"
     ]
    },
    {
     "data": {
      "text/html": [
       "<div>\n",
       "<style scoped>\n",
       "    .dataframe tbody tr th:only-of-type {\n",
       "        vertical-align: middle;\n",
       "    }\n",
       "\n",
       "    .dataframe tbody tr th {\n",
       "        vertical-align: top;\n",
       "    }\n",
       "\n",
       "    .dataframe thead th {\n",
       "        text-align: right;\n",
       "    }\n",
       "</style>\n",
       "<table border=\"1\" class=\"dataframe\">\n",
       "  <thead>\n",
       "    <tr style=\"text-align: right;\">\n",
       "      <th></th>\n",
       "      <th>count</th>\n",
       "      <th>mean</th>\n",
       "      <th>std</th>\n",
       "      <th>min</th>\n",
       "      <th>25%</th>\n",
       "      <th>50%</th>\n",
       "      <th>75%</th>\n",
       "      <th>max</th>\n",
       "    </tr>\n",
       "  </thead>\n",
       "  <tbody>\n",
       "    <tr>\n",
       "      <th>length</th>\n",
       "      <td>1217</td>\n",
       "      <td>212</td>\n",
       "      <td>422</td>\n",
       "      <td>11</td>\n",
       "      <td>71</td>\n",
       "      <td>114</td>\n",
       "      <td>215</td>\n",
       "      <td>10720</td>\n",
       "    </tr>\n",
       "    <tr>\n",
       "      <th>height</th>\n",
       "      <td>1217</td>\n",
       "      <td>234</td>\n",
       "      <td>550</td>\n",
       "      <td>11</td>\n",
       "      <td>74</td>\n",
       "      <td>121</td>\n",
       "      <td>221</td>\n",
       "      <td>15008</td>\n",
       "    </tr>\n",
       "  </tbody>\n",
       "</table>\n",
       "</div>"
      ],
      "text/plain": [
       "        count  mean  std  min  25%  50%  75%    max\n",
       "length   1217   212  422   11   71  114  215  10720\n",
       "height   1217   234  550   11   74  121  221  15008"
      ]
     },
     "execution_count": 4,
     "metadata": {},
     "output_type": "execute_result"
    }
   ],
   "source": [
    "reload(utils)\n",
    "filename = dst + sample + '_cells_metadata.csv'\n",
    "print(filename)\n",
    "if not os.path.isfile(filename):\n",
    "    celllocs = utils.celllocs_read(osrc + sample + '_data/' + transcriptomes[1] + '/' + transcriptomes[1] + ' - localization results by cell.csv')\n",
    "    dcoords, cnuclei, cmatches = utils.match_original_ndimage(celllocs, wall, label, cellnum)\n",
    "    objss = ndimage.find_objects(label)\n",
    "    meta = utils.generate_cell_metadata(label, objss, nuclei)\n",
    "    meta = meta.join(pd.DataFrame(np.round(dcoords[cmatches], 2), columns=['orig_comX', 'orig_comY']))\n",
    "    meta = meta.join(pd.DataFrame(np.round(np.flip(cnuclei, axis=1),2), columns=['ndimage_comX', 'ndimage_comY']))\n",
    "    meta['orig_cellID'] = celllocs['Cell.ID..'].values[cmatches]\n",
    "    meta['ndimage_cellID'] = np.arange(1,cellnum+1)\n",
    "    meta.set_index(keys=['ndimage_cellID']).to_csv(filename, index_label='ndimage_cellID')\n",
    "\n",
    "metacell = pd.read_csv(filename, index_col=0)\n",
    "print(metacell.shape)\n",
    "metacell.loc[:,['length', 'height']].describe().astype(int).T"
   ]
  },
  {
   "cell_type": "code",
   "execution_count": 5,
   "id": "c25e1eca-27ff-4f33-a006-47f6743a5418",
   "metadata": {},
   "outputs": [
    {
     "data": {
      "text/plain": [
       "7"
      ]
     },
     "execution_count": 5,
     "metadata": {},
     "output_type": "execute_result"
    }
   ],
   "source": [
    "uq, cts = np.unique(metacell.orig_cellID, return_counts=True)\n",
    "np.sum(cts > 1)"
   ]
  },
  {
   "cell_type": "code",
   "execution_count": 6,
   "id": "c0352964-98fe-45a8-a55e-33c441f4d76b",
   "metadata": {},
   "outputs": [
    {
     "data": {
      "text/plain": [
       "array([  49,   90,  270,  781,  981, 1155, 1193])"
      ]
     },
     "execution_count": 6,
     "metadata": {},
     "output_type": "execute_result"
    }
   ],
   "source": [
    "uq[np.nonzero(cts > 1)[0]]"
   ]
  },
  {
   "cell_type": "code",
   "execution_count": 66,
   "id": "0b0cea5e-e9fb-4021-a3b9-56747415035d",
   "metadata": {},
   "outputs": [
    {
     "data": {
      "text/html": [
       "<div>\n",
       "<style scoped>\n",
       "    .dataframe tbody tr th:only-of-type {\n",
       "        vertical-align: middle;\n",
       "    }\n",
       "\n",
       "    .dataframe tbody tr th {\n",
       "        vertical-align: top;\n",
       "    }\n",
       "\n",
       "    .dataframe thead th {\n",
       "        text-align: right;\n",
       "    }\n",
       "</style>\n",
       "<table border=\"1\" class=\"dataframe\">\n",
       "  <thead>\n",
       "    <tr style=\"text-align: right;\">\n",
       "      <th></th>\n",
       "      <th>x0</th>\n",
       "      <th>x1</th>\n",
       "      <th>y0</th>\n",
       "      <th>y1</th>\n",
       "      <th>length</th>\n",
       "      <th>height</th>\n",
       "      <th>total_area</th>\n",
       "      <th>nuclei_area</th>\n",
       "      <th>cyto_area</th>\n",
       "      <th>c2t_area_ratio</th>\n",
       "      <th>orig_comX</th>\n",
       "      <th>orig_comY</th>\n",
       "      <th>ndimage_comX</th>\n",
       "      <th>ndimage_comY</th>\n",
       "      <th>orig_cellID</th>\n",
       "    </tr>\n",
       "    <tr>\n",
       "      <th>ndimage_cellID</th>\n",
       "      <th></th>\n",
       "      <th></th>\n",
       "      <th></th>\n",
       "      <th></th>\n",
       "      <th></th>\n",
       "      <th></th>\n",
       "      <th></th>\n",
       "      <th></th>\n",
       "      <th></th>\n",
       "      <th></th>\n",
       "      <th></th>\n",
       "      <th></th>\n",
       "      <th></th>\n",
       "      <th></th>\n",
       "      <th></th>\n",
       "    </tr>\n",
       "  </thead>\n",
       "  <tbody>\n",
       "    <tr>\n",
       "      <th>1194</th>\n",
       "      <td>10301</td>\n",
       "      <td>10718</td>\n",
       "      <td>11536</td>\n",
       "      <td>12440</td>\n",
       "      <td>417</td>\n",
       "      <td>904</td>\n",
       "      <td>160852</td>\n",
       "      <td>3630</td>\n",
       "      <td>157222</td>\n",
       "      <td>0.977433</td>\n",
       "      <td>10590.71</td>\n",
       "      <td>12110.15</td>\n",
       "      <td>10587.34</td>\n",
       "      <td>12109.36</td>\n",
       "      <td>1193</td>\n",
       "    </tr>\n",
       "    <tr>\n",
       "      <th>1203</th>\n",
       "      <td>10528</td>\n",
       "      <td>10539</td>\n",
       "      <td>12104</td>\n",
       "      <td>12115</td>\n",
       "      <td>11</td>\n",
       "      <td>11</td>\n",
       "      <td>99</td>\n",
       "      <td>0</td>\n",
       "      <td>99</td>\n",
       "      <td>1.000000</td>\n",
       "      <td>10590.71</td>\n",
       "      <td>12110.15</td>\n",
       "      <td>10533.60</td>\n",
       "      <td>12108.29</td>\n",
       "      <td>1193</td>\n",
       "    </tr>\n",
       "  </tbody>\n",
       "</table>\n",
       "</div>"
      ],
      "text/plain": [
       "                   x0     x1     y0     y1  length  height  total_area  \\\n",
       "ndimage_cellID                                                           \n",
       "1194            10301  10718  11536  12440     417     904      160852   \n",
       "1203            10528  10539  12104  12115      11      11          99   \n",
       "\n",
       "                nuclei_area  cyto_area  c2t_area_ratio  orig_comX  orig_comY  \\\n",
       "ndimage_cellID                                                                 \n",
       "1194                   3630     157222        0.977433   10590.71   12110.15   \n",
       "1203                      0         99        1.000000   10590.71   12110.15   \n",
       "\n",
       "                ndimage_comX  ndimage_comY  orig_cellID  \n",
       "ndimage_cellID                                           \n",
       "1194                10587.34      12109.36         1193  \n",
       "1203                10533.60      12108.29         1193  "
      ]
     },
     "execution_count": 66,
     "metadata": {},
     "output_type": "execute_result"
    }
   ],
   "source": [
    "metacell[metacell.orig_cellID == 1193]"
   ]
  },
  {
   "cell_type": "code",
   "execution_count": 69,
   "id": "e7c40f3c-fcb0-4409-a3fb-9636855a2036",
   "metadata": {},
   "outputs": [
    {
     "name": "stdout",
     "output_type": "stream",
     "text": [
      "(21, 21)\t0\n"
     ]
    }
   ],
   "source": [
    "PP = 5\n",
    "cidx = 1203\n",
    "\n",
    "ss = (np.s_[max([0, metacell.loc[cidx, 'y0'] - PP]) : min([wall.shape[0], metacell.loc[cidx, 'y1'] + PP])],\n",
    "      np.s_[max([1, metacell.loc[cidx, 'x0'] - PP]) : min([wall.shape[1], metacell.loc[cidx, 'x1'] + PP])])\n",
    "extent = (ss[1].start, ss[1].stop, ss[0].start, ss[0].stop)\n",
    "cell = wall[ss].copy().astype(np.uint8)\n",
    "cell[ label[ss] == cidx ] = 2\n",
    "cell[~wall[ss]] = 0\n",
    "print(cell.shape, np.sum(transcell[str(cidx)]), sep='\\t')"
   ]
  },
  {
   "cell_type": "code",
   "execution_count": 70,
   "id": "10d1c4c8-3cca-4703-9e11-70327bb6a8d5",
   "metadata": {},
   "outputs": [
    {
     "data": {
      "image/png": "[encoded data removed]",
      "text/plain": [
       "<Figure size 1000x500 with 1 Axes>"
      ]
     },
     "metadata": {},
     "output_type": "display_data"
    }
   ],
   "source": [
    "fig, ax = plt.subplots(1,1, sharex=True, sharey=True, figsize=(10,5))\n",
    "ax = np.atleast_1d(ax).ravel(); i = 0\n",
    "\n",
    "ax[i].imshow(cell, origin='lower', cmap='plasma', extent=extent)\n",
    "fig.tight_layout();"
   ]
  },
  {
   "cell_type": "markdown",
   "id": "11da59b0-bdc8-4dab-9e76-47620acf254a",
   "metadata": {},
   "source": [
    "Get metadata for every gene\n",
    "\n",
    "- Total number of transcripts throughout the cross section\n",
    "- Total number of transcripts floating in cytosol\n",
    "- Total number floating in nuclei\n",
    "- Cytosolic-to-total transcript ratio"
   ]
  },
  {
   "cell_type": "code",
   "execution_count": 27,
   "id": "0f7cafb1-9e56-4713-b885-b0d4c2a9e9fa",
   "metadata": {},
   "outputs": [
    {
     "name": "stdout",
     "output_type": "stream",
     "text": [
      "../kde/A2/A2_transcripts_metadata.csv\n"
     ]
    },
    {
     "data": {
      "text/html": [
       "<div>\n",
       "<style scoped>\n",
       "    .dataframe tbody tr th:only-of-type {\n",
       "        vertical-align: middle;\n",
       "    }\n",
       "\n",
       "    .dataframe tbody tr th {\n",
       "        vertical-align: top;\n",
       "    }\n",
       "\n",
       "    .dataframe thead th {\n",
       "        text-align: right;\n",
       "    }\n",
       "</style>\n",
       "<table border=\"1\" class=\"dataframe\">\n",
       "  <thead>\n",
       "    <tr style=\"text-align: right;\">\n",
       "      <th></th>\n",
       "      <th>total_number</th>\n",
       "      <th>cyto_number</th>\n",
       "      <th>nuclei_number</th>\n",
       "      <th>ratio</th>\n",
       "      <th>gene</th>\n",
       "    </tr>\n",
       "  </thead>\n",
       "  <tbody>\n",
       "    <tr>\n",
       "      <th>0</th>\n",
       "      <td>45</td>\n",
       "      <td>45</td>\n",
       "      <td>0</td>\n",
       "      <td>1.000000</td>\n",
       "      <td>BAC45727</td>\n",
       "    </tr>\n",
       "    <tr>\n",
       "      <th>1</th>\n",
       "      <td>54</td>\n",
       "      <td>54</td>\n",
       "      <td>0</td>\n",
       "      <td>1.000000</td>\n",
       "      <td>BAC46169</td>\n",
       "    </tr>\n",
       "    <tr>\n",
       "      <th>2</th>\n",
       "      <td>517</td>\n",
       "      <td>509</td>\n",
       "      <td>8</td>\n",
       "      <td>0.984526</td>\n",
       "      <td>BAC47034</td>\n",
       "    </tr>\n",
       "    <tr>\n",
       "      <th>3</th>\n",
       "      <td>32</td>\n",
       "      <td>32</td>\n",
       "      <td>0</td>\n",
       "      <td>1.000000</td>\n",
       "      <td>BAC47856</td>\n",
       "    </tr>\n",
       "    <tr>\n",
       "      <th>4</th>\n",
       "      <td>37</td>\n",
       "      <td>36</td>\n",
       "      <td>1</td>\n",
       "      <td>0.972973</td>\n",
       "      <td>BAC48395</td>\n",
       "    </tr>\n",
       "  </tbody>\n",
       "</table>\n",
       "</div>"
      ],
      "text/plain": [
       "   total_number  cyto_number  nuclei_number     ratio      gene\n",
       "0            45           45              0  1.000000  BAC45727\n",
       "1            54           54              0  1.000000  BAC46169\n",
       "2           517          509              8  0.984526  BAC47034\n",
       "3            32           32              0  1.000000  BAC47856\n",
       "4            37           36              1  0.972973  BAC48395"
      ]
     },
     "execution_count": 27,
     "metadata": {},
     "output_type": "execute_result"
    }
   ],
   "source": [
    "filename = dst + sample + '_transcripts_metadata.csv'\n",
    "print(filename)\n",
    "if not os.path.isfile(filename):\n",
    "    data = pd.read_csv(osrc + sample + '_data' + os.sep + '32771-slide1_' + sample + '_results.txt', header=None, sep='\\t').drop(columns=[4])\n",
    "    _, orig_size = np.unique(data.iloc[:,-1], return_index = False, return_inverse=False, return_counts=True) \n",
    "    meta = pd.DataFrame()\n",
    "    meta['total_number'] = orig_size\n",
    "    meta['cyto_number'] = tsize\n",
    "    meta['nuclei_number'] = orig_size - tsize\n",
    "    meta['ratio'] = tsize/orig_size\n",
    "    meta['gene'] = transcriptomes\n",
    "    \n",
    "    meta.to_csv(filename, index=False)\n",
    "\n",
    "metatrans = pd.read_csv(filename)\n",
    "metatrans.head()"
   ]
  },
  {
   "cell_type": "markdown",
   "id": "20e97625-6b40-4738-a1c3-6f0124d0be67",
   "metadata": {},
   "source": [
    "Get metadata for every cell and gene\n",
    "\n",
    "- Number of transcripts of a given gene in a given cell"
   ]
  },
  {
   "cell_type": "code",
   "execution_count": 28,
   "id": "ce7faeee-8e7b-4998-a234-ff04052ad789",
   "metadata": {},
   "outputs": [],
   "source": [
    "meta = np.zeros((len(transcriptomes), cellnum), dtype=int)\n",
    "bins = np.arange(1, cellnum + 2)\n",
    "for tidx in range(len(meta)):\n",
    "    coords = translocs[tidx].loc[:, ['X', 'Y']].values.T\n",
    "    if coords.shape[1] > 0:\n",
    "        meta[tidx], _ = np.histogram(label[coords[1], coords[0]], bins=bins)\n",
    "    \n",
    "meta = pd.DataFrame(meta, columns=bins[:-1])\n",
    "meta['gene'] = transcriptomes"
   ]
  },
  {
   "cell_type": "code",
   "execution_count": 29,
   "id": "a07e06e6-b398-4882-a913-95912245ac06",
   "metadata": {},
   "outputs": [
    {
     "name": "stdout",
     "output_type": "stream",
     "text": [
      "../kde/A2/A2_transcells_metadata.csv\n"
     ]
    },
    {
     "data": {
      "text/html": [
       "<div>\n",
       "<style scoped>\n",
       "    .dataframe tbody tr th:only-of-type {\n",
       "        vertical-align: middle;\n",
       "    }\n",
       "\n",
       "    .dataframe tbody tr th {\n",
       "        vertical-align: top;\n",
       "    }\n",
       "\n",
       "    .dataframe thead th {\n",
       "        text-align: right;\n",
       "    }\n",
       "</style>\n",
       "<table border=\"1\" class=\"dataframe\">\n",
       "  <thead>\n",
       "    <tr style=\"text-align: right;\">\n",
       "      <th></th>\n",
       "      <th>1</th>\n",
       "      <th>2</th>\n",
       "      <th>3</th>\n",
       "      <th>4</th>\n",
       "      <th>5</th>\n",
       "      <th>6</th>\n",
       "      <th>7</th>\n",
       "      <th>8</th>\n",
       "      <th>9</th>\n",
       "      <th>10</th>\n",
       "      <th>...</th>\n",
       "      <th>1209</th>\n",
       "      <th>1210</th>\n",
       "      <th>1211</th>\n",
       "      <th>1212</th>\n",
       "      <th>1213</th>\n",
       "      <th>1214</th>\n",
       "      <th>1215</th>\n",
       "      <th>1216</th>\n",
       "      <th>1217</th>\n",
       "      <th>gene</th>\n",
       "    </tr>\n",
       "  </thead>\n",
       "  <tbody>\n",
       "    <tr>\n",
       "      <th>0</th>\n",
       "      <td>11</td>\n",
       "      <td>0</td>\n",
       "      <td>1</td>\n",
       "      <td>0</td>\n",
       "      <td>0</td>\n",
       "      <td>0</td>\n",
       "      <td>0</td>\n",
       "      <td>0</td>\n",
       "      <td>0</td>\n",
       "      <td>0</td>\n",
       "      <td>...</td>\n",
       "      <td>1</td>\n",
       "      <td>0</td>\n",
       "      <td>0</td>\n",
       "      <td>0</td>\n",
       "      <td>0</td>\n",
       "      <td>1</td>\n",
       "      <td>0</td>\n",
       "      <td>0</td>\n",
       "      <td>0</td>\n",
       "      <td>BAC45727</td>\n",
       "    </tr>\n",
       "    <tr>\n",
       "      <th>1</th>\n",
       "      <td>13</td>\n",
       "      <td>0</td>\n",
       "      <td>1</td>\n",
       "      <td>0</td>\n",
       "      <td>0</td>\n",
       "      <td>0</td>\n",
       "      <td>0</td>\n",
       "      <td>0</td>\n",
       "      <td>0</td>\n",
       "      <td>1</td>\n",
       "      <td>...</td>\n",
       "      <td>0</td>\n",
       "      <td>0</td>\n",
       "      <td>0</td>\n",
       "      <td>0</td>\n",
       "      <td>0</td>\n",
       "      <td>0</td>\n",
       "      <td>1</td>\n",
       "      <td>0</td>\n",
       "      <td>0</td>\n",
       "      <td>BAC46169</td>\n",
       "    </tr>\n",
       "    <tr>\n",
       "      <th>2</th>\n",
       "      <td>110</td>\n",
       "      <td>0</td>\n",
       "      <td>4</td>\n",
       "      <td>0</td>\n",
       "      <td>2</td>\n",
       "      <td>0</td>\n",
       "      <td>0</td>\n",
       "      <td>2</td>\n",
       "      <td>1</td>\n",
       "      <td>0</td>\n",
       "      <td>...</td>\n",
       "      <td>1</td>\n",
       "      <td>0</td>\n",
       "      <td>0</td>\n",
       "      <td>2</td>\n",
       "      <td>0</td>\n",
       "      <td>1</td>\n",
       "      <td>0</td>\n",
       "      <td>0</td>\n",
       "      <td>0</td>\n",
       "      <td>BAC47034</td>\n",
       "    </tr>\n",
       "    <tr>\n",
       "      <th>3</th>\n",
       "      <td>4</td>\n",
       "      <td>0</td>\n",
       "      <td>0</td>\n",
       "      <td>0</td>\n",
       "      <td>0</td>\n",
       "      <td>0</td>\n",
       "      <td>0</td>\n",
       "      <td>0</td>\n",
       "      <td>0</td>\n",
       "      <td>0</td>\n",
       "      <td>...</td>\n",
       "      <td>0</td>\n",
       "      <td>0</td>\n",
       "      <td>0</td>\n",
       "      <td>0</td>\n",
       "      <td>0</td>\n",
       "      <td>0</td>\n",
       "      <td>0</td>\n",
       "      <td>0</td>\n",
       "      <td>0</td>\n",
       "      <td>BAC47856</td>\n",
       "    </tr>\n",
       "    <tr>\n",
       "      <th>4</th>\n",
       "      <td>11</td>\n",
       "      <td>0</td>\n",
       "      <td>1</td>\n",
       "      <td>0</td>\n",
       "      <td>0</td>\n",
       "      <td>0</td>\n",
       "      <td>0</td>\n",
       "      <td>0</td>\n",
       "      <td>0</td>\n",
       "      <td>0</td>\n",
       "      <td>...</td>\n",
       "      <td>0</td>\n",
       "      <td>0</td>\n",
       "      <td>0</td>\n",
       "      <td>0</td>\n",
       "      <td>0</td>\n",
       "      <td>0</td>\n",
       "      <td>0</td>\n",
       "      <td>0</td>\n",
       "      <td>0</td>\n",
       "      <td>BAC48395</td>\n",
       "    </tr>\n",
       "  </tbody>\n",
       "</table>\n",
       "<p>5 rows × 1218 columns</p>\n",
       "</div>"
      ],
      "text/plain": [
       "     1  2  3  4  5  6  7  8  9  10  ...  1209  1210  1211  1212  1213  1214  \\\n",
       "0   11  0  1  0  0  0  0  0  0   0  ...     1     0     0     0     0     1   \n",
       "1   13  0  1  0  0  0  0  0  0   1  ...     0     0     0     0     0     0   \n",
       "2  110  0  4  0  2  0  0  2  1   0  ...     1     0     0     2     0     1   \n",
       "3    4  0  0  0  0  0  0  0  0   0  ...     0     0     0     0     0     0   \n",
       "4   11  0  1  0  0  0  0  0  0   0  ...     0     0     0     0     0     0   \n",
       "\n",
       "   1215  1216  1217      gene  \n",
       "0     0     0     0  BAC45727  \n",
       "1     1     0     0  BAC46169  \n",
       "2     0     0     0  BAC47034  \n",
       "3     0     0     0  BAC47856  \n",
       "4     0     0     0  BAC48395  \n",
       "\n",
       "[5 rows x 1218 columns]"
      ]
     },
     "execution_count": 29,
     "metadata": {},
     "output_type": "execute_result"
    }
   ],
   "source": [
    "filename = dst + sample + '_transcells_metadata.csv'\n",
    "print(filename)\n",
    "if not os.path.isfile(filename):\n",
    "    meta = utils.generate_transcell_metadata(translocs, transcriptomes, cellnum, label)\n",
    "    meta.to_csv(filename, index=False)\n",
    "transcell = pd.read_csv(filename)\n",
    "transcell.head()"
   ]
  },
  {
   "cell_type": "code",
   "execution_count": 31,
   "id": "80fd49ab-da7b-463f-a7ed-4236f85c6c7b",
   "metadata": {},
   "outputs": [
    {
     "data": {
      "text/plain": [
       "0"
      ]
     },
     "execution_count": 31,
     "metadata": {},
     "output_type": "execute_result"
    }
   ],
   "source": []
  }
 ],
 "metadata": {
  "kernelspec": {
   "display_name": "Python 3 (ipykernel)",
   "language": "python",
   "name": "python3"
  },
  "language_info": {
   "codemirror_mode": {
    "name": "ipython",
    "version": 3
   },
   "file_extension": ".py",
   "mimetype": "text/x-python",
   "name": "python",
   "nbconvert_exporter": "python",
   "pygments_lexer": "ipython3",
   "version": "3.10.12"
  }
 },
 "nbformat": 4,
 "nbformat_minor": 5
}
