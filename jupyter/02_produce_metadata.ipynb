{
 "cells": [
  {
   "cell_type": "markdown",
   "id": "6d885d4c-4502-4c58-ba06-f25e09f8605d",
   "metadata": {},
   "source": [
    "# Part II: Get metadata\n",
    "\n",
    "- Number of transcripts per cell and per gene\n",
    "- Relate original cell ID with `ndimage` one\n",
    "- Some other data related to cell and overall concentration"
   ]
  },
  {
   "cell_type": "code",
   "execution_count": 1,
   "id": "956e43c6-4044-4db4-b9ff-ba4343889c59",
   "metadata": {},
   "outputs": [],
   "source": [
    "import numpy as np\n",
    "import pandas as pd\n",
    "import tifffile as tf\n",
    "from glob import glob\n",
    "import os\n",
    "from scipy import ndimage, interpolate, spatial, stats\n",
    "from matplotlib import pyplot as plt\n",
    "\n",
    "from importlib import reload\n",
    "import utils"
   ]
  },
  {
   "cell_type": "markdown",
   "id": "9e1fa818-1b3c-43e8-8d9a-aaa1eb4bb29f",
   "metadata": {},
   "source": [
    "# Load all general data\n",
    "\n",
    "- Same setup as in Part I"
   ]
  },
  {
   "cell_type": "code",
   "execution_count": 2,
   "id": "c0d39d91-b5dd-4c6d-af05-06e6962d7b89",
   "metadata": {},
   "outputs": [
    {
     "name": "stdout",
     "output_type": "stream",
     "text": [
      "Detected 2937 cells\n"
     ]
    }
   ],
   "source": [
    "PP = 0\n",
    "min_n_ratio = 0.05\n",
    "min_N_ratio = 0.75\n",
    "\n",
    "wsrc = '../cell_dams/'\n",
    "nsrc = '../nuclear_mask/'\n",
    "tsrc = '../translocs/'\n",
    "psrc = '../proc/'\n",
    "osrc = '../data/'\n",
    "sample = 'D2'\n",
    "\n",
    "dst = '../kde/'\n",
    "\n",
    "dst += sample + os.sep\n",
    "if not os.path.isdir(dst):\n",
    "    os.mkdir(dst)\n",
    "\n",
    "wall = tf.imread(wsrc + sample + '_dams.tif').astype(bool)\n",
    "nuclei = tf.imread(nsrc + sample + '_EDT.tif') < 1\n",
    "label, cellnum = ndimage.label(wall, ndimage.generate_binary_structure(2,1))\n",
    "print('Detected',cellnum,'cells')"
   ]
  },
  {
   "cell_type": "markdown",
   "id": "17365b71-7b91-423b-b1bb-fdd3499818dc",
   "metadata": {},
   "source": [
    "- Load all the CSVs with spatial locations"
   ]
  },
  {
   "cell_type": "code",
   "execution_count": 3,
   "id": "ec0a5878-69a8-4c84-8ace-c407de465af5",
   "metadata": {
    "scrolled": true
   },
   "outputs": [],
   "source": [
    "filenames = sorted(glob(tsrc + sample + os.sep + '*.csv'))\n",
    "tsize = np.zeros(len(filenames), dtype=int)\n",
    "transcriptomes = [os.path.splitext(filenames[i])[0].split('_-_')[-1] for i in range(len(filenames)) ]\n",
    "translocs = [None for i in range(len(filenames))]\n",
    "for i in range(len(filenames)):\n",
    "    translocs[i] = pd.read_csv(filenames[i], header=None, names=['X', 'Y', 'Z'])\n",
    "    tsize[i] = len(translocs[i])\n",
    "tlocs = pd.concat(translocs)"
   ]
  },
  {
   "cell_type": "markdown",
   "id": "95e2b6ff-8d83-43c5-84cb-cf46cbd06187",
   "metadata": {},
   "source": [
    "# Compute metadata\n",
    "\n",
    "Get metadata for every cell\n",
    "-  Lower-left and upper right corners of the minimal bounding box containing the cell\n",
    "-  Length and height of such box\n",
    "-  Total cell area\n",
    "-  Total area occupied by nuclei\n",
    "-  Total area occupied by cytosol\n",
    "-  Cytosol-to-total area ratio\n",
    "-  Center of mass according to the original data\n",
    "-  Center of mass according to `ndimage` computed right now\n",
    "-  Cell ID from the original data\n",
    "\n",
    "The index is the label ID matched from `ndimage` (matching done by comparing centers of mass)"
   ]
  },
  {
   "cell_type": "code",
   "execution_count": 4,
   "id": "07bbee5d-5ea7-4650-a2f9-aa22bb895b91",
   "metadata": {},
   "outputs": [
    {
     "name": "stdout",
     "output_type": "stream",
     "text": [
      "../kde/D2/D2_cells_metadata.csv\n",
      "Number of unmatched ndimage labels:\t 0\n",
      "0\n",
      "(2937, 16)\n"
     ]
    },
    {
     "data": {
      "text/html": [
       "<div>\n",
       "<style scoped>\n",
       "    .dataframe tbody tr th:only-of-type {\n",
       "        vertical-align: middle;\n",
       "    }\n",
       "\n",
       "    .dataframe tbody tr th {\n",
       "        vertical-align: top;\n",
       "    }\n",
       "\n",
       "    .dataframe thead th {\n",
       "        text-align: right;\n",
       "    }\n",
       "</style>\n",
       "<table border=\"1\" class=\"dataframe\">\n",
       "  <thead>\n",
       "    <tr style=\"text-align: right;\">\n",
       "      <th></th>\n",
       "      <th>count</th>\n",
       "      <th>mean</th>\n",
       "      <th>std</th>\n",
       "      <th>min</th>\n",
       "      <th>25%</th>\n",
       "      <th>50%</th>\n",
       "      <th>75%</th>\n",
       "      <th>max</th>\n",
       "    </tr>\n",
       "  </thead>\n",
       "  <tbody>\n",
       "    <tr>\n",
       "      <th>length</th>\n",
       "      <td>2937</td>\n",
       "      <td>309</td>\n",
       "      <td>336</td>\n",
       "      <td>77</td>\n",
       "      <td>209</td>\n",
       "      <td>278</td>\n",
       "      <td>372</td>\n",
       "      <td>17152</td>\n",
       "    </tr>\n",
       "    <tr>\n",
       "      <th>height</th>\n",
       "      <td>2937</td>\n",
       "      <td>309</td>\n",
       "      <td>338</td>\n",
       "      <td>81</td>\n",
       "      <td>205</td>\n",
       "      <td>278</td>\n",
       "      <td>379</td>\n",
       "      <td>17152</td>\n",
       "    </tr>\n",
       "  </tbody>\n",
       "</table>\n",
       "</div>"
      ],
      "text/plain": [
       "        count  mean  std  min  25%  50%  75%    max\n",
       "length   2937   309  336   77  209  278  372  17152\n",
       "height   2937   309  338   81  205  278  379  17152"
      ]
     },
     "execution_count": 4,
     "metadata": {},
     "output_type": "execute_result"
    }
   ],
   "source": [
    "reload(utils)\n",
    "filename = dst + sample + '_cells_metadata.csv'\n",
    "print(filename)\n",
    "if not os.path.isfile(filename):\n",
    "    celllocs = utils.celllocs_read(osrc + sample + '_data/' + transcriptomes[1] + '/' + transcriptomes[1] + ' - localization results by cell.csv')\n",
    "    dcoords, cnuclei, argmatches, orig_cellID = utils.match_original_ndimage(celllocs, wall, label, cellnum)\n",
    "    objss = ndimage.find_objects(label)\n",
    "    meta = utils.generate_cell_metadata(label, objss, nuclei)\n",
    "    orig_com = np.round(dcoords[argmatches], 2)\n",
    "    orig_com[orig_cellID == 0] = 0\n",
    "    meta = meta.join(pd.DataFrame( orig_com, columns=['orig_comX', 'orig_comY']))\n",
    "    meta = meta.join(pd.DataFrame(np.round(np.flip(cnuclei, axis=1),2), columns=['ndimage_comX', 'ndimage_comY']))\n",
    "    meta['orig_cellID'] = orig_cellID\n",
    "    meta.set_index(keys=['ndimage_cellID']).to_csv(filename, index_label='ndimage_cellID')\n",
    "\n",
    "wall[nuclei] = False\n",
    "metacell = pd.read_csv(filename, index_col=0)\n",
    "print('Number of unmatched ndimage labels:\\t', len(metacell.loc[metacell['orig_cellID'] == 0]) )\n",
    "uq, ct = np.unique(metacell.loc[metacell['orig_cellID'] > 0, 'orig_cellID'].values, return_counts=True)\n",
    "print(np.sum(ct > 1))\n",
    "print(metacell.shape)\n",
    "metacell.loc[:,['length', 'height']].describe().astype(int).T"
   ]
  },
  {
   "cell_type": "code",
   "execution_count": 5,
   "id": "7fc5709a-7abd-42f0-98cb-b4b863d166d9",
   "metadata": {},
   "outputs": [
    {
     "data": {
      "text/html": [
       "<div>\n",
       "<style scoped>\n",
       "    .dataframe tbody tr th:only-of-type {\n",
       "        vertical-align: middle;\n",
       "    }\n",
       "\n",
       "    .dataframe tbody tr th {\n",
       "        vertical-align: top;\n",
       "    }\n",
       "\n",
       "    .dataframe thead th {\n",
       "        text-align: right;\n",
       "    }\n",
       "</style>\n",
       "<table border=\"1\" class=\"dataframe\">\n",
       "  <thead>\n",
       "    <tr style=\"text-align: right;\">\n",
       "      <th></th>\n",
       "      <th>x0</th>\n",
       "      <th>x1</th>\n",
       "      <th>y0</th>\n",
       "      <th>y1</th>\n",
       "      <th>length</th>\n",
       "      <th>height</th>\n",
       "      <th>total_area</th>\n",
       "      <th>nuclei_area</th>\n",
       "      <th>cyto_area</th>\n",
       "      <th>c2t_area_ratio</th>\n",
       "      <th>number_nuclei</th>\n",
       "      <th>orig_comX</th>\n",
       "      <th>orig_comY</th>\n",
       "      <th>ndimage_comX</th>\n",
       "      <th>ndimage_comY</th>\n",
       "      <th>orig_cellID</th>\n",
       "    </tr>\n",
       "    <tr>\n",
       "      <th>ndimage_cellID</th>\n",
       "      <th></th>\n",
       "      <th></th>\n",
       "      <th></th>\n",
       "      <th></th>\n",
       "      <th></th>\n",
       "      <th></th>\n",
       "      <th></th>\n",
       "      <th></th>\n",
       "      <th></th>\n",
       "      <th></th>\n",
       "      <th></th>\n",
       "      <th></th>\n",
       "      <th></th>\n",
       "      <th></th>\n",
       "      <th></th>\n",
       "      <th></th>\n",
       "    </tr>\n",
       "  </thead>\n",
       "  <tbody>\n",
       "    <tr>\n",
       "      <th>523</th>\n",
       "      <td>13174</td>\n",
       "      <td>13600</td>\n",
       "      <td>4639</td>\n",
       "      <td>5317</td>\n",
       "      <td>426</td>\n",
       "      <td>678</td>\n",
       "      <td>174401</td>\n",
       "      <td>8292</td>\n",
       "      <td>166109</td>\n",
       "      <td>0.952454</td>\n",
       "      <td>2</td>\n",
       "      <td>13378.97</td>\n",
       "      <td>4968.61</td>\n",
       "      <td>13378.41</td>\n",
       "      <td>4968.2</td>\n",
       "      <td>524</td>\n",
       "    </tr>\n",
       "  </tbody>\n",
       "</table>\n",
       "</div>"
      ],
      "text/plain": [
       "                   x0     x1    y0    y1  length  height  total_area  \\\n",
       "ndimage_cellID                                                         \n",
       "523             13174  13600  4639  5317     426     678      174401   \n",
       "\n",
       "                nuclei_area  cyto_area  c2t_area_ratio  number_nuclei  \\\n",
       "ndimage_cellID                                                          \n",
       "523                    8292     166109        0.952454              2   \n",
       "\n",
       "                orig_comX  orig_comY  ndimage_comX  ndimage_comY  orig_cellID  \n",
       "ndimage_cellID                                                                 \n",
       "523              13378.97    4968.61      13378.41        4968.2          524  "
      ]
     },
     "execution_count": 5,
     "metadata": {},
     "output_type": "execute_result"
    }
   ],
   "source": [
    "metacell[metacell['orig_cellID'] == 524]"
   ]
  },
  {
   "cell_type": "markdown",
   "id": "11da59b0-bdc8-4dab-9e76-47620acf254a",
   "metadata": {},
   "source": [
    "Get metadata for every gene\n",
    "\n",
    "- Total number of transcripts throughout the cross section\n",
    "- Total number of transcripts floating in cytosol\n",
    "- Total number floating in nuclei\n",
    "- Cytosolic-to-total transcript ratio"
   ]
  },
  {
   "cell_type": "code",
   "execution_count": 5,
   "id": "0f7cafb1-9e56-4713-b885-b0d4c2a9e9fa",
   "metadata": {},
   "outputs": [
    {
     "name": "stdout",
     "output_type": "stream",
     "text": [
      "../kde/D2/D2_transcripts_metadata.csv\n"
     ]
    },
    {
     "data": {
      "text/html": [
       "<div>\n",
       "<style scoped>\n",
       "    .dataframe tbody tr th:only-of-type {\n",
       "        vertical-align: middle;\n",
       "    }\n",
       "\n",
       "    .dataframe tbody tr th {\n",
       "        vertical-align: top;\n",
       "    }\n",
       "\n",
       "    .dataframe thead th {\n",
       "        text-align: right;\n",
       "    }\n",
       "</style>\n",
       "<table border=\"1\" class=\"dataframe\">\n",
       "  <thead>\n",
       "    <tr style=\"text-align: right;\">\n",
       "      <th></th>\n",
       "      <th>total_number</th>\n",
       "      <th>cyto_number</th>\n",
       "      <th>nuclei_number</th>\n",
       "      <th>ratio</th>\n",
       "      <th>gene</th>\n",
       "    </tr>\n",
       "  </thead>\n",
       "  <tbody>\n",
       "    <tr>\n",
       "      <th>0</th>\n",
       "      <td>32613</td>\n",
       "      <td>32199</td>\n",
       "      <td>414</td>\n",
       "      <td>0.987306</td>\n",
       "      <td>BAC45727</td>\n",
       "    </tr>\n",
       "    <tr>\n",
       "      <th>1</th>\n",
       "      <td>1162</td>\n",
       "      <td>1151</td>\n",
       "      <td>11</td>\n",
       "      <td>0.990534</td>\n",
       "      <td>BAC46169</td>\n",
       "    </tr>\n",
       "    <tr>\n",
       "      <th>2</th>\n",
       "      <td>1820064</td>\n",
       "      <td>1797149</td>\n",
       "      <td>22915</td>\n",
       "      <td>0.987410</td>\n",
       "      <td>BAC47034</td>\n",
       "    </tr>\n",
       "    <tr>\n",
       "      <th>3</th>\n",
       "      <td>1939</td>\n",
       "      <td>1924</td>\n",
       "      <td>15</td>\n",
       "      <td>0.992264</td>\n",
       "      <td>BAC47856</td>\n",
       "    </tr>\n",
       "    <tr>\n",
       "      <th>4</th>\n",
       "      <td>3033</td>\n",
       "      <td>2993</td>\n",
       "      <td>40</td>\n",
       "      <td>0.986812</td>\n",
       "      <td>BAC48395</td>\n",
       "    </tr>\n",
       "  </tbody>\n",
       "</table>\n",
       "</div>"
      ],
      "text/plain": [
       "   total_number  cyto_number  nuclei_number     ratio      gene\n",
       "0         32613        32199            414  0.987306  BAC45727\n",
       "1          1162         1151             11  0.990534  BAC46169\n",
       "2       1820064      1797149          22915  0.987410  BAC47034\n",
       "3          1939         1924             15  0.992264  BAC47856\n",
       "4          3033         2993             40  0.986812  BAC48395"
      ]
     },
     "execution_count": 5,
     "metadata": {},
     "output_type": "execute_result"
    }
   ],
   "source": [
    "filename = dst + sample + '_transcripts_metadata.csv'\n",
    "print(filename)\n",
    "if not os.path.isfile(filename):\n",
    "    data = pd.read_csv(osrc + sample + '_data' + os.sep + '32771-slide1_' + sample + '_results.txt', header=None, sep='\\t').drop(columns=[4])\n",
    "    _, orig_size = np.unique(data.iloc[:,-1], return_index = False, return_inverse=False, return_counts=True) \n",
    "    meta = pd.DataFrame()\n",
    "    meta['total_number'] = orig_size\n",
    "    meta['cyto_number'] = tsize\n",
    "    meta['nuclei_number'] = orig_size - tsize\n",
    "    meta['ratio'] = tsize/orig_size\n",
    "    meta['gene'] = transcriptomes\n",
    "    \n",
    "    meta.to_csv(filename, index=False)\n",
    "\n",
    "metatrans = pd.read_csv(filename)\n",
    "metatrans.head()"
   ]
  },
  {
   "cell_type": "markdown",
   "id": "20e97625-6b40-4738-a1c3-6f0124d0be67",
   "metadata": {},
   "source": [
    "Get metadata for every cell and gene\n",
    "\n",
    "- Number of transcripts of a given gene in a given cell"
   ]
  },
  {
   "cell_type": "code",
   "execution_count": 6,
   "id": "a07e06e6-b398-4882-a913-95912245ac06",
   "metadata": {},
   "outputs": [
    {
     "name": "stdout",
     "output_type": "stream",
     "text": [
      "../kde/D2/D2_transcells_metadata.csv\n"
     ]
    },
    {
     "data": {
      "text/html": [
       "<div>\n",
       "<style scoped>\n",
       "    .dataframe tbody tr th:only-of-type {\n",
       "        vertical-align: middle;\n",
       "    }\n",
       "\n",
       "    .dataframe tbody tr th {\n",
       "        vertical-align: top;\n",
       "    }\n",
       "\n",
       "    .dataframe thead th {\n",
       "        text-align: right;\n",
       "    }\n",
       "</style>\n",
       "<table border=\"1\" class=\"dataframe\">\n",
       "  <thead>\n",
       "    <tr style=\"text-align: right;\">\n",
       "      <th></th>\n",
       "      <th>1</th>\n",
       "      <th>2</th>\n",
       "      <th>3</th>\n",
       "      <th>4</th>\n",
       "      <th>5</th>\n",
       "      <th>6</th>\n",
       "      <th>7</th>\n",
       "      <th>8</th>\n",
       "      <th>9</th>\n",
       "      <th>10</th>\n",
       "      <th>...</th>\n",
       "      <th>2929</th>\n",
       "      <th>2930</th>\n",
       "      <th>2931</th>\n",
       "      <th>2932</th>\n",
       "      <th>2933</th>\n",
       "      <th>2934</th>\n",
       "      <th>2935</th>\n",
       "      <th>2936</th>\n",
       "      <th>2937</th>\n",
       "      <th>gene</th>\n",
       "    </tr>\n",
       "  </thead>\n",
       "  <tbody>\n",
       "    <tr>\n",
       "      <th>0</th>\n",
       "      <td>31</td>\n",
       "      <td>0</td>\n",
       "      <td>0</td>\n",
       "      <td>0</td>\n",
       "      <td>0</td>\n",
       "      <td>0</td>\n",
       "      <td>0</td>\n",
       "      <td>0</td>\n",
       "      <td>0</td>\n",
       "      <td>0</td>\n",
       "      <td>...</td>\n",
       "      <td>0</td>\n",
       "      <td>0</td>\n",
       "      <td>0</td>\n",
       "      <td>0</td>\n",
       "      <td>0</td>\n",
       "      <td>0</td>\n",
       "      <td>0</td>\n",
       "      <td>0</td>\n",
       "      <td>0</td>\n",
       "      <td>BAC45727</td>\n",
       "    </tr>\n",
       "    <tr>\n",
       "      <th>1</th>\n",
       "      <td>7</td>\n",
       "      <td>0</td>\n",
       "      <td>0</td>\n",
       "      <td>0</td>\n",
       "      <td>0</td>\n",
       "      <td>0</td>\n",
       "      <td>0</td>\n",
       "      <td>0</td>\n",
       "      <td>1</td>\n",
       "      <td>0</td>\n",
       "      <td>...</td>\n",
       "      <td>0</td>\n",
       "      <td>0</td>\n",
       "      <td>0</td>\n",
       "      <td>0</td>\n",
       "      <td>0</td>\n",
       "      <td>0</td>\n",
       "      <td>0</td>\n",
       "      <td>0</td>\n",
       "      <td>0</td>\n",
       "      <td>BAC46169</td>\n",
       "    </tr>\n",
       "    <tr>\n",
       "      <th>2</th>\n",
       "      <td>859</td>\n",
       "      <td>1</td>\n",
       "      <td>0</td>\n",
       "      <td>1</td>\n",
       "      <td>1</td>\n",
       "      <td>0</td>\n",
       "      <td>0</td>\n",
       "      <td>0</td>\n",
       "      <td>0</td>\n",
       "      <td>0</td>\n",
       "      <td>...</td>\n",
       "      <td>0</td>\n",
       "      <td>1</td>\n",
       "      <td>0</td>\n",
       "      <td>1</td>\n",
       "      <td>0</td>\n",
       "      <td>2</td>\n",
       "      <td>0</td>\n",
       "      <td>0</td>\n",
       "      <td>0</td>\n",
       "      <td>BAC47034</td>\n",
       "    </tr>\n",
       "    <tr>\n",
       "      <th>3</th>\n",
       "      <td>2</td>\n",
       "      <td>0</td>\n",
       "      <td>0</td>\n",
       "      <td>0</td>\n",
       "      <td>0</td>\n",
       "      <td>0</td>\n",
       "      <td>0</td>\n",
       "      <td>0</td>\n",
       "      <td>0</td>\n",
       "      <td>0</td>\n",
       "      <td>...</td>\n",
       "      <td>0</td>\n",
       "      <td>0</td>\n",
       "      <td>0</td>\n",
       "      <td>0</td>\n",
       "      <td>0</td>\n",
       "      <td>0</td>\n",
       "      <td>0</td>\n",
       "      <td>0</td>\n",
       "      <td>0</td>\n",
       "      <td>BAC47856</td>\n",
       "    </tr>\n",
       "    <tr>\n",
       "      <th>4</th>\n",
       "      <td>5</td>\n",
       "      <td>0</td>\n",
       "      <td>0</td>\n",
       "      <td>0</td>\n",
       "      <td>0</td>\n",
       "      <td>0</td>\n",
       "      <td>0</td>\n",
       "      <td>0</td>\n",
       "      <td>0</td>\n",
       "      <td>0</td>\n",
       "      <td>...</td>\n",
       "      <td>0</td>\n",
       "      <td>0</td>\n",
       "      <td>0</td>\n",
       "      <td>0</td>\n",
       "      <td>0</td>\n",
       "      <td>0</td>\n",
       "      <td>0</td>\n",
       "      <td>0</td>\n",
       "      <td>0</td>\n",
       "      <td>BAC48395</td>\n",
       "    </tr>\n",
       "  </tbody>\n",
       "</table>\n",
       "<p>5 rows × 2938 columns</p>\n",
       "</div>"
      ],
      "text/plain": [
       "     1  2  3  4  5  6  7  8  9  10  ...  2929  2930  2931  2932  2933  2934  \\\n",
       "0   31  0  0  0  0  0  0  0  0   0  ...     0     0     0     0     0     0   \n",
       "1    7  0  0  0  0  0  0  0  1   0  ...     0     0     0     0     0     0   \n",
       "2  859  1  0  1  1  0  0  0  0   0  ...     0     1     0     1     0     2   \n",
       "3    2  0  0  0  0  0  0  0  0   0  ...     0     0     0     0     0     0   \n",
       "4    5  0  0  0  0  0  0  0  0   0  ...     0     0     0     0     0     0   \n",
       "\n",
       "   2935  2936  2937      gene  \n",
       "0     0     0     0  BAC45727  \n",
       "1     0     0     0  BAC46169  \n",
       "2     0     0     0  BAC47034  \n",
       "3     0     0     0  BAC47856  \n",
       "4     0     0     0  BAC48395  \n",
       "\n",
       "[5 rows x 2938 columns]"
      ]
     },
     "execution_count": 6,
     "metadata": {},
     "output_type": "execute_result"
    }
   ],
   "source": [
    "filename = dst + sample + '_transcells_metadata.csv'\n",
    "print(filename)\n",
    "if not os.path.isfile(filename):\n",
    "    meta = utils.generate_transcell_metadata(translocs, transcriptomes, cellnum, label)\n",
    "    meta.to_csv(filename, index=False)\n",
    "transcell = pd.read_csv(filename)\n",
    "transcell.head()"
   ]
  },
  {
   "cell_type": "markdown",
   "id": "fad0076b-b545-4770-a18c-0aea250b8fa7",
   "metadata": {},
   "source": [
    "# Find multiple nuclei"
   ]
  },
  {
   "cell_type": "code",
   "execution_count": 6,
   "id": "600e3ec9-ed7e-4995-b008-af5eb023ab70",
   "metadata": {},
   "outputs": [
    {
     "name": "stdout",
     "output_type": "stream",
     "text": [
      "Detected 1365 nuclei\n"
     ]
    }
   ],
   "source": [
    "lnuc, nnuc = ndimage.label(nuclei, ndimage.generate_binary_structure(2,1))\n",
    "nuc_area, _ = np.histogram(lnuc, bins=np.arange(nnuc + 2))\n",
    "nuc_area[0] = 0\n",
    "print('Detected',nnuc,'nuclei')"
   ]
  },
  {
   "cell_type": "code",
   "execution_count": 9,
   "id": "a81abba9-5183-4a0c-82d1-4e85c1812346",
   "metadata": {},
   "outputs": [
    {
     "data": {
      "text/plain": [
       "array([ 1,  4,  6,  9, 10, 11, 12, 13, 14, 15, 18, 21, 36, 46, 52, 53, 57,\n",
       "       68, 70, 71])"
      ]
     },
     "execution_count": 9,
     "metadata": {},
     "output_type": "execute_result"
    }
   ],
   "source": [
    "np.nonzero(metacell['nuclei_area'] > 10)[0][1:21]"
   ]
  },
  {
   "cell_type": "code",
   "execution_count": 22,
   "id": "3950685d-10d5-452e-9480-a978dc24b7b2",
   "metadata": {},
   "outputs": [
    {
     "name": "stdout",
     "output_type": "stream",
     "text": [
      "[1]\t[924]\t[1.]\t[0.97]\n"
     ]
    }
   ],
   "source": [
    "PP = 10\n",
    "min_n_ratio = 0.05\n",
    "max_N_ratio = 0.75\n",
    "\n",
    "i = 11\n",
    "cidx = metacell.iloc[i].name\n",
    "ss = (np.s_[max([0, metacell.loc[cidx, 'y0'] - PP]) : min([wall.shape[0], metacell.loc[cidx, 'y1'] + PP])],\n",
    "      np.s_[max([1, metacell.loc[cidx, 'x0'] - PP]) : min([wall.shape[1], metacell.loc[cidx, 'x1'] + PP])])\n",
    "extent = (ss[1].start, ss[1].stop, ss[0].start, ss[0].stop)\n",
    "cell = wall[ss].copy().astype(np.uint8)\n",
    "cell[ label[ss] == cidx ] = 2\n",
    "cell[~wall[ss]] = 0\n",
    "uq, ct = np.unique(lnuc[ss][ (lnuc[ss] > 0) & (label[ss] == cidx) ], return_counts=True)\n",
    "\n",
    "#number_nuclei[i] = np.sum( ( (ct/np.sum(ct)) > min_n_ratio ) & (ct/nuc_area[uq] > max_N_ratio) )\n",
    "\n",
    "print(uq, ct, np.round(ct/np.sum(ct), 2), np.round(ct/nuc_area[uq], 2),sep='\\t')"
   ]
  },
  {
   "cell_type": "code",
   "execution_count": 23,
   "id": "b37523d4-3d8b-44b0-b6ba-e5d24aab7729",
   "metadata": {},
   "outputs": [
    {
     "data": {
      "image/png": "[encoded data removed]",
      "text/plain": [
       "<Figure size 1000x500 with 2 Axes>"
      ]
     },
     "metadata": {},
     "output_type": "display_data"
    }
   ],
   "source": [
    "im = [cell, nuclei[ss]*(label[ss] == cidx)]\n",
    "\n",
    "fig, ax = plt.subplots(1,len(im), sharex=True, sharey=True, figsize=(5*len(im),5))\n",
    "ax = np.atleast_1d(ax).ravel(); i = 0\n",
    "\n",
    "for i in range(len(im)):\n",
    "    ax[i].imshow(im[i], origin='lower', cmap='plasma', extent=extent, vmin=0)\n",
    "    ax[i].scatter(*metacell.loc[cidx, ['orig_comX', 'orig_comY']].values, c='red', marker='^', s=150)\n",
    "    ax[i].scatter(*metacell.loc[cidx, ['ndimage_comX', 'ndimage_comY']].values, c='gray', marker='v', s=150)\n",
    "fig.tight_layout();"
   ]
  },
  {
   "cell_type": "code",
   "execution_count": 26,
   "id": "3b3f2a36-d50b-4a9a-bdc2-e5d296e4a111",
   "metadata": {},
   "outputs": [],
   "source": [
    "PP = 0\n",
    "min_n_ratio = 0.05\n",
    "max_N_ratio = 0.75\n",
    "\n",
    "number_nuclei = np.zeros(len(metacell), dtype=int)\n",
    "for i in np.nonzero(metacell['nuclei_area'] > 100)[0]:\n",
    "    cidx = metacell.iloc[i].name\n",
    "    ss = (np.s_[max([0, metacell.loc[cidx, 'y0'] - PP]) : min([wall.shape[0], metacell.loc[cidx, 'y1'] + PP])],\n",
    "          np.s_[max([1, metacell.loc[cidx, 'x0'] - PP]) : min([wall.shape[1], metacell.loc[cidx, 'x1'] + PP])])\n",
    "    \n",
    "    uq, ct = np.unique(lnuc[ss][(lnuc[ss] > 0) & (label[ss] == cidx)], return_counts=True)\n",
    "    number_nuclei[i] = np.sum( ( (ct/np.sum(ct)) > min_n_ratio ) & (ct/nuc_area[uq] > max_N_ratio) )"
   ]
  },
  {
   "cell_type": "code",
   "execution_count": 27,
   "id": "663d5e84-ba19-434c-94ab-6bc35cd8ca52",
   "metadata": {},
   "outputs": [
    {
     "data": {
      "text/plain": [
       "array([   9,   70,  106,  123,  125,  127,  149,  156,  159,  162,  171,\n",
       "        173,  183,  215,  257,  265,  266,  282,  286,  306,  342,  344,\n",
       "        346,  349,  358,  367,  403,  419,  420,  430,  443,  450,  462,\n",
       "        488,  513,  522,  528,  574,  643,  671,  685,  694,  765,  780,\n",
       "        789,  838,  842,  887,  915,  981,  992, 1008, 1015, 1021, 1047,\n",
       "       1067, 1119, 1123, 1136, 1148, 1170, 1185, 1305, 1324, 1364, 1380,\n",
       "       1388, 1405, 1504, 1505, 1506, 1520, 1544, 1559, 1604, 1664, 1691,\n",
       "       1709, 1717, 1748, 1753, 1770, 1837, 1852, 1853, 1922, 1991, 1997,\n",
       "       2005, 2143, 2149, 2220, 2306, 2324, 2333, 2357, 2372, 2379, 2392,\n",
       "       2402, 2403, 2441, 2451, 2456, 2469, 2490, 2518, 2532, 2540, 2564,\n",
       "       2574, 2580, 2600, 2628, 2635, 2654, 2657, 2671, 2676, 2694, 2701,\n",
       "       2702, 2737, 2779, 2838, 2883])"
      ]
     },
     "execution_count": 27,
     "metadata": {},
     "output_type": "execute_result"
    }
   ],
   "source": [
    "np.nonzero(number_nuclei > 1)[0]"
   ]
  },
  {
   "cell_type": "code",
   "execution_count": 130,
   "id": "a1081775-e371-4aa1-9eaa-e3860a6f77b1",
   "metadata": {},
   "outputs": [
    {
     "name": "stdout",
     "output_type": "stream",
     "text": [
      "[324 353]\t[4611 3681]\t[0.56 0.44]\t[1. 1.]\t2\n"
     ]
    }
   ],
   "source": [
    "PP = 20\n",
    "cidx = 1+522\n",
    "\n",
    "ss = (np.s_[max([0, metacell.loc[cidx, 'y0'] - PP]) : min([wall.shape[0], metacell.loc[cidx, 'y1'] + PP])],\n",
    "      np.s_[max([1, metacell.loc[cidx, 'x0'] - PP]) : min([wall.shape[1], metacell.loc[cidx, 'x1'] + PP])])\n",
    "extent = (ss[1].start, ss[1].stop, ss[0].start, ss[0].stop)\n",
    "cell = wall[ss].copy().astype(np.uint8)\n",
    "cell[ label[ss] == cidx ] = 2\n",
    "cell[~wall[ss]] = 0\n",
    "uq, ct = np.unique(lnuc[ss][(lnuc[ss] > 0) & (label[ss] == cidx)], return_counts=True)\n",
    "print(uq, ct, np.round(ct/np.sum(ct), 2), np.round(ct/nuc_area[uq], 2), number_nuclei[cidx-1], sep='\\t')"
   ]
  },
  {
   "cell_type": "code",
   "execution_count": 131,
   "id": "d4964de1-b815-40f5-ae2e-c820cfe4ed34",
   "metadata": {},
   "outputs": [
    {
     "data": {
      "image/png": "[encoded data removed]",
      "text/plain": [
       "<Figure size 1000x500 with 2 Axes>"
      ]
     },
     "metadata": {},
     "output_type": "display_data"
    }
   ],
   "source": [
    "im = [cell, nuclei[ss]*(label[ss] == cidx)]\n",
    "\n",
    "fig, ax = plt.subplots(1,len(im), sharex=True, sharey=True, figsize=(5*len(im),5))\n",
    "ax = np.atleast_1d(ax).ravel(); i = 0\n",
    "\n",
    "for i in range(len(im)):\n",
    "    ax[i].imshow(im[i], origin='lower', cmap='plasma', extent=extent, vmin=0)\n",
    "    ax[i].scatter(*metacell.loc[cidx, ['orig_comX', 'orig_comY']].values, c='red', marker='^', s=150)\n",
    "    ax[i].scatter(*metacell.loc[cidx, ['ndimage_comX', 'ndimage_comY']].values, c='gray', marker='v', s=150)\n",
    "fig.tight_layout();"
   ]
  },
  {
   "cell_type": "code",
   "execution_count": null,
   "id": "0ded5b8c-fdfb-4d6d-b871-92ccc2a0590b",
   "metadata": {},
   "outputs": [],
   "source": []
  },
  {
   "cell_type": "code",
   "execution_count": null,
   "id": "257aa569-e7a0-48f6-98d1-4475fcd74ee2",
   "metadata": {},
   "outputs": [],
   "source": []
  },
  {
   "cell_type": "code",
   "execution_count": null,
   "id": "0139b20d-97e0-410f-914c-b72765c17c83",
   "metadata": {},
   "outputs": [],
   "source": []
  }
 ],
 "metadata": {
  "kernelspec": {
   "display_name": "Python 3 (ipykernel)",
   "language": "python",
   "name": "python3"
  },
  "language_info": {
   "codemirror_mode": {
    "name": "ipython",
    "version": 3
   },
   "file_extension": ".py",
   "mimetype": "text/x-python",
   "name": "python",
   "nbconvert_exporter": "python",
   "pygments_lexer": "ipython3",
   "version": "3.10.12"
  }
 },
 "nbformat": 4,
 "nbformat_minor": 5
}
