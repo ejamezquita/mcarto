{
 "cells": [
  {
   "cell_type": "code",
   "execution_count": 1,
   "id": "3f2c96e9-f382-4214-8efe-16d1ead332e6",
   "metadata": {},
   "outputs": [],
   "source": [
    "import numpy as np\n",
    "import pandas as pd\n",
    "import json\n",
    "from glob import glob\n",
    "import os\n",
    "from importlib import reload\n",
    "import utils"
   ]
  },
  {
   "cell_type": "code",
   "execution_count": 2,
   "id": "fc4a7a58-2d03-4a35-9970-36cc94ea3d89",
   "metadata": {},
   "outputs": [],
   "source": [
    "sample = 'D2'\n",
    "\n",
    "wsrc = '../cell_dams/'\n",
    "nsrc = '../nuclear_mask/'\n",
    "tsrc = '../translocs/'\n",
    "ksrc = '../kde/' + sample + os.sep\n",
    "isrc = '..' + os.sep + 'infected_focus_summer24' + os.sep + sample + os.sep\n",
    "geosrc =  '..' + os.sep + 'geometry' + os.sep + sample + os.sep\n",
    "\n",
    "metacell = pd.read_csv(ksrc + sample + '_cells_metadata.csv', index_col='ndimage_cellID')\n",
    "metaecc = pd.read_csv(ksrc + sample + '_nodule_root_eccentricity.csv', index_col='ndimage_cellID')\n",
    "metaecc['eccentricity'] = metaecc['eccentricity'].max() - metaecc['eccentricity'].values\n",
    "\n",
    "metatrans = pd.read_csv(ksrc + sample + '_transcripts_metadata.csv')\n",
    "transcell = pd.read_csv(ksrc + sample + '_transcells_metadata.csv').set_index('gene')\n",
    "cell_nuc = pd.read_csv(ksrc + sample + '_nuclei_limits.csv')\n",
    "cell_nuc.loc[cell_nuc['n_bot'] == 1, 'n_bot'] = 0\n",
    "cell_nuc.loc[cell_nuc['n_top'] == 61, 'n_top'] = 65\n",
    "\n",
    "transcriptomes = np.asarray(list(metatrans['gene']))\n",
    "metatrans = metatrans.set_index('gene')\n",
    "\n",
    "Cells = utils.get_range_cell_values(isrc + 'infected_cells_ids.csv', metacell, startval=1)\n",
    "Cells = np.setdiff1d( Cells, metacell[metacell['number_nuclei'] > 1].index)\n",
    "Genes = utils.get_range_gene_values(isrc + 'genes_to_focus_infection.csv', transcriptomes, startval=0)\n",
    "invGenes = dict(zip(Genes, range(len(Genes))))\n",
    "invCells = dict(zip(Cells, range(len(Cells))))\n",
    "transfocus = transcell.loc[transcriptomes[Genes], Cells.astype(str)]\n",
    "\n",
    "for t in transcriptomes:\n",
    "    if not os.path.isdir(geosrc + t):\n",
    "        os.mkdir(geosrc + t)"
   ]
  },
  {
   "cell_type": "code",
   "execution_count": 42,
   "id": "91bf343e-898b-4544-85d7-e932bc4a009e",
   "metadata": {},
   "outputs": [],
   "source": [
    "for cidx in Cells:\n",
    "    filename = geosrc + 'peripherality_c{:06d}.csv'.format(cidx)\n",
    "    peri = pd.read_csv(filename)\n",
    "    cnames = [ c.split('_-_')[0] for c in peri.columns[1:11] ]\n",
    "    \n",
    "    p1 = peri.iloc[:, 1:11]\n",
    "    p1.columns = cnames\n",
    "    filename = geosrc + '{}/{}_bins_peripherality_c{:06d}.csv'.format(transcriptomes[Genes[0]], KBINS_NO-1, cidx)\n",
    "    p1.to_csv(filename, index = False)\n",
    "    \n",
    "    p2 = peri.iloc[:, 11:]\n",
    "    p2.columns = cnames\n",
    "    filename = geosrc + '{}/{}_bins_peripherality_c{:06d}.csv'.format(transcriptomes[Genes[1]], KBINS_NO-1, cidx)\n",
    "    p2.to_csv(filename, index = False)"
   ]
  },
  {
   "cell_type": "code",
   "execution_count": 43,
   "id": "f6b79db0-6d4a-42a7-8579-7758722b9b06",
   "metadata": {},
   "outputs": [
    {
     "name": "stdout",
     "output_type": "stream",
     "text": [
      "10\t0\n",
      "15\t0\n",
      "20\t0\n",
      "25\t0\n",
      "30\t0\n"
     ]
    }
   ],
   "source": [
    "N = 10\n",
    "for N in [10,15,20,25,30]:\n",
    "    foo = p1['sum_{}'.format(N)]/p1['mean_{}'.format(N)]\n",
    "    foo = np.round(foo.values).astype(int)\n",
    "    print(N, np.sum(foo != peri['count'].values.astype(int)), sep='\\t')"
   ]
  }
 ],
 "metadata": {
  "kernelspec": {
   "display_name": "Python 3 (ipykernel)",
   "language": "python",
   "name": "python3"
  },
  "language_info": {
   "codemirror_mode": {
    "name": "ipython",
    "version": 3
   },
   "file_extension": ".py",
   "mimetype": "text/x-python",
   "name": "python",
   "nbconvert_exporter": "python",
   "pygments_lexer": "ipython3",
   "version": "3.10.12"
  }
 },
 "nbformat": 4,
 "nbformat_minor": 5
}
